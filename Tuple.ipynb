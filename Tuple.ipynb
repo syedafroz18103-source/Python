{
 "cells": [
  {
   "cell_type": "code",
   "execution_count": 1,
   "id": "6c32d4eb-f6c6-4c72-adc2-392ebdb395c8",
   "metadata": {},
   "outputs": [
    {
     "name": "stdout",
     "output_type": "stream",
     "text": [
      "(1, 2, 3, 4, 5, 6, 7, 8, 9, 10)\n"
     ]
    }
   ],
   "source": [
    "#Create a tuple of first 10 natural numbers\n",
    "print(tuple(range(1,11)))"
   ]
  },
  {
   "cell_type": "code",
   "execution_count": 2,
   "id": "d9b529e1-30f1-450e-aaf5-230da85d6aab",
   "metadata": {},
   "outputs": [
    {
     "name": "stdout",
     "output_type": "stream",
     "text": [
      "10\n"
     ]
    }
   ],
   "source": [
    "#Find the length of tuple (1, 2, 3, 4, 5, 6, 7, 8, 9, 10)\n",
    "a=(1, 2, 3, 4, 5, 6, 7, 8, 9, 10)\n",
    "print(len(a))"
   ]
  },
  {
   "cell_type": "code",
   "execution_count": 3,
   "id": "60423561-31ce-4506-b642-80c63c415d1a",
   "metadata": {},
   "outputs": [
    {
     "name": "stdout",
     "output_type": "stream",
     "text": [
      "c\n"
     ]
    }
   ],
   "source": [
    "# Access the 3rd element from tuple ('a', 'b', 'c', 'd', 'e')\n",
    "a= ('a', 'b', 'c', 'd', 'e')\n",
    "print(a[2])"
   ]
  },
  {
   "cell_type": "code",
   "execution_count": 4,
   "id": "ef2f2530-012a-49a8-b8ea-df99b2b916b9",
   "metadata": {},
   "outputs": [
    {
     "name": "stdout",
     "output_type": "stream",
     "text": [
      "89\n"
     ]
    }
   ],
   "source": [
    "#Find the maximum value in tuple (23, 45, 12, 67, 34, 89, 56)\n",
    "s=(23, 45, 12, 67, 34, 89, 56)\n",
    "print(max(s))    "
   ]
  },
  {
   "cell_type": "code",
   "execution_count": 5,
   "id": "3d60ac1a-1fd5-4b37-8fa2-ac138a6dd6fe",
   "metadata": {},
   "outputs": [
    {
     "name": "stdout",
     "output_type": "stream",
     "text": [
      "4\n"
     ]
    }
   ],
   "source": [
    "#Count how many times 5 appears in (1, 5, 2, 5, 3, 5, 4, 5, 6)\n",
    "s=(1, 5, 2, 5, 3, 5, 4, 5, 6)\n",
    "print(s.count(5))"
   ]
  },
  {
   "cell_type": "code",
   "execution_count": 10,
   "id": "9eef5d34-1a76-47fd-8d84-157dfa30ad88",
   "metadata": {},
   "outputs": [
    {
     "name": "stdout",
     "output_type": "stream",
     "text": [
      "(1, 3.2, 'abc', True)\n"
     ]
    }
   ],
   "source": [
    "#Create a tuple of mixed data types (integer, float, string, boolean)\n",
    "s=(1,3.2,\"abc\",True)\n",
    "print(s)"
   ]
  },
  {
   "cell_type": "code",
   "execution_count": 11,
   "id": "e25db4bd-bcae-47b4-b9e3-10908bf6f151",
   "metadata": {},
   "outputs": [
    {
     "name": "stdout",
     "output_type": "stream",
     "text": [
      "1\n"
     ]
    }
   ],
   "source": [
    "#Find the index of element 'python' in ('java', 'python', 'c++', 'javascript')\n",
    "s=('java', 'python', 'c++', 'javascript')\n",
    "print(s.index(\"python\"))"
   ]
  },
  {
   "cell_type": "code",
   "execution_count": 13,
   "id": "b57cfdbf-5716-493a-b184-ecd8b0c7ff38",
   "metadata": {},
   "outputs": [
    {
     "name": "stdout",
     "output_type": "stream",
     "text": [
      "does not exist\n"
     ]
    }
   ],
   "source": [
    "#Check if 25 exists in tuple (10, 20, 30, 40, 50)\n",
    "s=(10,20,30,40,50)\n",
    "for i in s:\n",
    "    if i==25:\n",
    "        print(\"true\")\n",
    "    else:\n",
    "        print(\"does not exist\")\n",
    "        break"
   ]
  },
  {
   "cell_type": "code",
   "execution_count": 17,
   "id": "fd37f701-2e01-4df2-928e-a03d9889e716",
   "metadata": {},
   "outputs": [
    {
     "name": "stdout",
     "output_type": "stream",
     "text": [
      "(2, 4, 6, 8, 10)\n"
     ]
    }
   ],
   "source": [
    "#Create a tuple of first 5 even numbers\n",
    "print((2,4,6,8,10))"
   ]
  },
  {
   "cell_type": "code",
   "execution_count": 18,
   "id": "136287b4-1607-4cc4-80d3-e17bc2abb5ac",
   "metadata": {},
   "outputs": [
    {
     "name": "stdout",
     "output_type": "stream",
     "text": [
      "(2, 4, 6, 8, 10)\n"
     ]
    }
   ],
   "source": [
    "#or\n",
    "s=tuple(range(2,11,2))\n",
    "print(s)"
   ]
  },
  {
   "cell_type": "code",
   "execution_count": 19,
   "id": "8bb7bcc8-f75a-446d-b040-6e635c0e2846",
   "metadata": {},
   "outputs": [
    {
     "name": "stdout",
     "output_type": "stream",
     "text": [
      "(2, 4, 6, 8, 10)\n"
     ]
    }
   ],
   "source": [
    "#or\n",
    "s=tuple([2*i for i in range(1,6)])\n",
    "print(s)"
   ]
  },
  {
   "cell_type": "code",
   "execution_count": 20,
   "id": "528bd014-496b-4526-90ee-2613cbaceb66",
   "metadata": {},
   "outputs": [
    {
     "name": "stdout",
     "output_type": "stream",
     "text": [
      "40\n"
     ]
    }
   ],
   "source": [
    "#Find the average of numbers in tuple (15, 23, 31, 42, 56, 78)\n",
    "s=(15, 23, 31, 42, 56, 78)\n",
    "print(sum(s)//len(s))"
   ]
  },
  {
   "cell_type": "code",
   "execution_count": null,
   "id": "b6227545-9b16-4086-a97e-a65e909d003b",
   "metadata": {},
   "outputs": [],
   "source": []
  }
 ],
 "metadata": {
  "kernelspec": {
   "display_name": "Python 3 (ipykernel)",
   "language": "python",
   "name": "python3"
  },
  "language_info": {
   "codemirror_mode": {
    "name": "ipython",
    "version": 3
   },
   "file_extension": ".py",
   "mimetype": "text/x-python",
   "name": "python",
   "nbconvert_exporter": "python",
   "pygments_lexer": "ipython3",
   "version": "3.13.5"
  }
 },
 "nbformat": 4,
 "nbformat_minor": 5
}
