{
 "cells": [
  {
   "cell_type": "code",
   "execution_count": 4,
   "id": "1ab48e1e-3363-43f4-9ccc-19362b5a944a",
   "metadata": {},
   "outputs": [
    {
     "name": "stdout",
     "output_type": "stream",
     "text": [
      "(5+3j)\n"
     ]
    }
   ],
   "source": [
    "#Create complex number 5 + 3j\n",
    "z=5\n",
    "x=3\n",
    "print(complex(z,x))"
   ]
  },
  {
   "cell_type": "code",
   "execution_count": 6,
   "id": "3a7fec98-bdc1-4c59-8979-993eef224847",
   "metadata": {},
   "outputs": [
    {
     "data": {
      "text/plain": [
       "7.0"
      ]
     },
     "execution_count": 6,
     "metadata": {},
     "output_type": "execute_result"
    }
   ],
   "source": [
    "#Find the real part of complex number 7 - 2j\n",
    "a=7-2j\n",
    "a.real"
   ]
  },
  {
   "cell_type": "code",
   "execution_count": 8,
   "id": "204eacf3-1003-434d-97f3-49113f9c1ec8",
   "metadata": {},
   "outputs": [
    {
     "name": "stdout",
     "output_type": "stream",
     "text": [
      "6.0\n"
     ]
    }
   ],
   "source": [
    "#Find the imaginary part of complex number 4 + 6j\n",
    "a=4+6j\n",
    "print(a.imag)"
   ]
  },
  {
   "cell_type": "code",
   "execution_count": 9,
   "id": "27e45b2a-831e-47f3-bd03-b80739ca0811",
   "metadata": {},
   "outputs": [
    {
     "name": "stdout",
     "output_type": "stream",
     "text": [
      "(4+6j)\n"
     ]
    }
   ],
   "source": [
    "#Add two complex numbers: (3 + 2j) and (1 + 4j)\n",
    "a=3+2j\n",
    "b=1+4j\n",
    "print(a+b)"
   ]
  },
  {
   "cell_type": "code",
   "execution_count": 10,
   "id": "03b6d626-9025-4e44-ba81-4a24c6581e14",
   "metadata": {},
   "outputs": [
    {
     "name": "stdout",
     "output_type": "stream",
     "text": [
      "(-4+7j)\n"
     ]
    }
   ],
   "source": [
    "# Multiply two complex numbers: (2 + 3j) and (1 + 2j)\n",
    "a=2+3j\n",
    "b=1+2j\n",
    "print(a*b)"
   ]
  },
  {
   "cell_type": "code",
   "execution_count": 11,
   "id": "cb2e0fa8-b1b0-426a-b777-7d3ab8ae276c",
   "metadata": {},
   "outputs": [
    {
     "name": "stdout",
     "output_type": "stream",
     "text": [
      "10.0\n"
     ]
    }
   ],
   "source": [
    "#Find the magnitude of complex number 6 + 8j\n",
    "a=6+8j\n",
    "print(abs(a))"
   ]
  },
  {
   "cell_type": "code",
   "execution_count": 13,
   "id": "d084e49d-cc31-439e-bd57-20caf743df14",
   "metadata": {},
   "outputs": [
    {
     "name": "stdout",
     "output_type": "stream",
     "text": [
      "(5+7j)\n"
     ]
    }
   ],
   "source": [
    "# Find the conjugate of complex number 5 - 7j\n",
    "a=5-7j\n",
    "print(a.conjugate())"
   ]
  },
  {
   "cell_type": "code",
   "execution_count": 15,
   "id": "3f6cd3b7-01b4-4cbe-a5d3-93b65693ae5a",
   "metadata": {},
   "outputs": [
    {
     "name": "stdout",
     "output_type": "stream",
     "text": [
      "(7+3j)\n"
     ]
    }
   ],
   "source": [
    "#Subtract complex numbers: (10 + 5j) - (3 + 2j)\n",
    "s=(10 + 5j) - (3 + 2j)\n",
    "print(s)"
   ]
  },
  {
   "cell_type": "code",
   "execution_count": 14,
   "id": "b601f889-ee5f-418b-b2d2-6e28dd880241",
   "metadata": {},
   "outputs": [
    {
     "name": "stdout",
     "output_type": "stream",
     "text": [
      "(4.4+0.8j)\n"
     ]
    }
   ],
   "source": [
    "#Divide complex numbers: (8 + 6j) / (2 + 1j)\n",
    "s=(8 + 6j) / (2 + 1j)\n",
    "print(s)"
   ]
  },
  {
   "cell_type": "code",
   "execution_count": 16,
   "id": "cdd87fcd-c0f6-4975-91eb-b948c3345b3f",
   "metadata": {},
   "outputs": [
    {
     "data": {
      "text/plain": [
       "0.7853981633974483"
      ]
     },
     "execution_count": 16,
     "metadata": {},
     "output_type": "execute_result"
    }
   ],
   "source": [
    "#Find the phase angle of complex number 1 + 1j\n",
    "import cmath\n",
    "s=1+1j\n",
    "a=cmath.phase(s)\n",
    "a"
   ]
  },
  {
   "cell_type": "code",
   "execution_count": null,
   "id": "6d3cdd82-da33-4578-9393-f5de02a3c852",
   "metadata": {},
   "outputs": [],
   "source": []
  }
 ],
 "metadata": {
  "kernelspec": {
   "display_name": "Python 3 (ipykernel)",
   "language": "python",
   "name": "python3"
  },
  "language_info": {
   "codemirror_mode": {
    "name": "ipython",
    "version": 3
   },
   "file_extension": ".py",
   "mimetype": "text/x-python",
   "name": "python",
   "nbconvert_exporter": "python",
   "pygments_lexer": "ipython3",
   "version": "3.13.5"
  }
 },
 "nbformat": 4,
 "nbformat_minor": 5
}
