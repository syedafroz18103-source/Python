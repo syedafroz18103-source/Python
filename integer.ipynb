{
 "cells": [
  {
   "cell_type": "code",
   "execution_count": 7,
   "id": "710514df-3ecb-497d-b178-5f25f162c5fc",
   "metadata": {},
   "outputs": [
    {
     "name": "stdout",
     "output_type": "stream",
     "text": [
      "3628800\n"
     ]
    }
   ],
   "source": [
    "# calculate the product of first 10 natural number\n",
    "p=1\n",
    "for i in range(1,11):\n",
    "    p*=i\n",
    "print(p)"
   ]
  },
  {
   "cell_type": "code",
   "execution_count": 9,
   "id": "609df1ac-852a-4a3a-af82-59a80ced1351",
   "metadata": {},
   "outputs": [
    {
     "name": "stdout",
     "output_type": "stream",
     "text": [
      "2\n"
     ]
    }
   ],
   "source": [
    "#Remainder\n",
    "print(156%7)"
   ]
  },
  {
   "cell_type": "code",
   "execution_count": 10,
   "id": "8453bd1d-f83a-4fb9-8d67-63cd5deba7cb",
   "metadata": {},
   "outputs": [
    {
     "name": "stdout",
     "output_type": "stream",
     "text": [
      "625\n"
     ]
    }
   ],
   "source": [
    "#Square of 25\n",
    "sqr=25**2\n",
    "print(sqr)"
   ]
  },
  {
   "cell_type": "code",
   "execution_count": 12,
   "id": "333e8aa4-6edd-41fb-b44c-365460818894",
   "metadata": {},
   "outputs": [
    {
     "name": "stdout",
     "output_type": "stream",
     "text": [
      "1953125\n"
     ]
    }
   ],
   "source": [
    "#cube root\n",
    "n=125\n",
    "cube_root=n**3\n",
    "print(cube_root)"
   ]
  },
  {
   "cell_type": "code",
   "execution_count": 14,
   "id": "f2934f2d-2cc3-4d7c-a134-5f6b688c6309",
   "metadata": {},
   "outputs": [
    {
     "name": "stdout",
     "output_type": "stream",
     "text": [
      "15\n"
     ]
    }
   ],
   "source": [
    "#Sum of numbers in 12345\n",
    "s=0\n",
    "for i in range(1,6):\n",
    "    s+=i\n",
    "print(s)"
   ]
  },
  {
   "cell_type": "code",
   "execution_count": 56,
   "id": "44adb53c-b39e-4ef5-a43d-515c0b2d540b",
   "metadata": {},
   "outputs": [
    {
     "name": "stdout",
     "output_type": "stream",
     "text": [
      "prime\n"
     ]
    }
   ],
   "source": [
    "#Prime\n",
    "n=97\n",
    "for i in range(2,n):\n",
    "    if n%i==0:\n",
    "        print(\" not prime\")\n",
    "        break\n",
    "else:\n",
    "    print(\"prime\")"
   ]
  },
  {
   "cell_type": "code",
   "execution_count": null,
   "id": "bb75ea3c-6044-4e4d-ba38-b68308629dd9",
   "metadata": {},
   "outputs": [
    {
     "name": "stdout",
     "output_type": "stream",
     "text": [
      "40320\n"
     ]
    }
   ],
   "source": [
    "#Fact\n",
    "n=8\n",
    "fact=1\n",
    "for i in range(1,n+1):\n",
    "    fact*=i\n",
    "print(fact)"
   ]
  },
  {
   "cell_type": "code",
   "execution_count": 3,
   "id": "00c0fa9c-3992-4ee3-9c6e-01c63020d62e",
   "metadata": {},
   "outputs": [
    {
     "name": "stdout",
     "output_type": "stream",
     "text": [
      "33\n"
     ]
    }
   ],
   "source": [
    "#Average\n",
    "n=[15,23,31,42,56]\n",
    "avg=sum(n)//len(n)\n",
    "print(avg)"
   ]
  },
  {
   "cell_type": "code",
   "execution_count": 5,
   "id": "700d01d4-4ddf-4f68-8839-4dd65b3ad9a9",
   "metadata": {},
   "outputs": [
    {
     "name": "stdout",
     "output_type": "stream",
     "text": [
      "12\n"
     ]
    }
   ],
   "source": [
    "#gcd\n",
    "import math\n",
    "a=48\n",
    "b=36\n",
    "r=math.gcd(a,b)\n",
    "print(r)"
   ]
  },
  {
   "cell_type": "code",
   "execution_count": 6,
   "id": "eb2605bf-73bb-4998-8c7a-8eab52f5fc9b",
   "metadata": {},
   "outputs": [
    {
     "name": "stdout",
     "output_type": "stream",
     "text": [
      "400\n"
     ]
    }
   ],
   "source": [
    "#sum of first 20 odd numbers\n",
    "s=0\n",
    "for i in range(1,40,2):\n",
    "    s+=i\n",
    "print(s)"
   ]
  },
  {
   "cell_type": "code",
   "execution_count": null,
   "id": "9e9acbaa-0e36-4bef-a5e9-424696dd9f14",
   "metadata": {},
   "outputs": [],
   "source": []
  }
 ],
 "metadata": {
  "kernelspec": {
   "display_name": "Python 3 (ipykernel)",
   "language": "python",
   "name": "python3"
  },
  "language_info": {
   "codemirror_mode": {
    "name": "ipython",
    "version": 3
   },
   "file_extension": ".py",
   "mimetype": "text/x-python",
   "name": "python",
   "nbconvert_exporter": "python",
   "pygments_lexer": "ipython3",
   "version": "3.13.5"
  }
 },
 "nbformat": 4,
 "nbformat_minor": 5
}
