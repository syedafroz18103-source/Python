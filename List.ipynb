{
 "cells": [
  {
   "cell_type": "code",
   "execution_count": 1,
   "id": "b8276007-aced-4242-9e63-39c8ffb39916",
   "metadata": {},
   "outputs": [
    {
     "name": "stdout",
     "output_type": "stream",
     "text": [
      "[1, 4, 9, 16, 25, 36, 49, 64, 81, 100]\n"
     ]
    }
   ],
   "source": [
    "#Create a list of first 10 square numbers\n",
    "l=[i**2 for i in range(1,11)]\n",
    "print(l)"
   ]
  },
  {
   "cell_type": "code",
   "execution_count": 2,
   "id": "48148ed4-1909-4c70-997b-aad979dfa95f",
   "metadata": {},
   "outputs": [
    {
     "name": "stdout",
     "output_type": "stream",
     "text": [
      "55\n"
     ]
    }
   ],
   "source": [
    "# Find the sum of all even numbers in [1, 2, 3, 4, 5, 6, 7, 8, 9, 10]\n",
    "l=[1, 2, 3, 4, 5, 6, 7, 8, 9, 10]\n",
    "s=0\n",
    "for i in l:\n",
    "    s+=i\n",
    "print(s)"
   ]
  },
  {
   "cell_type": "code",
   "execution_count": 3,
   "id": "94c0fe9d-beec-465f-b627-7c8f385f8ae8",
   "metadata": {},
   "outputs": [
    {
     "name": "stdout",
     "output_type": "stream",
     "text": [
      "[1, 2, 3, 4, 5, 6, 7]\n"
     ]
    }
   ],
   "source": [
    "#Remove duplicates from [1, 2, 2, 3, 4, 4, 5, 6, 6, 7]\n",
    "s= [1, 2, 2, 3, 4, 4, 5, 6, 6, 7]\n",
    "print(list(set(s)))"
   ]
  },
  {
   "cell_type": "code",
   "execution_count": 20,
   "id": "a7f78caf-a520-4ef6-8ade-39bfb891629f",
   "metadata": {},
   "outputs": [
    {
     "name": "stdout",
     "output_type": "stream",
     "text": [
      "[90, 64, 34, 25, 22, 12, 11]\n"
     ]
    }
   ],
   "source": [
    "#Sort the list [64, 34, 25, 12, 22, 11, 90] in descending order\n",
    "s = [64, 34, 25, 12, 22, 11, 90]\n",
    "a=s.sort(reverse=True)\n",
    "print(s)"
   ]
  },
  {
   "cell_type": "code",
   "execution_count": 21,
   "id": "e7706c73-e303-4b86-931a-7c11e8bd5191",
   "metadata": {},
   "outputs": [
    {
     "name": "stdout",
     "output_type": "stream",
     "text": [
      "48\n"
     ]
    }
   ],
   "source": [
    "#Find the average of numbers in [15, 23, 31, 42, 56, 78, 91]\n",
    "s=[15, 23, 31, 42, 56, 78, 91]\n",
    "print(sum(s)//len(s))"
   ]
  },
  {
   "cell_type": "code",
   "execution_count": 27,
   "id": "6483036d-1e7e-464b-ac4c-29dd7cb7d5dc",
   "metadata": {},
   "outputs": [
    {
     "name": "stdout",
     "output_type": "stream",
     "text": [
      "[0, 1, 1, 2, 3, 5, 8, 13, 21, 34, 55, 89, 144, 233, 377]\n"
     ]
    }
   ],
   "source": [
    "#Create a list of first 15 Fibonacci numbers\n",
    "a=13\n",
    "s=[0,1]\n",
    "for i in range(0,a):\n",
    "    f=s[-2] + s[-1]\n",
    "    s.append(f)\n",
    "print(s)"
   ]
  },
  {
   "cell_type": "code",
   "execution_count": 28,
   "id": "922e1e3f-e8b6-4b3c-a3e6-4e5ae709ae9a",
   "metadata": {},
   "outputs": [
    {
     "name": "stdout",
     "output_type": "stream",
     "text": [
      "[0, 1, 1, 2, 3, 5, 8, 13, 21, 34, 55, 89, 144, 233, 377]\n"
     ]
    }
   ],
   "source": [
    "#or\n",
    "a=13\n",
    "s=[0,1]\n",
    "[s.append(s[-2] + s[-1]) for i in range(0,a)]\n",
    "print(s)"
   ]
  },
  {
   "cell_type": "code",
   "execution_count": 29,
   "id": "40cfa855-a472-4a11-8f05-44dfe0e0cee3",
   "metadata": {},
   "outputs": [
    {
     "name": "stdout",
     "output_type": "stream",
     "text": [
      "4\n"
     ]
    }
   ],
   "source": [
    "#Count how many times 5 appears in [1, 5, 2, 5, 3, 5, 4, 5, 6]\n",
    "s=[1, 5, 2, 5, 3, 5, 4, 5, 6]\n",
    "print(s.count(5))"
   ]
  },
  {
   "cell_type": "code",
   "execution_count": 30,
   "id": "5c767bfc-7379-404f-bbbf-03af6fb1b5cc",
   "metadata": {},
   "outputs": [
    {
     "name": "stdout",
     "output_type": "stream",
     "text": [
      "78\n"
     ]
    }
   ],
   "source": [
    "#Find the second largest number in [45, 67, 23, 89, 12, 34, 78]\n",
    "s=[45, 67, 23, 89, 12, 34, 78]\n",
    "a=s.sort()\n",
    "print(s[-2])"
   ]
  },
  {
   "cell_type": "code",
   "execution_count": 31,
   "id": "b72ee94c-15bb-4640-86c0-b9f033f0eaab",
   "metadata": {},
   "outputs": [
    {
     "data": {
      "text/plain": [
       "[10, 9, 8, 7, 6, 5, 4, 3, 2, 1]"
      ]
     },
     "execution_count": 31,
     "metadata": {},
     "output_type": "execute_result"
    }
   ],
   "source": [
    "#Reverse the list [1, 2, 3, 4, 5, 6, 7, 8, 9, 10]\n",
    "s=[1, 2, 3, 4, 5, 6, 7, 8, 9, 10]\n",
    "s.reverse()\n",
    "s"
   ]
  },
  {
   "cell_type": "code",
   "execution_count": 32,
   "id": "c3575845-7b7c-4eee-9258-bfa577db8fe4",
   "metadata": {},
   "outputs": [
    {
     "name": "stdout",
     "output_type": "stream",
     "text": [
      "[10, 9, 8, 7, 6, 5, 4, 3, 2, 1]\n"
     ]
    }
   ],
   "source": [
    "#or\n",
    "s=[1, 2, 3, 4, 5, 6, 7, 8, 9, 10]\n",
    "a=s[::-1]\n",
    "print(a)"
   ]
  },
  {
   "cell_type": "code",
   "execution_count": 39,
   "id": "6d56ae26-e16f-4c9c-8bf7-19f5dc7bf38b",
   "metadata": {},
   "outputs": [
    {
     "name": "stdout",
     "output_type": "stream",
     "text": [
      "[10, 9, 8, 7, 6, 5, 4, 3, 2, 1]\n"
     ]
    }
   ],
   "source": [
    "#or\n",
    "s=[1, 2, 3, 4, 5, 6, 7, 8, 9, 10]\n",
    "a=[]\n",
    "for i in s:\n",
    "    a.insert(0,i)\n",
    "print(a)"
   ]
  },
  {
   "cell_type": "code",
   "execution_count": 53,
   "id": "d059c831-0e56-454f-8c27-37cc47f6430f",
   "metadata": {},
   "outputs": [
    {
     "name": "stdout",
     "output_type": "stream",
     "text": [
      "[2, 3, 5, 7, 11, 13, 17, 19, 23, 29, 31, 37, 41, 43, 47]\n"
     ]
    }
   ],
   "source": [
    "#Create a list of prime numbers between 1 and 50\n",
    "a=1\n",
    "b=51\n",
    "c=[]\n",
    "for i in range(a,b):\n",
    "    if i>1:\n",
    "        for j in range(2,i):\n",
    "            if i%j==0:\n",
    "               break\n",
    "        else:\n",
    "            c.append(i)\n",
    "print(c)"
   ]
  },
  {
   "cell_type": "code",
   "execution_count": 1,
   "id": "0ff41c68-1f1a-44bb-9c1c-9b531debc47e",
   "metadata": {},
   "outputs": [
    {
     "name": "stdout",
     "output_type": "stream",
     "text": [
      "[1, 2, 3, 4, 5, 6, 7, 8, 9]\n"
     ]
    }
   ],
   "source": [
    "#Flatten nested list [[1, 2, 3], [4, 5, 6], [7, 8, 9]]\n",
    "s=[[1, 2, 3], [4, 5, 6], [7, 8, 9]]\n",
    "l=[]\n",
    "for i in s:\n",
    "    l.extend(i)\n",
    "print(l)"
   ]
  },
  {
   "cell_type": "code",
   "execution_count": 2,
   "id": "949ff0a7-c27d-4006-a706-d7c20d587394",
   "metadata": {},
   "outputs": [
    {
     "name": "stdout",
     "output_type": "stream",
     "text": [
      "[4, 5]\n"
     ]
    }
   ],
   "source": [
    "#Find common elements between [1, 2, 3, 4, 5] and [4, 5, 6, 7, 8]\n",
    "s=[1,2,3,4,5]\n",
    "l=[4,5,6,7,8]\n",
    "v=[]\n",
    "for i in s:\n",
    "    for j in l:\n",
    "        if i==j:\n",
    "            v.append(i)\n",
    "print(v)"
   ]
  },
  {
   "cell_type": "code",
   "execution_count": 1,
   "id": "552d1579-ae7f-404f-a330-e544067b854f",
   "metadata": {},
   "outputs": [
    {
     "name": "stdout",
     "output_type": "stream",
     "text": [
      "[[1, 2], [3, 4], [5, 6]]\n"
     ]
    }
   ],
   "source": [
    "#Create a list of lists: [[1, 2], [3, 4], [5, 6]]\n",
    "s=[[1, 2], [3, 4], [5, 6]]\n",
    "print(s)"
   ]
  },
  {
   "cell_type": "code",
   "execution_count": 4,
   "id": "8786c02e-dbc0-4996-bb11-cc58b2ca40be",
   "metadata": {},
   "outputs": [
    {
     "name": "stdout",
     "output_type": "stream",
     "text": [
      "[6, 15, 24]\n"
     ]
    }
   ],
   "source": [
    "#Find the sum of each sublist in [[1, 2, 3], [4, 5, 6], [7, 8, 9]]\n",
    "s=[[1, 2, 3], [4, 5, 6], [7, 8, 9]]\n",
    "l=[sum(i) for i in s]\n",
    "print(l)"
   ]
  },
  {
   "cell_type": "code",
   "execution_count": 12,
   "id": "4f9f9479-b61f-4b73-ad65-fbbfd307b1b5",
   "metadata": {},
   "outputs": [
    {
     "name": "stdout",
     "output_type": "stream",
     "text": [
      "[(1, 4, 7), (2, 5, 8), (3, 6, 9)]\n"
     ]
    }
   ],
   "source": [
    "#Transpose the matrix [[1, 2, 3], [4, 5, 6], [7, 8, 9]]\n",
    "s=[[1, 2, 3], [4, 5, 6], [7, 8, 9]]\n",
    "l=[i for i in zip(*s)]\n",
    "print(l)"
   ]
  },
  {
   "cell_type": "code",
   "execution_count": 11,
   "id": "9eb192e2-ed2e-4693-9af0-8edd264d773c",
   "metadata": {},
   "outputs": [
    {
     "name": "stdout",
     "output_type": "stream",
     "text": [
      "[5, 9, 8]\n"
     ]
    }
   ],
   "source": [
    "#Find the maximum value in each sublist of [[1, 5, 3], [9, 2, 7], [4, 8, 6]]\n",
    "s=[[1, 5, 3], [9, 2, 7], [4, 8, 6]]\n",
    "l=list(map(max,s))\n",
    "print(l)"
   ]
  },
  {
   "cell_type": "code",
   "execution_count": 2,
   "id": "7dbe34a1-699b-45ef-9434-003285e38b7d",
   "metadata": {},
   "outputs": [
    {
     "name": "stdout",
     "output_type": "stream",
     "text": [
      "[[[1, 2], [3, 4]], [[5, 6], [7, 8]]]\n"
     ]
    }
   ],
   "source": [
    "#Create a 3D list: [[[1, 2], [3, 4]], [[5, 6], [7, 8]]]\n",
    "s=[[[1, 2], [3, 4]], [[5, 6], [7, 8]]]\n",
    "print(s)"
   ]
  },
  {
   "cell_type": "code",
   "execution_count": 7,
   "id": "be8a2978-ba69-4c08-9272-519b369a8514",
   "metadata": {},
   "outputs": [
    {
     "name": "stdout",
     "output_type": "stream",
     "text": [
      "[[[1, 2], [3, 4]], [[5, 6], [7, 8]]]\n"
     ]
    }
   ],
   "source": [
    "#Create a 3D list: [[[1, 2], [3, 4]], [[5, 6], [7, 8]]]\n",
    "s=[[[1, 2], [3, 4]], [[5, 6], [7, 8]]]\n",
    "print(s)"
   ]
  },
  {
   "cell_type": "code",
   "execution_count": 6,
   "id": "bdec1a56-6179-4849-a732-c37660f032ee",
   "metadata": {},
   "outputs": [
    {
     "name": "stdout",
     "output_type": "stream",
     "text": [
      "36\n"
     ]
    }
   ],
   "source": [
    "#Find the sum of all elements in 3D list [[[1, 2], [3, 4]], [[5, 6], [7, 8]]]\n",
    "s=[[[1,2],[3,4]],[[5,6],[7,8]]]\n",
    "total = 0\n",
    "\n",
    "for block in s:        \n",
    "    for sub in block:     \n",
    "        for num in sub:  \n",
    "            total += num\n",
    "\n",
    "print(total)"
   ]
  },
  {
   "cell_type": "code",
   "execution_count": 38,
   "id": "1c9f0e05-5e36-4dc2-8629-1c0a2ae91a5e",
   "metadata": {},
   "outputs": [
    {
     "name": "stdout",
     "output_type": "stream",
     "text": [
      "[2, 4, 6, 8]\n"
     ]
    }
   ],
   "source": [
    "#Extract all even numbers from nested list [[1, 2, 3], [4, 5, 6], [7, 8, 9]]\n",
    "s=[[1, 2, 3], [4, 5, 6], [7, 8, 9]]\n",
    "l=[]\n",
    "for i in s:\n",
    "    for j in i:\n",
    "        if j%2==0:\n",
    "            l.append(j)\n",
    "print(l)"
   ]
  },
  {
   "cell_type": "code",
   "execution_count": 8,
   "id": "73bd02e8-177e-4d2f-85f0-037049861743",
   "metadata": {},
   "outputs": [
    {
     "name": "stdout",
     "output_type": "stream",
     "text": [
      "[1, 'hello', 3.14, True, [1, 2, 3]]\n"
     ]
    }
   ],
   "source": [
    "#Create a list of mixed data types: [1, 'hello', 3.14, True, [1, 2, 3]]\n",
    "s= [1, 'hello', 3.14, True, [1, 2, 3]]\n",
    "print(s)"
   ]
  },
  {
   "cell_type": "code",
   "execution_count": 10,
   "id": "e07e2bae-c5d4-4298-84a1-5f09a1a59cf3",
   "metadata": {},
   "outputs": [
    {
     "name": "stdout",
     "output_type": "stream",
     "text": [
      "5 6 6 4 "
     ]
    }
   ],
   "source": [
    "#Find the length of each string in [\"apple\", \"banana\", \"cherry\", \"date\"]\n",
    "s=[\"apple\", \"banana\", \"cherry\", \"date\"]\n",
    "for i in s:\n",
    "    print(len(i),end=\" \")"
   ]
  },
  {
   "cell_type": "code",
   "execution_count": 11,
   "id": "afe8424e-f362-42bb-a626-e53a00ce1ea0",
   "metadata": {},
   "outputs": [
    {
     "name": "stdout",
     "output_type": "stream",
     "text": [
      "[(1, 'a'), (2, 'b'), (3, 'c')]\n"
     ]
    }
   ],
   "source": [
    "#Create a list of tuples: [(1, 'a'), (2, 'b'), (3, 'c')]\n",
    "s=[(1, 'a'), (2, 'b'), (3, 'c')]\n",
    "print(s)"
   ]
  },
  {
   "cell_type": "code",
   "execution_count": 19,
   "id": "36020fb8-4cc1-4a4c-9e33-a5a6deb203b9",
   "metadata": {},
   "outputs": [
    {
     "name": "stdout",
     "output_type": "stream",
     "text": [
      "[1, 2, 3]\n"
     ]
    }
   ],
   "source": [
    "#Extract first element from each tuple in [(1, 'a'), (2, 'b'), (3, 'c')]\n",
    "s= [(1, 'a'), (2, 'b'), (3, 'c')]\n",
    "a=[]\n",
    "for i in s:\n",
    "    a.append(i[0])\n",
    "print(a)"
   ]
  },
  {
   "cell_type": "code",
   "execution_count": 20,
   "id": "05d6d465-0183-4146-b8ff-24e832191131",
   "metadata": {},
   "outputs": [
    {
     "name": "stdout",
     "output_type": "stream",
     "text": [
      "[{'name': 'Alice', 'age': 25}, {'name': 'Bob', 'age': 30}]\n"
     ]
    }
   ],
   "source": [
    "# Create a list of dictionaries: [{'name': 'Alice', 'age': 25}, {'name': 'Bob', 'age': 30}]\n",
    "s=[{'name': 'Alice', 'age': 25}, {'name': 'Bob', 'age': 30}]\n",
    "print(s)"
   ]
  },
  {
   "cell_type": "code",
   "execution_count": 21,
   "id": "c8bcd715-4a67-458d-bdc9-5068fe062d28",
   "metadata": {},
   "outputs": [
    {
     "name": "stdout",
     "output_type": "stream",
     "text": [
      "['Alice', 'Bob']\n"
     ]
    }
   ],
   "source": [
    "#Extract all 'name' values from list of dictionaries [{'name': 'Alice', 'age': 25}, {'name': 'Bob', 'age': 30}]\n",
    "s=[{'name': 'Alice', 'age': 25}, {'name': 'Bob', 'age': 30}]\n",
    "t=[]\n",
    "for i in s:\n",
    "    t.append(i[\"name\"])\n",
    "print(t)"
   ]
  },
  {
   "cell_type": "code",
   "execution_count": 25,
   "id": "0c467192-7092-43ba-aaf5-25ec98eec476",
   "metadata": {},
   "outputs": [
    {
     "name": "stdout",
     "output_type": "stream",
     "text": [
      "Person with max age: Bob\n"
     ]
    }
   ],
   "source": [
    "#Find the person with maximum age in list of dictionaries [{'name': 'Alice', 'age': 25}, {'name': 'Bob', 'age': 30}]\n",
    "s=[{'name': 'Alice', 'age': 25}, {'name': 'Bob', 'age': 30}]\n",
    "ma = s[0]['age']\n",
    "p = s[0]['name']\n",
    "for i in s:\n",
    "    if i['age'] > ma:\n",
    "        ma = i['age']\n",
    "        p= i['name']\n",
    "print(\"Person with max age:\", p)"
   ]
  },
  {
   "cell_type": "code",
   "execution_count": 26,
   "id": "4e26eb52-adfa-4c0e-b99e-1b1902c53f51",
   "metadata": {},
   "outputs": [
    {
     "name": "stdout",
     "output_type": "stream",
     "text": [
      "[[[[1, 2], [3, 4]], [[5, 6], [7, 8]]], [[[9, 10], [11, 12]], [[13, 14], [15, 16]]]]\n"
     ]
    }
   ],
   "source": [
    "#Create a 4D list: [[[[1, 2], [3, 4]], [[5, 6], [7, 8]]], [[[9, 10], [11, 12]], [[13, 14], [15, 16]]]]\n",
    "s=[[[[1, 2], [3, 4]], [[5, 6], [7, 8]]], [[[9, 10], [11, 12]], [[13, 14], [15, 16]]]]\n",
    "print(s)"
   ]
  },
  {
   "cell_type": "code",
   "execution_count": 34,
   "id": "4022c133-d8c0-41fd-8e60-fc120fc6c888",
   "metadata": {},
   "outputs": [
    {
     "name": "stdout",
     "output_type": "stream",
     "text": [
      "16\n"
     ]
    }
   ],
   "source": [
    "#Find the maximum value in 4D list [[[[1, 2], [3, 4]], [[5, 6], [7, 8]]], [[[9, 10], [11, 12]], [[13, 14], [15, 16]]]]\n",
    "s=[[[[1, 2], [3, 4]], [[5, 6], [7, 8]]], [[[9, 10], [11, 12]], [[13, 14], [15, 16]]]]\n",
    "l=list(map(max,s))\n",
    "v=list(map(max,l))\n",
    "a=list(map(max,v))\n",
    "b=a[1]\n",
    "print(b)"
   ]
  },
  {
   "cell_type": "code",
   "execution_count": 36,
   "id": "d3684d3f-321e-4688-a46c-39678ec4af50",
   "metadata": {},
   "outputs": [
    {
     "name": "stdout",
     "output_type": "stream",
     "text": [
      "Maximum value: 16\n"
     ]
    }
   ],
   "source": [
    "#or\n",
    "s= [[[[1, 2], [3, 4]], [[5, 6], [7, 8]]],\n",
    "        [[[9, 10], [11, 12]], [[13, 14], [15, 16]]]]\n",
    "\n",
    "\n",
    "m = s[0][0][0][0]  \n",
    "\n",
    "for i in s:\n",
    "    for j in i:\n",
    "        for k in j:\n",
    "            for l in k:\n",
    "                if l>m:\n",
    "                    m = l\n",
    "\n",
    "print(\"Maximum value:\", m)"
   ]
  },
  {
   "cell_type": "code",
   "execution_count": 37,
   "id": "0a4de79b-abe0-4a1a-abd7-de2f3873d306",
   "metadata": {},
   "outputs": [
    {
     "name": "stdout",
     "output_type": "stream",
     "text": [
      "[{1, 2, 3}, {4, 5, 6}, {8, 9, 7}]\n"
     ]
    }
   ],
   "source": [
    "#Create a list of sets: [{1, 2, 3}, {4, 5, 6}, {7, 8, 9}]\n",
    "s=[{1, 2, 3}, {4, 5, 6}, {7, 8, 9}]\n",
    "print(s)"
   ]
  },
  {
   "cell_type": "code",
   "execution_count": 43,
   "id": "41586c4f-d7c7-46a5-b062-8a93bbd0990f",
   "metadata": {},
   "outputs": [
    {
     "name": "stdout",
     "output_type": "stream",
     "text": [
      "[1, 2, 3, 4, 5, 6, 7, 8, 9]\n"
     ]
    }
   ],
   "source": [
    "#Find the union of all sets in list of sets\n",
    "s=[{1, 2, 3}, {4, 5, 6}, {7, 8, 9}]\n",
    "t=set()\n",
    "for i in s:\n",
    "    t=t.union(i)\n",
    "print(list(t))"
   ]
  },
  {
   "cell_type": "code",
   "execution_count": 44,
   "id": "c54ba4cc-48fe-40ba-9e20-e9c86fb1751a",
   "metadata": {},
   "outputs": [
    {
     "name": "stdout",
     "output_type": "stream",
     "text": [
      "[(1+2j), (3+4j), (5+6j)]\n"
     ]
    }
   ],
   "source": [
    "#Create a list of complex numbers: [1+2j, 3+4j, 5+6j]\n",
    "s=[1+2j, 3+4j, 5+6j]\n",
    "print(s)"
   ]
  },
  {
   "cell_type": "code",
   "execution_count": 50,
   "id": "a858358c-1379-46e7-9ae6-c37e76116654",
   "metadata": {},
   "outputs": [
    {
     "name": "stdout",
     "output_type": "stream",
     "text": [
      "[2.23606797749979, 5.0, 7.810249675906654]\n"
     ]
    }
   ],
   "source": [
    "#Find the magnitude of each complex number in list\n",
    "s=[1+2j, 3+4j, 5+6j]\n",
    "t=[]\n",
    "for i in s:\n",
    "    m=abs(i)\n",
    "    t.append(m)\n",
    "print(t)"
   ]
  },
  {
   "cell_type": "code",
   "execution_count": 51,
   "id": "77009123-28db-44c9-b92d-ef4a3ff69743",
   "metadata": {},
   "outputs": [
    {
     "name": "stdout",
     "output_type": "stream",
     "text": [
      "[2.23606797749979, 5.0, 7.810249675906654]\n"
     ]
    }
   ],
   "source": [
    "#or\n",
    "s=s=[1+2j, 3+4j, 5+6j]\n",
    "m=[abs(i) for i in s]\n",
    "print(m)"
   ]
  },
  {
   "cell_type": "code",
   "execution_count": 53,
   "id": "524a72a2-9542-4ae1-8f24-e704165a4f43",
   "metadata": {},
   "outputs": [
    {
     "name": "stdout",
     "output_type": "stream",
     "text": [
      "[1, [2, 3], [4, [5, 6]], 7]\n"
     ]
    }
   ],
   "source": [
    "#Create a nested list with different levels: [1, [2, 3], [4, [5, 6]], 7]\n",
    "s=[1, [2, 3], [4, [5, 6]], 7]\n",
    "print(s)"
   ]
  },
  {
   "cell_type": "code",
   "execution_count": 56,
   "id": "aecd1921-4014-4378-8646-7a4afff84219",
   "metadata": {},
   "outputs": [
    {
     "ename": "TypeError",
     "evalue": "'list' object is not callable",
     "output_type": "error",
     "traceback": [
      "\u001b[31m---------------------------------------------------------------------------\u001b[39m",
      "\u001b[31mTypeError\u001b[39m                                 Traceback (most recent call last)",
      "\u001b[36mCell\u001b[39m\u001b[36m \u001b[39m\u001b[32mIn[56]\u001b[39m\u001b[32m, line 6\u001b[39m\n\u001b[32m      4\u001b[39m \u001b[38;5;28;01mfor\u001b[39;00m i \u001b[38;5;129;01min\u001b[39;00m s:\n\u001b[32m      5\u001b[39m     \u001b[38;5;28;01mif\u001b[39;00m \u001b[38;5;28misinstance\u001b[39m(i,\u001b[38;5;28mlist\u001b[39m):\n\u001b[32m----> \u001b[39m\u001b[32m6\u001b[39m         depth=\u001b[32m1\u001b[39m+\u001b[43ms\u001b[49m\u001b[43m(\u001b[49m\u001b[43m)\u001b[49m\n\u001b[32m      7\u001b[39m         m=\u001b[38;5;28mmax\u001b[39m(m,depth)\n\u001b[32m      8\u001b[39m \u001b[38;5;28mprint\u001b[39m(m)\n",
      "\u001b[31mTypeError\u001b[39m: 'list' object is not callable"
     ]
    }
   ],
   "source": [
    "#Count the depth of nesting in [1, [2, 3], [4, [5, 6]], 7]\n",
    "s=[1, [2, 3], [4, [5, 6]], 7]\n",
    "m=1\n",
    "for i in s:\n",
    "    if isinstance(i,list):\n",
    "        depth=1+s()\n",
    "        m=max(m,depth)\n",
    "print(m)"
   ]
  },
  {
   "cell_type": "code",
   "execution_count": 57,
   "id": "be540e50-5304-40ea-a6f2-b4f14a30d142",
   "metadata": {},
   "outputs": [
    {
     "name": "stdout",
     "output_type": "stream",
     "text": [
      "[<built-in function len>, <class 'str'>, <class 'int'>, <class 'float'>]\n"
     ]
    }
   ],
   "source": [
    "#Create a list of functions: [len, str, int, float]\n",
    "s=[len, str, int, float]\n",
    "print(s)"
   ]
  },
  {
   "cell_type": "code",
   "execution_count": 59,
   "id": "470ca1e4-516d-474b-b0fe-164d95bbb9e3",
   "metadata": {},
   "outputs": [
    {
     "name": "stdout",
     "output_type": "stream",
     "text": [
      "[3, '123', 123, 123.0]\n"
     ]
    }
   ],
   "source": [
    "# Apply each function in list to string '123'\n",
    "s=[len, str, int, float]\n",
    "a=\"123\"\n",
    "b=[i(a) for i in s]\n",
    "print(b)"
   ]
  },
  {
   "cell_type": "code",
   "execution_count": 60,
   "id": "e9425486-a2fd-429e-b7d7-bff617be45d4",
   "metadata": {},
   "outputs": [
    {
     "name": "stdout",
     "output_type": "stream",
     "text": [
      "[<function <lambda> at 0x000002652B9C9580>, <function <lambda> at 0x000002652B9CA200>, <function <lambda> at 0x000002652B9C82C0>]\n"
     ]
    }
   ],
   "source": [
    "#Create a list of lambda functions: [lambda x: x*2, lambda x: x**2, lambda x: x+1]\n",
    "s=[lambda x: x*2, lambda x: x**2, lambda x: x+1]\n",
    "print(s)"
   ]
  },
  {
   "cell_type": "code",
   "execution_count": 61,
   "id": "d7e8dbb3-9f6a-4cc7-8a7c-858d3c21ed20",
   "metadata": {},
   "outputs": [
    {
     "name": "stdout",
     "output_type": "stream",
     "text": [
      "[10, 25, 6]\n"
     ]
    }
   ],
   "source": [
    "#Apply each lambda function to 5\n",
    "s=[lambda x: x*2, lambda x: x**2, lambda x: x+1]\n",
    "t=[i(5) for i in s]\n",
    "print(t)"
   ]
  },
  {
   "cell_type": "code",
   "execution_count": 62,
   "id": "bd088cea-aa47-4d10-97db-b335ebbd93b5",
   "metadata": {},
   "outputs": [
    {
     "name": "stdout",
     "output_type": "stream",
     "text": [
      "[<class 'list'>, <class 'dict'>, <class 'set'>, <class 'tuple'>]\n"
     ]
    }
   ],
   "source": [
    "#Create a list of classes: [list, dict, set, tuple]\n",
    "s=[list, dict, set, tuple]\n",
    "print(s)"
   ]
  },
  {
   "cell_type": "code",
   "execution_count": 63,
   "id": "3f58790a-eb75-4c66-bc90-cb1e65b0c369",
   "metadata": {},
   "outputs": [
    {
     "name": "stdout",
     "output_type": "stream",
     "text": [
      "[None, None, None, None]\n"
     ]
    }
   ],
   "source": [
    "#Create a list of None values: [None, None, None, None]\n",
    "s=[None, None, None, None]\n",
    "print(s)"
   ]
  },
  {
   "cell_type": "code",
   "execution_count": 64,
   "id": "d44bfe55-62e7-4099-807e-3fa1467d206e",
   "metadata": {},
   "outputs": [
    {
     "name": "stdout",
     "output_type": "stream",
     "text": [
      "[0, 0, 0, 0]\n"
     ]
    }
   ],
   "source": [
    "#Replace all None values with 0 in list\n",
    "s=[None, None, None, None]\n",
    "t=[0 if i is None else i for i in s]\n",
    "print(t)"
   ]
  },
  {
   "cell_type": "code",
   "execution_count": 65,
   "id": "0463ca7d-7a41-49ea-b42e-b6bf053fc399",
   "metadata": {},
   "outputs": [
    {
     "name": "stdout",
     "output_type": "stream",
     "text": [
      "[True, False, True, False]\n"
     ]
    }
   ],
   "source": [
    "#Create a list of boolean values: [True, False, True, False]\n",
    "s=[True, False, True, False]\n",
    "print(s)"
   ]
  },
  {
   "cell_type": "code",
   "execution_count": 67,
   "id": "013eb274-cb0c-4717-8626-41a5ef5ff12e",
   "metadata": {},
   "outputs": [
    {
     "name": "stdout",
     "output_type": "stream",
     "text": [
      "2\n"
     ]
    }
   ],
   "source": [
    "#Count True values in boolean list\n",
    "s=[True, False, True, False]\n",
    "t=sum(s)\n",
    "print(t)"
   ]
  },
  {
   "cell_type": "code",
   "execution_count": 68,
   "id": "6c289573-ec56-4c20-be50-61d9c6c26161",
   "metadata": {},
   "outputs": [
    {
     "name": "stdout",
     "output_type": "stream",
     "text": [
      "[range(0, 3), range(0, 5), range(0, 2)]\n"
     ]
    }
   ],
   "source": [
    "#Create a list of ranges: [range(3), range(5), range(2)]\n",
    "s=[range(3), range(5), range(2)]\n",
    "print(s)"
   ]
  },
  {
   "cell_type": "code",
   "execution_count": 69,
   "id": "9657661a-287a-4491-a8e7-e2f462fa5c6c",
   "metadata": {},
   "outputs": [
    {
     "name": "stdout",
     "output_type": "stream",
     "text": [
      "[[0, 1, 2], [0, 1, 2, 3, 4], [0, 1]]\n"
     ]
    }
   ],
   "source": [
    "#Convert each range to list\n",
    "s=[range(3), range(5), range(2)]\n",
    "t=[list(i) for i in s]\n",
    "print(t)"
   ]
  },
  {
   "cell_type": "code",
   "execution_count": 71,
   "id": "948a5234-062b-45ca-8a42-f95c227b0034",
   "metadata": {},
   "outputs": [
    {
     "name": "stdout",
     "output_type": "stream",
     "text": [
      "[0, 1, 2]\n",
      "[0, 1, 2, 3, 4]\n"
     ]
    }
   ],
   "source": [
    "#Create a list of generators: [(x for x in range(3)), (x for x in range(5))]\n",
    "s=[(x for x in range(3)), (x for x in range(5))]\n",
    "for i in s:\n",
    "    print(list(i))"
   ]
  },
  {
   "cell_type": "code",
   "execution_count": 73,
   "id": "75c33c8f-559b-4cba-800a-a1517260a509",
   "metadata": {},
   "outputs": [
    {
     "name": "stdout",
     "output_type": "stream",
     "text": [
      "[[0, 1, 2], [0, 1, 2, 3, 4]]\n"
     ]
    }
   ],
   "source": [
    "#Convert each generator to list\n",
    "s=[(x for x in range(3)), (x for x in range(5))]\n",
    "t=[]\n",
    "for i in s:\n",
    "    a=list(i)\n",
    "    t.append(a)\n",
    "print(t)"
   ]
  },
  {
   "cell_type": "code",
   "execution_count": 74,
   "id": "31fa6356-5ffd-462a-ae38-8c9c1c978b0c",
   "metadata": {},
   "outputs": [
    {
     "name": "stdout",
     "output_type": "stream",
     "text": [
      "[1, 2, 3]\n",
      "[4, 5, 6]\n"
     ]
    }
   ],
   "source": [
    "#Create a list of iterators: [iter([1, 2, 3]), iter([4, 5, 6])]\n",
    "s=[iter([1, 2, 3]), iter([4, 5, 6])]\n",
    "for i in s:\n",
    "    print(list(i))"
   ]
  },
  {
   "cell_type": "code",
   "execution_count": 81,
   "id": "657ff9d8-838a-45e9-83fe-54763d3f4cae",
   "metadata": {},
   "outputs": [
    {
     "name": "stdout",
     "output_type": "stream",
     "text": [
      "[[1, 2, 3], [4, 5, 6]]\n"
     ]
    }
   ],
   "source": [
    "#Extract all elements from each iterator\n",
    "s=[iter([1, 2, 3]), iter([4, 5, 6])]\n",
    "t=[list(i) for i in s]\n",
    "print(t)"
   ]
  },
  {
   "cell_type": "code",
   "execution_count": null,
   "id": "a521477b-edc3-49f8-983e-15a78a0c614b",
   "metadata": {},
   "outputs": [],
   "source": []
  }
 ],
 "metadata": {
  "kernelspec": {
   "display_name": "Python 3 (ipykernel)",
   "language": "python",
   "name": "python3"
  },
  "language_info": {
   "codemirror_mode": {
    "name": "ipython",
    "version": 3
   },
   "file_extension": ".py",
   "mimetype": "text/x-python",
   "name": "python",
   "nbconvert_exporter": "python",
   "pygments_lexer": "ipython3",
   "version": "3.13.5"
  }
 },
 "nbformat": 4,
 "nbformat_minor": 5
}
