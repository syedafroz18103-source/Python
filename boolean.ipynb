{
 "cells": [
  {
   "cell_type": "code",
   "execution_count": 1,
   "id": "85303440-539e-41b3-a771-f4379ec709cb",
   "metadata": {},
   "outputs": [
    {
     "name": "stdout",
     "output_type": "stream",
     "text": [
      "True\n"
     ]
    }
   ],
   "source": [
    "#Check if 25 is greater than 20 and less than 30\n",
    "print(25>20 and 25<30)"
   ]
  },
  {
   "cell_type": "code",
   "execution_count": 3,
   "id": "43344506-7267-4a8b-97ec-6a0339f6ae2d",
   "metadata": {},
   "outputs": [
    {
     "name": "stdout",
     "output_type": "stream",
     "text": [
      "True\n"
     ]
    }
   ],
   "source": [
    "#or\n",
    "print(30>25>20)"
   ]
  },
  {
   "cell_type": "code",
   "execution_count": 5,
   "id": "fd719f88-17b8-4c68-9878-718311e54f33",
   "metadata": {},
   "outputs": [
    {
     "name": "stdout",
     "output_type": "stream",
     "text": [
      "True\n"
     ]
    }
   ],
   "source": [
    "#Check if string 'python' is equal to 'Python' (case sensitive)\n",
    "print(\"python\"==\"python\")"
   ]
  },
  {
   "cell_type": "code",
   "execution_count": 6,
   "id": "75b1ece8-cdbb-480d-b273-a0f8bacce36f",
   "metadata": {},
   "outputs": [
    {
     "name": "stdout",
     "output_type": "stream",
     "text": [
      "True\n"
     ]
    }
   ],
   "source": [
    "#Check if 15 is divisible by both 3 and 5\n",
    "print(15%3==0 and 15%5==0)"
   ]
  },
  {
   "cell_type": "code",
   "execution_count": 14,
   "id": "29087231-c451-470e-a5bc-d5acc80f3346",
   "metadata": {},
   "outputs": [
    {
     "name": "stdout",
     "output_type": "stream",
     "text": [
      "True\n"
     ]
    }
   ],
   "source": [
    "# Check if 7 is not equal to 8\n",
    "print(7!=8)"
   ]
  },
  {
   "cell_type": "code",
   "execution_count": 8,
   "id": "0036b980-be1a-4008-a65c-50baa3c06f9b",
   "metadata": {},
   "outputs": [
    {
     "name": "stdout",
     "output_type": "stream",
     "text": [
      "True\n"
     ]
    }
   ],
   "source": [
    "# Check if 100 is greater than 50 or less than 25\n",
    "print(100>50 or 100<25)"
   ]
  },
  {
   "cell_type": "code",
   "execution_count": 12,
   "id": "2a94e51a-c1db-4d41-bd46-7ad120db6ace",
   "metadata": {},
   "outputs": [
    {
     "name": "stdout",
     "output_type": "stream",
     "text": [
      "False\n"
     ]
    }
   ],
   "source": [
    "#Check if 0 is falsy in Python\n",
    "a=0\n",
    "r=bool(a)\n",
    "print(r)"
   ]
  },
  {
   "cell_type": "code",
   "execution_count": 13,
   "id": "80303ddc-afba-4dc7-b493-61ba4659e15a",
   "metadata": {},
   "outputs": [
    {
     "name": "stdout",
     "output_type": "stream",
     "text": [
      "False\n"
     ]
    }
   ],
   "source": [
    "#Check if empty string '' is falsy in Python\n",
    "s=\"\"\n",
    "t=bool(s)\n",
    "print(t)"
   ]
  },
  {
   "cell_type": "code",
   "execution_count": 15,
   "id": "510d08e9-9aae-4eeb-a948-208fbac0ef7e",
   "metadata": {},
   "outputs": [
    {
     "name": "stdout",
     "output_type": "stream",
     "text": [
      "True\n"
     ]
    }
   ],
   "source": [
    "# Check if 42 is truthy in Python\n",
    "s=42\n",
    "r=bool(s)\n",
    "print(r)"
   ]
  },
  {
   "cell_type": "code",
   "execution_count": 16,
   "id": "03c15011-3a02-437f-bba7-b062f515c3ef",
   "metadata": {},
   "outputs": [
    {
     "name": "stdout",
     "output_type": "stream",
     "text": [
      "True\n"
     ]
    }
   ],
   "source": [
    "#Check if 10 is between 5 and 15 (inclusive)\n",
    "s=10\n",
    "print(s in range(5,16))"
   ]
  },
  {
   "cell_type": "code",
   "execution_count": 17,
   "id": "735ca2f6-0e03-4995-ab81-5c4eb3f831ca",
   "metadata": {},
   "outputs": [
    {
     "name": "stdout",
     "output_type": "stream",
     "text": [
      "True\n"
     ]
    }
   ],
   "source": [
    "#Check if 3.14 is greater than 3 and less than 4\n",
    "print(3.14>3 and 3.14<4)"
   ]
  },
  {
   "cell_type": "code",
   "execution_count": null,
   "id": "cad38ac1-8dc2-4e0f-b945-d79f094ee238",
   "metadata": {},
   "outputs": [],
   "source": []
  }
 ],
 "metadata": {
  "kernelspec": {
   "display_name": "Python 3 (ipykernel)",
   "language": "python",
   "name": "python3"
  },
  "language_info": {
   "codemirror_mode": {
    "name": "ipython",
    "version": 3
   },
   "file_extension": ".py",
   "mimetype": "text/x-python",
   "name": "python",
   "nbconvert_exporter": "python",
   "pygments_lexer": "ipython3",
   "version": "3.13.5"
  }
 },
 "nbformat": 4,
 "nbformat_minor": 5
}
