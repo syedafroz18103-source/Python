{
 "cells": [
  {
   "cell_type": "code",
   "execution_count": 1,
   "id": "5965ec71-3c26-43d8-911a-5490fd28c3b4",
   "metadata": {},
   "outputs": [
    {
     "data": {
      "text/plain": [
       "array([[1., 0., 0., 0.],\n",
       "       [0., 1., 0., 0.],\n",
       "       [0., 0., 1., 0.],\n",
       "       [0., 0., 0., 1.]])"
      ]
     },
     "execution_count": 1,
     "metadata": {},
     "output_type": "execute_result"
    }
   ],
   "source": [
    "#Q1.1: Create a 4x4 identity matrix using np.eye()\n",
    "import numpy as np\n",
    "s=np.eye(4)\n",
    "s"
   ]
  },
  {
   "cell_type": "code",
   "execution_count": 3,
   "id": "f2c68602-57c3-4eb8-ab84-c232aba39429",
   "metadata": {},
   "outputs": [
    {
     "name": "stdout",
     "output_type": "stream",
     "text": [
      "[0. 0. 0. 0. 0. 0. 0. 0.]\n"
     ]
    }
   ],
   "source": [
    "# Q1.2: Create an array of 8 zeros using np.zeros()\n",
    "a= np.zeros(8)\n",
    "print(a)"
   ]
  },
  {
   "cell_type": "code",
   "execution_count": 4,
   "id": "e7265cf9-7a8f-451a-95a3-8ba4fe7a99ef",
   "metadata": {},
   "outputs": [
    {
     "data": {
      "text/plain": [
       "array([1., 1., 1., 1., 1., 1.])"
      ]
     },
     "execution_count": 4,
     "metadata": {},
     "output_type": "execute_result"
    }
   ],
   "source": [
    "# Q1.3: Create an array of 6 ones using np.ones()\n",
    "a=np.ones(6)\n",
    "a"
   ]
  },
  {
   "cell_type": "code",
   "execution_count": 5,
   "id": "59d2bac1-ff0e-41df-bcd1-9ee5eb233416",
   "metadata": {},
   "outputs": [
    {
     "name": "stdout",
     "output_type": "stream",
     "text": [
      "[ 0  1  2  3  4  5  6  7  8  9 10 11 12 13 14 15]\n"
     ]
    }
   ],
   "source": [
    "# Q1.4: Create an array with values from 0 to 15 using np.arange()\n",
    "array = np.arange(0,16)\n",
    "print(array)"
   ]
  },
  {
   "cell_type": "code",
   "execution_count": 6,
   "id": "c58d92e8-9980-428c-a1ec-5a8a20960ffa",
   "metadata": {},
   "outputs": [
    {
     "name": "stdout",
     "output_type": "stream",
     "text": [
      "[  0.          14.28571429  28.57142857  42.85714286  57.14285714\n",
      "  71.42857143  85.71428571 100.        ]\n"
     ]
    }
   ],
   "source": [
    "# Q1.5: Create an array with 8 evenly spaced values from 0 to 100 using np.linspace()\n",
    "a=np.linspace(0,100,8)\n",
    "print(a)"
   ]
  },
  {
   "cell_type": "code",
   "execution_count": 7,
   "id": "2a4f50bf-bcc1-4892-99d4-e0c09053c096",
   "metadata": {},
   "outputs": [],
   "source": [
    "# Question 2: Array Attributes and Information"
   ]
  },
  {
   "cell_type": "code",
   "execution_count": 2,
   "id": "c416b20d-12ed-4a87-96ce-842a0a9190be",
   "metadata": {},
   "outputs": [
    {
     "name": "stdout",
     "output_type": "stream",
     "text": [
      "[[    1 26000   310  1200    10]\n",
      " [    2 33000   460  1500    15]\n",
      " [    3 23000   350  1100     8]\n",
      " [    4 48000   520  1600    20]\n",
      " [    5 24000   430  1400    12]\n",
      " [    6 28000   340  1300     9]\n",
      " [    7 33000   470  1700    18]\n",
      " [    8 37000   430  1250    14]\n",
      " [    9 45000   560  1800    25]\n",
      " [   10 31000   430  1450    11]]\n"
     ]
    }
   ],
   "source": [
    "#Q2.1: What is the shape of the banking_data array?\n",
    "# Customer_ID, Account_Balance, Credit_Score, Transaction_Count, Years_Active\n",
    "bd=np.array([\n",
    "    [1, 26000, 310, 1200, 10],\n",
    "    [2, 33000, 460, 1500, 15],\n",
    "    [3, 23000, 350, 1100, 8],\n",
    "    [4, 48000, 520, 1600, 20],\n",
    "    [5, 24000, 430, 1400, 12],\n",
    "    [6, 28000, 340, 1300, 9],\n",
    "    [7, 33000, 470, 1700, 18],\n",
    "    [8, 37000, 430, 1250, 14],\n",
    "    [9, 45000, 560, 1800, 25],\n",
    "    [10, 31000, 430, 1450, 11]\n",
    "])\n",
    "print(bd)"
   ]
  },
  {
   "cell_type": "code",
   "execution_count": 12,
   "id": "986f4dbf-513b-4456-be0c-f69dfd600a67",
   "metadata": {},
   "outputs": [
    {
     "data": {
      "text/plain": [
       "(10, 5)"
      ]
     },
     "execution_count": 12,
     "metadata": {},
     "output_type": "execute_result"
    }
   ],
   "source": [
    "bd.shape"
   ]
  },
  {
   "cell_type": "code",
   "execution_count": 13,
   "id": "a1729ccc-b701-456d-8dce-dd9d98d777b1",
   "metadata": {},
   "outputs": [
    {
     "data": {
      "text/plain": [
       "dtype('int64')"
      ]
     },
     "execution_count": 13,
     "metadata": {},
     "output_type": "execute_result"
    }
   ],
   "source": [
    "#Q2.2: What is the data type of the banking_data array?\n",
    "bd.dtype"
   ]
  },
  {
   "cell_type": "code",
   "execution_count": 14,
   "id": "a2df6770-4888-4dbc-b0be-36ff668db73a",
   "metadata": {},
   "outputs": [
    {
     "data": {
      "text/plain": [
       "50"
      ]
     },
     "execution_count": 14,
     "metadata": {},
     "output_type": "execute_result"
    }
   ],
   "source": [
    "#Q2.3: What is the size (total number of elements) of the banking_data array?\n",
    "bd.size"
   ]
  },
  {
   "cell_type": "code",
   "execution_count": 15,
   "id": "9c903306-5d96-46cc-a2de-73a50e76af5d",
   "metadata": {},
   "outputs": [
    {
     "data": {
      "text/plain": [
       "2"
      ]
     },
     "execution_count": 15,
     "metadata": {},
     "output_type": "execute_result"
    }
   ],
   "source": [
    "#Q2.4: What is the number of dimensions of the banking_data array?\n",
    "bd.ndim"
   ]
  },
  {
   "cell_type": "code",
   "execution_count": 17,
   "id": "c7588720-b1ec-4fe6-875e-43c69b125334",
   "metadata": {},
   "outputs": [
    {
     "data": {
      "text/plain": [
       "400"
      ]
     },
     "execution_count": 17,
     "metadata": {},
     "output_type": "execute_result"
    }
   ],
   "source": [
    "#Q2.5: What is the memory size of the banking_data array in bytes?\n",
    "bd.nbytes"
   ]
  },
  {
   "cell_type": "markdown",
   "id": "958a6f06-918c-4e99-be72-ea73f79e976d",
   "metadata": {},
   "source": [
    "Q 3:Indexing and slicing\n"
   ]
  },
  {
   "cell_type": "code",
   "execution_count": 21,
   "id": "f11e1a96-42fe-4ee9-97cd-591a1e2588e9",
   "metadata": {},
   "outputs": [
    {
     "data": {
      "text/plain": [
       "array([    1, 26000,   310,  1200,    10])"
      ]
     },
     "execution_count": 21,
     "metadata": {},
     "output_type": "execute_result"
    }
   ],
   "source": [
    "#Q3.1: Extract the first row of banking_data\n",
    "bd[0]"
   ]
  },
  {
   "cell_type": "code",
   "execution_count": 19,
   "id": "45c0349e-2771-439a-888b-5b3aa41be642",
   "metadata": {},
   "outputs": [
    {
     "data": {
      "text/plain": [
       "array([   10, 31000,   430,  1450,    11])"
      ]
     },
     "execution_count": 19,
     "metadata": {},
     "output_type": "execute_result"
    }
   ],
   "source": [
    "#Q3.2: Extract the last row of banking_data\n",
    "bd[-1]"
   ]
  },
  {
   "cell_type": "code",
   "execution_count": 29,
   "id": "52f712d7-fbba-4362-a917-0f66cc3f4858",
   "metadata": {},
   "outputs": [
    {
     "data": {
      "text/plain": [
       "array([26000, 33000, 23000, 48000, 24000, 28000, 33000, 37000, 45000,\n",
       "       31000])"
      ]
     },
     "execution_count": 29,
     "metadata": {},
     "output_type": "execute_result"
    }
   ],
   "source": [
    "#Q3.3: Extract the Account_Balance column (column index 1)\n",
    "bd[:,1]"
   ]
  },
  {
   "cell_type": "code",
   "execution_count": 30,
   "id": "b7fb4d6d-97be-42ed-8ff1-cce6d012021a",
   "metadata": {},
   "outputs": [
    {
     "data": {
      "text/plain": [
       "array([[    1, 26000,   310],\n",
       "       [    2, 33000,   460],\n",
       "       [    3, 23000,   350],\n",
       "       [    4, 48000,   520]])"
      ]
     },
     "execution_count": 30,
     "metadata": {},
     "output_type": "execute_result"
    }
   ],
   "source": [
    "#Q3.4: Extract the first 4 rows and first 3 columns\n",
    "bd[:4,:3]"
   ]
  },
  {
   "cell_type": "code",
   "execution_count": 31,
   "id": "d0340cda-048b-4451-aa7a-81a805bb9f51",
   "metadata": {},
   "outputs": [
    {
     "data": {
      "text/plain": [
       "array([[    4, 48000,   520,  1600,    20],\n",
       "       [    5, 24000,   430,  1400,    12],\n",
       "       [    6, 28000,   340,  1300,     9],\n",
       "       [    7, 33000,   470,  1700,    18],\n",
       "       [    8, 37000,   430,  1250,    14]])"
      ]
     },
     "execution_count": 31,
     "metadata": {},
     "output_type": "execute_result"
    }
   ],
   "source": [
    "#Q3.5: Extract rows 3 to 7 (inclusive)\n",
    "bd[3:8]"
   ]
  },
  {
   "cell_type": "markdown",
   "id": "299627c4-a0e0-45e7-865e-b6c380b1c8b3",
   "metadata": {},
   "source": [
    "\n",
    "Question 4: Mathematical Operations"
   ]
  },
  {
   "cell_type": "code",
   "execution_count": 32,
   "id": "ba2fd210-8d86-417e-a4bd-bf01938f2f7e",
   "metadata": {},
   "outputs": [
    {
     "data": {
      "text/plain": [
       "array([[    1, 26000,   310,  1200,    10],\n",
       "       [    2, 33000,   460,  1500,    15],\n",
       "       [    3, 23000,   350,  1100,     8],\n",
       "       [    4, 48000,   520,  1600,    20],\n",
       "       [    5, 24000,   430,  1400,    12],\n",
       "       [    6, 28000,   340,  1300,     9],\n",
       "       [    7, 33000,   470,  1700,    18],\n",
       "       [    8, 37000,   430,  1250,    14],\n",
       "       [    9, 45000,   560,  1800,    25],\n",
       "       [   10, 31000,   430,  1450,    11]])"
      ]
     },
     "execution_count": 32,
     "metadata": {},
     "output_type": "execute_result"
    }
   ],
   "source": [
    "#Q4.1: Calculate the sum of all account balances\n",
    "bd"
   ]
  },
  {
   "cell_type": "code",
   "execution_count": 33,
   "id": "64c0857e-f353-4dd6-86f4-63685d4e2985",
   "metadata": {},
   "outputs": [
    {
     "data": {
      "text/plain": [
       "np.int64(328000)"
      ]
     },
     "execution_count": 33,
     "metadata": {},
     "output_type": "execute_result"
    }
   ],
   "source": [
    "bd[:,1].sum()"
   ]
  },
  {
   "cell_type": "code",
   "execution_count": 34,
   "id": "afe9b823-375c-4abb-8f43-1c111c214ba6",
   "metadata": {},
   "outputs": [
    {
     "data": {
      "text/plain": [
       "np.float64(32800.0)"
      ]
     },
     "execution_count": 34,
     "metadata": {},
     "output_type": "execute_result"
    }
   ],
   "source": [
    "#Q4.2: Calculate the mean account balance\n",
    "bd[:,1].mean()"
   ]
  },
  {
   "cell_type": "code",
   "execution_count": 35,
   "id": "0d603976-4f9b-47ed-bc51-ee3899e65fc8",
   "metadata": {},
   "outputs": [
    {
     "data": {
      "text/plain": [
       "np.float64(8022.468448052632)"
      ]
     },
     "execution_count": 35,
     "metadata": {},
     "output_type": "execute_result"
    }
   ],
   "source": [
    "#Q4.3: Calculate the standard deviation of account balances\n",
    "bd[:,1].std()"
   ]
  },
  {
   "cell_type": "code",
   "execution_count": 36,
   "id": "fd8d0976-a92b-4d80-9562-86ea2e4c96ac",
   "metadata": {},
   "outputs": [
    {
     "data": {
      "text/plain": [
       "np.float64(64360000.0)"
      ]
     },
     "execution_count": 36,
     "metadata": {},
     "output_type": "execute_result"
    }
   ],
   "source": [
    "#Q4.4: Calculate the variance of account balances\n",
    "bd[:,1].var()"
   ]
  },
  {
   "cell_type": "code",
   "execution_count": 39,
   "id": "fdad37c4-8e93-4d8f-b5b2-adf8499a7d12",
   "metadata": {},
   "outputs": [
    {
     "data": {
      "text/plain": [
       "np.float64(32000.0)"
      ]
     },
     "execution_count": 39,
     "metadata": {},
     "output_type": "execute_result"
    }
   ],
   "source": [
    "#Q4.5: Calculate the median account balance\n",
    "s=bd[:,1]\n",
    "t=np.median(s)\n",
    "t"
   ]
  },
  {
   "cell_type": "markdown",
   "id": "5a15f0b6-87f8-4686-b598-962f804f25de",
   "metadata": {},
   "source": [
    "\n",
    "Question 5: Statistical Functions"
   ]
  },
  {
   "cell_type": "code",
   "execution_count": 44,
   "id": "cfc68070-c5a5-4b29-be0a-515b8b0be3e1",
   "metadata": {},
   "outputs": [
    {
     "data": {
      "text/plain": [
       "array([[    1, 26000,   310,  1200,    10],\n",
       "       [    2, 33000,   460,  1500,    15],\n",
       "       [    3, 23000,   350,  1100,     8],\n",
       "       [    4, 48000,   520,  1600,    20],\n",
       "       [    5, 24000,   430,  1400,    12],\n",
       "       [    6, 28000,   340,  1300,     9],\n",
       "       [    7, 33000,   470,  1700,    18],\n",
       "       [    8, 37000,   430,  1250,    14],\n",
       "       [    9, 45000,   560,  1800,    25],\n",
       "       [   10, 31000,   430,  1450,    11]])"
      ]
     },
     "execution_count": 44,
     "metadata": {},
     "output_type": "execute_result"
    }
   ],
   "source": [
    "bd"
   ]
  },
  {
   "cell_type": "code",
   "execution_count": 42,
   "id": "a17dd035-94be-4ca2-8a79-14422812b7bc",
   "metadata": {},
   "outputs": [
    {
     "name": "stdout",
     "output_type": "stream",
     "text": [
      "23000\n",
      "48000\n"
     ]
    }
   ],
   "source": [
    "#Q5.1: Find the minimum and maximum account balances\n",
    "a=bd[:,1]\n",
    "print(a.min())\n",
    "print(a.max())"
   ]
  },
  {
   "cell_type": "code",
   "execution_count": 43,
   "id": "d5a4b7d9-6773-4f45-b1f8-253abe1a1836",
   "metadata": {},
   "outputs": [
    {
     "name": "stdout",
     "output_type": "stream",
     "text": [
      "310\n",
      "560\n"
     ]
    }
   ],
   "source": [
    "#Q5.2: Find the minimum and maximum credit scores\n",
    "a=bd[:,2]\n",
    "print(a.min())\n",
    "print(a.max())"
   ]
  },
  {
   "cell_type": "code",
   "execution_count": 45,
   "id": "95dc8ed1-cce3-400f-a6db-b798bb9813bc",
   "metadata": {},
   "outputs": [
    {
     "name": "stdout",
     "output_type": "stream",
     "text": [
      "[26500. 32000. 36000.]\n"
     ]
    }
   ],
   "source": [
    "#Q5.3: Calculate the percentile values for account balances (25th, 50th, 75th)\n",
    "s=np.percentile(bd[:,1],[25,50,75])\n",
    "print(s)"
   ]
  },
  {
   "cell_type": "code",
   "execution_count": 46,
   "id": "2da59049-6e02-4360-beed-b4cd5cdc7bb2",
   "metadata": {},
   "outputs": [
    {
     "data": {
      "text/plain": [
       "array([[1.        , 0.82989364],\n",
       "       [0.82989364, 1.        ]])"
      ]
     },
     "execution_count": 46,
     "metadata": {},
     "output_type": "execute_result"
    }
   ],
   "source": [
    "#Q5.4: Calculate the correlation between account balance and credit score\n",
    "a=bd[:,1]\n",
    "c=bd[:,2]\n",
    "np.corrcoef(a,c)"
   ]
  },
  {
   "cell_type": "code",
   "execution_count": 47,
   "id": "61645a52-ae7f-4030-a30c-7974091238a1",
   "metadata": {},
   "outputs": [
    {
     "data": {
      "text/plain": [
       "array([[7.15111111e+07, 5.55555556e+05],\n",
       "       [5.55555556e+05, 6.26666667e+03]])"
      ]
     },
     "execution_count": 47,
     "metadata": {},
     "output_type": "execute_result"
    }
   ],
   "source": [
    "#Q5.5: Calculate the covariance between account balance and credit score\n",
    "a=bd[:,1]\n",
    "c=bd[:,2]\n",
    "np.cov(a,c)"
   ]
  },
  {
   "cell_type": "markdown",
   "id": "7e265739-6557-4df7-8b66-231c013d5de3",
   "metadata": {},
   "source": [
    "\n",
    "Array Reshaping and Manipulation\n"
   ]
  },
  {
   "cell_type": "code",
   "execution_count": 48,
   "id": "8a5bf16a-fd3a-4ea7-a8cd-b1587e4f3d15",
   "metadata": {},
   "outputs": [
    {
     "data": {
      "text/plain": [
       "array([[    1, 26000,   310,  1200,    10],\n",
       "       [    2, 33000,   460,  1500,    15],\n",
       "       [    3, 23000,   350,  1100,     8],\n",
       "       [    4, 48000,   520,  1600,    20],\n",
       "       [    5, 24000,   430,  1400,    12],\n",
       "       [    6, 28000,   340,  1300,     9],\n",
       "       [    7, 33000,   470,  1700,    18],\n",
       "       [    8, 37000,   430,  1250,    14],\n",
       "       [    9, 45000,   560,  1800,    25],\n",
       "       [   10, 31000,   430,  1450,    11]])"
      ]
     },
     "execution_count": 48,
     "metadata": {},
     "output_type": "execute_result"
    }
   ],
   "source": [
    "#Q6.1: Reshape the banking_data to 5 rows × 10 columns\n",
    "bd"
   ]
  },
  {
   "cell_type": "code",
   "execution_count": 49,
   "id": "b9e90a4e-3ee1-4298-9dae-38366ac59b45",
   "metadata": {},
   "outputs": [
    {
     "data": {
      "text/plain": [
       "array([[    1, 26000,   310,  1200,    10,     2, 33000,   460,  1500,\n",
       "           15],\n",
       "       [    3, 23000,   350,  1100,     8,     4, 48000,   520,  1600,\n",
       "           20],\n",
       "       [    5, 24000,   430,  1400,    12,     6, 28000,   340,  1300,\n",
       "            9],\n",
       "       [    7, 33000,   470,  1700,    18,     8, 37000,   430,  1250,\n",
       "           14],\n",
       "       [    9, 45000,   560,  1800,    25,    10, 31000,   430,  1450,\n",
       "           11]])"
      ]
     },
     "execution_count": 49,
     "metadata": {},
     "output_type": "execute_result"
    }
   ],
   "source": [
    "s=bd.reshape(5,10)\n",
    "s"
   ]
  },
  {
   "cell_type": "code",
   "execution_count": 50,
   "id": "c444e27f-2315-4840-8623-3f5f74821dc5",
   "metadata": {},
   "outputs": [
    {
     "data": {
      "text/plain": [
       "array([    1, 26000,   310,  1200,    10,     2, 33000,   460,  1500,\n",
       "          15,     3, 23000,   350,  1100,     8,     4, 48000,   520,\n",
       "        1600,    20,     5, 24000,   430,  1400,    12,     6, 28000,\n",
       "         340,  1300,     9,     7, 33000,   470,  1700,    18,     8,\n",
       "       37000,   430,  1250,    14,     9, 45000,   560,  1800,    25,\n",
       "          10, 31000,   430,  1450,    11])"
      ]
     },
     "execution_count": 50,
     "metadata": {},
     "output_type": "execute_result"
    }
   ],
   "source": [
    "#Q6.2: Flatten the banking_data to a 1D array\n",
    "bd.flatten()"
   ]
  },
  {
   "cell_type": "code",
   "execution_count": 53,
   "id": "32367885-854d-41cb-a701-21ce56e7366a",
   "metadata": {},
   "outputs": [
    {
     "data": {
      "text/plain": [
       "array([[    1,     2,     3,     4,     5,     6,     7,     8,     9,\n",
       "           10],\n",
       "       [26000, 33000, 23000, 48000, 24000, 28000, 33000, 37000, 45000,\n",
       "        31000],\n",
       "       [  310,   460,   350,   520,   430,   340,   470,   430,   560,\n",
       "          430],\n",
       "       [ 1200,  1500,  1100,  1600,  1400,  1300,  1700,  1250,  1800,\n",
       "         1450],\n",
       "       [   10,    15,     8,    20,    12,     9,    18,    14,    25,\n",
       "           11]])"
      ]
     },
     "execution_count": 53,
     "metadata": {},
     "output_type": "execute_result"
    }
   ],
   "source": [
    "#Q6.3:Transpose the banking_data\n",
    "bd.T"
   ]
  },
  {
   "cell_type": "code",
   "execution_count": 57,
   "id": "c4815691-0704-4209-9924-332659d29dcf",
   "metadata": {},
   "outputs": [
    {
     "data": {
      "text/plain": [
       "[array([[    1, 26000,   310,  1200,    10],\n",
       "        [    2, 33000,   460,  1500,    15],\n",
       "        [    3, 23000,   350,  1100,     8],\n",
       "        [    4, 48000,   520,  1600,    20],\n",
       "        [    5, 24000,   430,  1400,    12]]),\n",
       " array([[    6, 28000,   340,  1300,     9],\n",
       "        [    7, 33000,   470,  1700,    18],\n",
       "        [    8, 37000,   430,  1250,    14],\n",
       "        [    9, 45000,   560,  1800,    25],\n",
       "        [   10, 31000,   430,  1450,    11]])]"
      ]
     },
     "execution_count": 57,
     "metadata": {},
     "output_type": "execute_result"
    }
   ],
   "source": [
    "#Q6.4: Split the banking_data into 2 equal parts vertically\n",
    "np.vsplit(bd,2)"
   ]
  },
  {
   "cell_type": "code",
   "execution_count": 61,
   "id": "1d4aae1e-aa93-48b0-b8b7-237169348217",
   "metadata": {},
   "outputs": [
    {
     "data": {
      "text/plain": [
       "array([[    1, 26000,   310,  1200,    10],\n",
       "       [    2, 33000,   460,  1500,    15],\n",
       "       [    3, 23000,   350,  1100,     8],\n",
       "       [    4, 48000,   520,  1600,    20],\n",
       "       [    5, 24000,   430,  1400,    12],\n",
       "       [    6, 28000,   340,  1300,     9],\n",
       "       [    7, 33000,   470,  1700,    18],\n",
       "       [    8, 37000,   430,  1250,    14],\n",
       "       [    9, 45000,   560,  1800,    25],\n",
       "       [   10, 31000,   430,  1450,    11]])"
      ]
     },
     "execution_count": 61,
     "metadata": {},
     "output_type": "execute_result"
    }
   ],
   "source": [
    "#Q6.5: Split the banking_data into 2 equal parts horizontally\n",
    "bd"
   ]
  },
  {
   "cell_type": "code",
   "execution_count": 63,
   "id": "5a751bd1-cf13-4cf1-9f5e-ff5b263b4227",
   "metadata": {},
   "outputs": [
    {
     "ename": "ValueError",
     "evalue": "array split does not result in an equal division",
     "output_type": "error",
     "traceback": [
      "\u001b[31m---------------------------------------------------------------------------\u001b[39m",
      "\u001b[31mValueError\u001b[39m                                Traceback (most recent call last)",
      "\u001b[36mCell\u001b[39m\u001b[36m \u001b[39m\u001b[32mIn[63]\u001b[39m\u001b[32m, line 11\u001b[39m\n\u001b[32m      1\u001b[39m bd=np.array([[    \u001b[32m1\u001b[39m, \u001b[32m26000\u001b[39m,   \u001b[32m310\u001b[39m,  \u001b[32m1200\u001b[39m,    \u001b[32m10\u001b[39m],\n\u001b[32m      2\u001b[39m        [    \u001b[32m2\u001b[39m, \u001b[32m33000\u001b[39m,   \u001b[32m460\u001b[39m,  \u001b[32m1500\u001b[39m,    \u001b[32m15\u001b[39m],\n\u001b[32m      3\u001b[39m        [    \u001b[32m3\u001b[39m, \u001b[32m23000\u001b[39m,   \u001b[32m350\u001b[39m,  \u001b[32m1100\u001b[39m,     \u001b[32m8\u001b[39m],\n\u001b[32m   (...)\u001b[39m\u001b[32m      9\u001b[39m        [    \u001b[32m9\u001b[39m, \u001b[32m45000\u001b[39m,   \u001b[32m560\u001b[39m,  \u001b[32m1800\u001b[39m,    \u001b[32m25\u001b[39m],\n\u001b[32m     10\u001b[39m        [   \u001b[32m10\u001b[39m, \u001b[32m31000\u001b[39m,   \u001b[32m430\u001b[39m,  \u001b[32m1450\u001b[39m,    \u001b[32m11\u001b[39m]])\n\u001b[32m---> \u001b[39m\u001b[32m11\u001b[39m \u001b[43mnp\u001b[49m\u001b[43m.\u001b[49m\u001b[43mhsplit\u001b[49m\u001b[43m(\u001b[49m\u001b[43mbd\u001b[49m\u001b[43m,\u001b[49m\u001b[32;43m2\u001b[39;49m\u001b[43m)\u001b[49m\n",
      "\u001b[36mFile \u001b[39m\u001b[32m~\\anaconda3\\Lib\\site-packages\\numpy\\lib\\_shape_base_impl.py:964\u001b[39m, in \u001b[36mhsplit\u001b[39m\u001b[34m(ary, indices_or_sections)\u001b[39m\n\u001b[32m    962\u001b[39m     \u001b[38;5;28;01mraise\u001b[39;00m \u001b[38;5;167;01mValueError\u001b[39;00m(\u001b[33m'\u001b[39m\u001b[33mhsplit only works on arrays of 1 or more dimensions\u001b[39m\u001b[33m'\u001b[39m)\n\u001b[32m    963\u001b[39m \u001b[38;5;28;01mif\u001b[39;00m ary.ndim > \u001b[32m1\u001b[39m:\n\u001b[32m--> \u001b[39m\u001b[32m964\u001b[39m     \u001b[38;5;28;01mreturn\u001b[39;00m \u001b[43msplit\u001b[49m\u001b[43m(\u001b[49m\u001b[43mary\u001b[49m\u001b[43m,\u001b[49m\u001b[43m \u001b[49m\u001b[43mindices_or_sections\u001b[49m\u001b[43m,\u001b[49m\u001b[43m \u001b[49m\u001b[32;43m1\u001b[39;49m\u001b[43m)\u001b[49m\n\u001b[32m    965\u001b[39m \u001b[38;5;28;01melse\u001b[39;00m:\n\u001b[32m    966\u001b[39m     \u001b[38;5;28;01mreturn\u001b[39;00m split(ary, indices_or_sections, \u001b[32m0\u001b[39m)\n",
      "\u001b[36mFile \u001b[39m\u001b[32m~\\anaconda3\\Lib\\site-packages\\numpy\\lib\\_shape_base_impl.py:889\u001b[39m, in \u001b[36msplit\u001b[39m\u001b[34m(ary, indices_or_sections, axis)\u001b[39m\n\u001b[32m    887\u001b[39m     N = ary.shape[axis]\n\u001b[32m    888\u001b[39m     \u001b[38;5;28;01mif\u001b[39;00m N % sections:\n\u001b[32m--> \u001b[39m\u001b[32m889\u001b[39m         \u001b[38;5;28;01mraise\u001b[39;00m \u001b[38;5;167;01mValueError\u001b[39;00m(\n\u001b[32m    890\u001b[39m             \u001b[33m'\u001b[39m\u001b[33marray split does not result in an equal division\u001b[39m\u001b[33m'\u001b[39m) \u001b[38;5;28;01mfrom\u001b[39;00m\u001b[38;5;250m \u001b[39m\u001b[38;5;28;01mNone\u001b[39;00m\n\u001b[32m    891\u001b[39m \u001b[38;5;28;01mreturn\u001b[39;00m array_split(ary, indices_or_sections, axis)\n",
      "\u001b[31mValueError\u001b[39m: array split does not result in an equal division"
     ]
    }
   ],
   "source": [
    "bd=np.array([[    1, 26000,   310,  1200,    10],\n",
    "       [    2, 33000,   460,  1500,    15],\n",
    "       [    3, 23000,   350,  1100,     8],\n",
    "       [    4, 48000,   520,  1600,    20],\n",
    "       [    5, 24000,   430,  1400,    12],\n",
    "       [    6, 28000,   340,  1300,     9],\n",
    "       [    7, 33000,   470,  1700,    18],\n",
    "       [    8, 37000,   430,  1250,    14],\n",
    "       [    9, 45000,   560,  1800,    25],\n",
    "       [   10, 31000,   430,  1450,    11]])\n",
    "np.hsplit(bd,2)"
   ]
  },
  {
   "cell_type": "markdown",
   "id": "17f2087e-f857-445d-9ecb-70ce053f7e2b",
   "metadata": {},
   "source": [
    "\n",
    "Question 7: Logical Operations and Filtering"
   ]
  },
  {
   "cell_type": "code",
   "execution_count": 19,
   "id": "e58d4cc6-b5af-49ab-9f10-a7384dde0839",
   "metadata": {},
   "outputs": [
    {
     "data": {
      "text/plain": [
       "array([ 1,  2,  3,  4,  5,  6,  7,  8,  9, 10])"
      ]
     },
     "execution_count": 19,
     "metadata": {},
     "output_type": "execute_result"
    }
   ],
   "source": [
    "#Q7.1: Find customers with account balance greater than $10\n",
    "s=bd[bd[:,1]>9000]\n",
    "t=s[:,0]\n",
    "t"
   ]
  },
  {
   "cell_type": "code",
   "execution_count": 21,
   "id": "d9914dba-47d3-4730-809e-f860f4cf11e7",
   "metadata": {},
   "outputs": [
    {
     "data": {
      "text/plain": [
       "array([], dtype=int64)"
      ]
     },
     "execution_count": 21,
     "metadata": {},
     "output_type": "execute_result"
    }
   ],
   "source": [
    "#Q7.2: Find customers with credit score greater than 800\n",
    "s=bd[bd[:,2]>800]\n",
    "t=s[:,0]\n",
    "t"
   ]
  },
  {
   "cell_type": "code",
   "execution_count": 23,
   "id": "4e769060-2951-47a9-9d4f-ea08f9827762",
   "metadata": {},
   "outputs": [
    {
     "data": {
      "text/plain": [
       "array([ 1,  2,  3,  4,  5,  6,  7,  8,  9, 10])"
      ]
     },
     "execution_count": 23,
     "metadata": {},
     "output_type": "execute_result"
    }
   ],
   "source": [
    "#Q7.3: Find customers with transaction count greater than 50 AND credit score less than 750\n",
    "s=bd[(bd[:, 3] > 50) & (bd[:, 2] < 750)]\n",
    "t=s[:,0]\n",
    "t"
   ]
  },
  {
   "cell_type": "code",
   "execution_count": 25,
   "id": "c58bf136-946d-4f00-80aa-7c1592f506b8",
   "metadata": {},
   "outputs": [
    {
     "data": {
      "text/plain": [
       "np.int64(10)"
      ]
     },
     "execution_count": 25,
     "metadata": {},
     "output_type": "execute_result"
    }
   ],
   "source": [
    "#Q7.4: Count how many customers have account balance between $10,000 and $100,000\n",
    "np.sum((bd[:,1]>=10000) & (bd[:,1]<=100000))"
   ]
  },
  {
   "cell_type": "code",
   "execution_count": 75,
   "id": "e2e3fc17-7ce2-4b68-86aa-4ba15ef9749d",
   "metadata": {},
   "outputs": [
    {
     "data": {
      "text/plain": [
       "np.int64(8)"
      ]
     },
     "execution_count": 75,
     "metadata": {},
     "output_type": "execute_result"
    }
   ],
   "source": [
    "#Q7.5: Find the index of the customer with the highest credit score\n",
    "np.argmax(bd[:, 2])"
   ]
  },
  {
   "cell_type": "markdown",
   "id": "e1e63066-0da4-472d-8b61-57d3b2fd8b76",
   "metadata": {},
   "source": [
    "Sorting and Searching"
   ]
  },
  {
   "cell_type": "code",
   "execution_count": 6,
   "id": "f1abac8e-9966-438b-b5a4-1c6335e690db",
   "metadata": {},
   "outputs": [
    {
     "data": {
      "text/plain": [
       "array([[    3, 23000,   350,  1100,     8],\n",
       "       [    5, 24000,   430,  1400,    12],\n",
       "       [    1, 26000,   310,  1200,    10],\n",
       "       [    6, 28000,   340,  1300,     9],\n",
       "       [   10, 31000,   430,  1450,    11],\n",
       "       [    7, 33000,   470,  1700,    18],\n",
       "       [    2, 33000,   460,  1500,    15],\n",
       "       [    8, 37000,   430,  1250,    14],\n",
       "       [    9, 45000,   560,  1800,    25],\n",
       "       [    4, 48000,   520,  1600,    20]])"
      ]
     },
     "execution_count": 6,
     "metadata": {},
     "output_type": "execute_result"
    }
   ],
   "source": [
    "#Q8.1: Sort the banking_data by account balance (ascending)\n",
    "s=bd[bd[:,1].argsort()]\n",
    "s"
   ]
  },
  {
   "cell_type": "code",
   "execution_count": 7,
   "id": "e9730031-a47f-4eab-a025-62cf2a110aa1",
   "metadata": {},
   "outputs": [
    {
     "data": {
      "text/plain": [
       "array([[    9, 45000,   560,  1800,    25],\n",
       "       [    4, 48000,   520,  1600,    20],\n",
       "       [    7, 33000,   470,  1700,    18],\n",
       "       [    2, 33000,   460,  1500,    15],\n",
       "       [   10, 31000,   430,  1450,    11],\n",
       "       [    8, 37000,   430,  1250,    14],\n",
       "       [    5, 24000,   430,  1400,    12],\n",
       "       [    3, 23000,   350,  1100,     8],\n",
       "       [    6, 28000,   340,  1300,     9],\n",
       "       [    1, 26000,   310,  1200,    10]])"
      ]
     },
     "execution_count": 7,
     "metadata": {},
     "output_type": "execute_result"
    }
   ],
   "source": [
    "#Q8.2: Sort the banking_data by credit score (descending)\n",
    "s=bd[bd[:,2].argsort()[::-1]]\n",
    "s"
   ]
  },
  {
   "cell_type": "code",
   "execution_count": 8,
   "id": "a4b8e755-a006-4aae-8a2c-bf3bcf9e009c",
   "metadata": {},
   "outputs": [
    {
     "data": {
      "text/plain": [
       "array([2, 5, 0, 9, 4, 7, 1, 6, 3, 8])"
      ]
     },
     "execution_count": 8,
     "metadata": {},
     "output_type": "execute_result"
    }
   ],
   "source": [
    "#Q8.3: Find the indices that would sort the array by years active\n",
    "s=np.argsort(bd[:,4])\n",
    "s"
   ]
  },
  {
   "cell_type": "code",
   "execution_count": 9,
   "id": "a3692876-f59a-4fcf-8ea4-6ec6b5585a4a",
   "metadata": {},
   "outputs": [
    {
     "data": {
      "text/plain": [
       "array([[    1, 26000,   310,  1200,    10],\n",
       "       [    2, 33000,   460,  1500,    15],\n",
       "       [    3, 23000,   350,  1100,     8],\n",
       "       [    4, 48000,   520,  1600,    20],\n",
       "       [    5, 24000,   430,  1400,    12],\n",
       "       [    6, 28000,   340,  1300,     9],\n",
       "       [    7, 33000,   470,  1700,    18],\n",
       "       [    8, 37000,   430,  1250,    14],\n",
       "       [    9, 45000,   560,  1800,    25],\n",
       "       [   10, 31000,   430,  1450,    11]])"
      ]
     },
     "execution_count": 9,
     "metadata": {},
     "output_type": "execute_result"
    }
   ],
   "source": [
    "bd"
   ]
  },
  {
   "cell_type": "code",
   "execution_count": 15,
   "id": "6a52883e-0bbf-47b4-98af-03c7b9cd63e9",
   "metadata": {},
   "outputs": [
    {
     "data": {
      "text/plain": [
       "np.int64(8)"
      ]
     },
     "execution_count": 15,
     "metadata": {},
     "output_type": "execute_result"
    }
   ],
   "source": [
    "#Q8.4: Find the customer with the second highest account balance\n",
    "s=np.argsort(bd[:,1])\n",
    "t=s[-2]\n",
    "t"
   ]
  },
  {
   "cell_type": "code",
   "execution_count": 16,
   "id": "2c13a781-4068-4e1d-acc0-b0f3b07bc579",
   "metadata": {},
   "outputs": [
    {
     "data": {
      "text/plain": [
       "np.int64(2)"
      ]
     },
     "execution_count": 16,
     "metadata": {},
     "output_type": "execute_result"
    }
   ],
   "source": [
    "#Q8.5: Find the customer with the lowest transaction count\n",
    "s=np.argsort(bd[:,3])\n",
    "t=s[0]\n",
    "t"
   ]
  },
  {
   "cell_type": "markdown",
   "id": "c4f12902-cc8e-4b9a-ae46-a299b1ea59fb",
   "metadata": {},
   "source": [
    "Question 9: Mathematical Functions"
   ]
  },
  {
   "cell_type": "code",
   "execution_count": 26,
   "id": "2759a42d-be5d-4793-835e-91c974a12077",
   "metadata": {},
   "outputs": [
    {
     "data": {
      "text/plain": [
       "array([[    1, 26000,   310,  1200,    10],\n",
       "       [    2, 33000,   460,  1500,    15],\n",
       "       [    3, 23000,   350,  1100,     8],\n",
       "       [    4, 48000,   520,  1600,    20],\n",
       "       [    5, 24000,   430,  1400,    12],\n",
       "       [    6, 28000,   340,  1300,     9],\n",
       "       [    7, 33000,   470,  1700,    18],\n",
       "       [    8, 37000,   430,  1250,    14],\n",
       "       [    9, 45000,   560,  1800,    25],\n",
       "       [   10, 31000,   430,  1450,    11]])"
      ]
     },
     "execution_count": 26,
     "metadata": {},
     "output_type": "execute_result"
    }
   ],
   "source": [
    "#Q9.1: Calculate the absolute values of all elements\n",
    "np.abs(bd)"
   ]
  },
  {
   "cell_type": "code",
   "execution_count": 27,
   "id": "8317ec49-710e-4aab-9bee-65921ffb16d8",
   "metadata": {},
   "outputs": [
    {
     "data": {
      "text/plain": [
       "array([161.24515497, 181.65902125, 151.65750888, 219.089023  ,\n",
       "       154.91933385, 167.33200531, 181.65902125, 192.35384062,\n",
       "       212.13203436, 176.06816862])"
      ]
     },
     "execution_count": 27,
     "metadata": {},
     "output_type": "execute_result"
    }
   ],
   "source": [
    "#Q9.2: Calculate the square root of all account balances\n",
    "np.sqrt(bd[:,1])"
   ]
  },
  {
   "cell_type": "code",
   "execution_count": 30,
   "id": "199ac593-1ea4-4db3-b3f7-8ad85e64a4da",
   "metadata": {},
   "outputs": [
    {
     "data": {
      "text/plain": [
       "array([ 96100, 211600, 122500, 270400, 184900, 115600, 220900, 184900,\n",
       "       313600, 184900])"
      ]
     },
     "execution_count": 30,
     "metadata": {},
     "output_type": "execute_result"
    }
   ],
   "source": [
    "#Q9.3: Calculate the square of all credit scores\n",
    "np.square(bd[:,2])"
   ]
  },
  {
   "cell_type": "code",
   "execution_count": 31,
   "id": "31bc2e88-95ea-4d75-93b3-da06f1e75773",
   "metadata": {},
   "outputs": [
    {
     "data": {
      "text/plain": [
       "array([[    1, 26000,   310,  1200,    10],\n",
       "       [    2, 33000,   460,  1500,    15],\n",
       "       [    3, 23000,   350,  1100,     8],\n",
       "       [    4, 48000,   520,  1600,    20],\n",
       "       [    5, 24000,   430,  1400,    12],\n",
       "       [    6, 28000,   340,  1300,     9],\n",
       "       [    7, 33000,   470,  1700,    18],\n",
       "       [    8, 37000,   430,  1250,    14],\n",
       "       [    9, 45000,   560,  1800,    25],\n",
       "       [   10, 31000,   430,  1450,    11]])"
      ]
     },
     "execution_count": 31,
     "metadata": {},
     "output_type": "execute_result"
    }
   ],
   "source": [
    "bd"
   ]
  },
  {
   "cell_type": "code",
   "execution_count": 34,
   "id": "503e6c12-5935-4dc8-8c10-148a54765af7",
   "metadata": {},
   "outputs": [
    {
     "name": "stderr",
     "output_type": "stream",
     "text": [
      "C:\\Users\\afrid\\AppData\\Local\\Temp\\ipykernel_33284\\2602111107.py:13: RuntimeWarning: overflow encountered in exp\n",
      "  np.exp(bd[:,3])\n"
     ]
    },
    {
     "data": {
      "text/plain": [
       "array([inf, inf, inf, inf, inf, inf, inf, inf, inf, inf])"
      ]
     },
     "execution_count": 34,
     "metadata": {},
     "output_type": "execute_result"
    }
   ],
   "source": [
    "#Q9.4: Calculate the exponential of all transaction counts\n",
    "import numpy as np\n",
    "bd=np.array([[    1, 26000,   310,  1200,    10],\n",
    "       [    2, 33000,   460,  1500,    15],\n",
    "       [    3, 23000,   350,  1100,     8],\n",
    "       [    4, 48000,   520,  1600,    20],\n",
    "       [    5, 24000,   430,  1400,    12],\n",
    "       [    6, 28000,   340,  1300,     9],\n",
    "       [    7, 33000,   470,  1700,    18],\n",
    "       [    8, 37000,   430,  1250,    14],\n",
    "       [    9, 45000,   560,  1800,    25],\n",
    "       [   10, 31000,   430,  1450,    11]])\n",
    "np.exp(bd[:,3])"
   ]
  },
  {
   "cell_type": "code",
   "execution_count": 35,
   "id": "1d4483df-931a-448f-a15f-9639c3385e99",
   "metadata": {},
   "outputs": [
    {
     "data": {
      "text/plain": [
       "array([10.16585182, 10.40426284, 10.04324949, 10.77895629, 10.08580911,\n",
       "       10.23995979, 10.40426284, 10.51867319, 10.71441777, 10.34174248])"
      ]
     },
     "execution_count": 35,
     "metadata": {},
     "output_type": "execute_result"
    }
   ],
   "source": [
    "#Q9.5: Calculate the natural logarithm of all account balances\n",
    "np.log(bd[:,1])"
   ]
  },
  {
   "cell_type": "markdown",
   "id": "45786674-346e-4b10-9ba4-ca24f76b3e41",
   "metadata": {},
   "source": [
    "Advanced Operations"
   ]
  },
  {
   "cell_type": "code",
   "execution_count": 36,
   "id": "28f249ba-8a02-4aae-bf58-232cb5088846",
   "metadata": {},
   "outputs": [
    {
     "data": {
      "text/plain": [
       "array([ 26000,  59000,  82000, 130000, 154000, 182000, 215000, 252000,\n",
       "       297000, 328000])"
      ]
     },
     "execution_count": 36,
     "metadata": {},
     "output_type": "execute_result"
    }
   ],
   "source": [
    " #Q10.1: Calculate the cumulative sum of account balances\n",
    "np.cumsum(bd[:,1])"
   ]
  },
  {
   "cell_type": "code",
   "execution_count": 37,
   "id": "6a5ed40f-2905-465c-9dc8-38b2702c0af8",
   "metadata": {},
   "outputs": [
    {
     "data": {
      "text/plain": [
       "array([                1200,              1800000,           1980000000,\n",
       "              3168000000000,     4435200000000000,  5765760000000000000,\n",
       "        6570896860228091904,  4819962484364410880,  5962757212450324480,\n",
       "       -5525012516809211904])"
      ]
     },
     "execution_count": 37,
     "metadata": {},
     "output_type": "execute_result"
    }
   ],
   "source": [
    "#Q10.2: Calculate the cumulative product of transaction counts\n",
    "np.cumprod(bd[:,3])"
   ]
  },
  {
   "cell_type": "code",
   "execution_count": 38,
   "id": "71a1b024-d99e-48af-ad9b-359ec9828bc8",
   "metadata": {},
   "outputs": [
    {
     "data": {
      "text/plain": [
       "array([  7000, -10000,  25000, -24000,   4000,   5000,   4000,   8000,\n",
       "       -14000])"
      ]
     },
     "execution_count": 38,
     "metadata": {},
     "output_type": "execute_result"
    }
   ],
   "source": [
    "#Q10.3: Calculate the difference between consecutive account balances\n",
    "np.diff(bd[:,1])"
   ]
  },
  {
   "cell_type": "code",
   "execution_count": 39,
   "id": "7ad39a2f-25e5-4e55-8e1b-b7a5488dca10",
   "metadata": {},
   "outputs": [
    {
     "data": {
      "text/plain": [
       "array([  7000.,  -1500.,   7500.,    500., -10000.,   4500.,   4500.,\n",
       "         6000.,  -3000., -14000.])"
      ]
     },
     "execution_count": 39,
     "metadata": {},
     "output_type": "execute_result"
    }
   ],
   "source": [
    "#Q10.4: Calculate the gradient of account balances\n",
    "np.gradient(bd[:,1])"
   ]
  },
  {
   "cell_type": "code",
   "execution_count": 40,
   "id": "b0c243f7-d89b-4f83-8a36-d5546da2391e",
   "metadata": {},
   "outputs": [
    {
     "data": {
      "text/plain": [
       "(array([3, 2, 3, 0, 2]),\n",
       " array([23000., 28000., 33000., 38000., 43000., 48000.]))"
      ]
     },
     "execution_count": 40,
     "metadata": {},
     "output_type": "execute_result"
    }
   ],
   "source": [
    "#Q10.5: Calculate the histogram of account balances with 5 bins\n",
    "np.histogram(bd[:,1],bins=5)"
   ]
  },
  {
   "cell_type": "code",
   "execution_count": 53,
   "id": "1f125d93-1fb6-4693-ae64-eb85ce4f0572",
   "metadata": {},
   "outputs": [
    {
     "data": {
      "text/plain": [
       "array([[    1, 26000,   310,  1200,    10],\n",
       "       [    2, 33000,   460,  1500,    15],\n",
       "       [    3, 23000,   350,  1100,     8],\n",
       "       [    4, 48000,   520,  1600,    20],\n",
       "       [    5, 24000,   430,  1400,    12],\n",
       "       [    6, 28000,   340,  1300,     9],\n",
       "       [    7, 33000,   470,  1700,    18],\n",
       "       [    8, 37000,   430,  1250,    14],\n",
       "       [    9, 45000,   560,  1800,    25],\n",
       "       [   10, 31000,   430,  1450,    11]])"
      ]
     },
     "execution_count": 53,
     "metadata": {},
     "output_type": "execute_result"
    }
   ],
   "source": [
    "bd"
   ]
  },
  {
   "cell_type": "markdown",
   "id": "5f3072e6-2a0d-422f-8b29-2ec88c397308",
   "metadata": {},
   "source": [
    "Random Numbers and Simulation"
   ]
  },
  {
   "cell_type": "code",
   "execution_count": 43,
   "id": "804a52a5-a2cc-4e77-b4e3-2643ce0f59e6",
   "metadata": {},
   "outputs": [
    {
     "data": {
      "text/plain": [
       "array([566, 291, 691, 894, 397, 458], dtype=int32)"
      ]
     },
     "execution_count": 43,
     "metadata": {},
     "output_type": "execute_result"
    }
   ],
   "source": [
    "#Q11.1: Generate 6 random integers between 1 and 1000\n",
    "s=np.random.randint(1,1000,6)\n",
    "s"
   ]
  },
  {
   "cell_type": "code",
   "execution_count": 44,
   "id": "c619e34f-748d-49d8-b610-4617966055bb",
   "metadata": {},
   "outputs": [
    {
     "data": {
      "text/plain": [
       "array([0.08724073, 0.44310907, 0.32305193, 0.9759566 , 0.04561227,\n",
       "       0.53394441])"
      ]
     },
     "execution_count": 44,
     "metadata": {},
     "output_type": "execute_result"
    }
   ],
   "source": [
    "#Q11.2: Generate 6 random floats between 0 and 1\n",
    "np.random.rand(6)"
   ]
  },
  {
   "cell_type": "code",
   "execution_count": 45,
   "id": "cf88c08e-22a2-416a-bc4a-8f93d56e9e66",
   "metadata": {},
   "outputs": [
    {
     "data": {
      "text/plain": [
       "array([652.45104868, 592.97436783, 736.63680568, 770.34381451,\n",
       "       632.64821722, 619.69442824])"
      ]
     },
     "execution_count": 45,
     "metadata": {},
     "output_type": "execute_result"
    }
   ],
   "source": [
    "# Q11.3: Generate 6 random numbers from normal distribution (mean=700, std=100)\n",
    "np.random.normal(700,100,6)"
   ]
  },
  {
   "cell_type": "code",
   "execution_count": 48,
   "id": "70c373a1-9767-466e-893a-2bf3cdb4ec0f",
   "metadata": {},
   "outputs": [
    {
     "name": "stdout",
     "output_type": "stream",
     "text": [
      "[[    9 45000   560  1800    25]\n",
      " [   10 31000   430  1450    11]\n",
      " [    5 24000   430  1400    12]\n",
      " [    7 33000   470  1700    18]\n",
      " [    2 33000   460  1500    15]\n",
      " [    4 48000   520  1600    20]\n",
      " [    8 37000   430  1250    14]\n",
      " [    1 26000   310  1200    10]\n",
      " [    6 28000   340  1300     9]\n",
      " [    3 23000   350  1100     8]]\n"
     ]
    }
   ],
   "source": [
    "#Q11.4: Shuffle the banking_data rows randomly\n",
    "sd=bd.copy()\n",
    "np.random.shuffle(sd)\n",
    "print(sd)"
   ]
  },
  {
   "cell_type": "code",
   "execution_count": 54,
   "id": "126004bb-4fff-4be0-871c-97f26d0f0922",
   "metadata": {},
   "outputs": [
    {
     "data": {
      "text/plain": [
       "array([[    1, 26000,   310,  1200,    10],\n",
       "       [    2, 33000,   460,  1500,    15],\n",
       "       [    3, 23000,   350,  1100,     8],\n",
       "       [    4, 48000,   520,  1600,    20],\n",
       "       [    5, 24000,   430,  1400,    12],\n",
       "       [    6, 28000,   340,  1300,     9],\n",
       "       [    7, 33000,   470,  1700,    18],\n",
       "       [    8, 37000,   430,  1250,    14],\n",
       "       [    9, 45000,   560,  1800,    25],\n",
       "       [   10, 31000,   430,  1450,    11]])"
      ]
     },
     "execution_count": 54,
     "metadata": {},
     "output_type": "execute_result"
    }
   ],
   "source": [
    "bd"
   ]
  },
  {
   "cell_type": "code",
   "execution_count": 56,
   "id": "51b0233f-d3fa-4036-808c-655aada328d0",
   "metadata": {},
   "outputs": [
    {
     "name": "stdout",
     "output_type": "stream",
     "text": [
      "[0.69646919 0.28613933 0.22685145 0.55131477]\n"
     ]
    }
   ],
   "source": [
    "# Q11.5: Set random seed to 123 and generate 4 random numbersdata\n",
    "np.random.seed(123)\n",
    "sr=np.random.random(4)\n",
    "print(sr)"
   ]
  },
  {
   "cell_type": "markdown",
   "id": "a1fecf58-c79b-4f40-b486-a82fc50c79ba",
   "metadata": {},
   "source": [
    "Linear Algebra Operations"
   ]
  },
  {
   "cell_type": "code",
   "execution_count": 59,
   "id": "474c8f6d-48b0-4ba5-8ce3-5822b7582ca6",
   "metadata": {},
   "outputs": [
    {
     "name": "stdout",
     "output_type": "stream",
     "text": [
      "146040000\n"
     ]
    }
   ],
   "source": [
    "#Q12.1: Calculate the dot product of account balance and credit score columns\n",
    "s=np.dot(bd[:,1],bd[:,2])\n",
    "print(s)"
   ]
  },
  {
   "cell_type": "code",
   "execution_count": 16,
   "id": "3cc8b4e2-b64a-4420-844d-5f76a11225fb",
   "metadata": {},
   "outputs": [
    {
     "data": {
      "text/plain": [
       "array([1730000,     160,  -19000])"
      ]
     },
     "execution_count": 16,
     "metadata": {},
     "output_type": "execute_result"
    }
   ],
   "source": [
    "#Q12.2: Calculate the cross product of first two rows\n",
    "np.cross(bd[0,:3],bd[1,:3])     #doubt"
   ]
  },
  {
   "cell_type": "code",
   "execution_count": 19,
   "id": "25431509-cda7-46f2-92d1-26e80d80ec17",
   "metadata": {},
   "outputs": [
    {
     "data": {
      "text/plain": [
       "array([[    1, 26000,   310,  1200,    10],\n",
       "       [    2, 33000,   460,  1500,    15],\n",
       "       [    3, 23000,   350,  1100,     8],\n",
       "       [    4, 48000,   520,  1600,    20],\n",
       "       [    5, 24000,   430,  1400,    12],\n",
       "       [    6, 28000,   340,  1300,     9],\n",
       "       [    7, 33000,   470,  1700,    18],\n",
       "       [    8, 37000,   430,  1250,    14],\n",
       "       [    9, 45000,   560,  1800,    25],\n",
       "       [   10, 31000,   430,  1450,    11]])"
      ]
     },
     "execution_count": 19,
     "metadata": {},
     "output_type": "execute_result"
    }
   ],
   "source": [
    "bd"
   ]
  },
  {
   "cell_type": "code",
   "execution_count": 21,
   "id": "ae23bcc2-fb56-4577-9f3a-0732c2203640",
   "metadata": {},
   "outputs": [
    {
     "name": "stdout",
     "output_type": "stream",
     "text": [
      "106780.14796768171\n"
     ]
    }
   ],
   "source": [
    "#Q12.3: Calculate the norm (magnitude) of the account balance column\n",
    "s=np.linalg.norm(bd[:,1]) #doubt\n",
    "print(s)"
   ]
  },
  {
   "cell_type": "code",
   "execution_count": 24,
   "id": "677f6c34-3c1d-45f4-9b0d-96b4dff9ac75",
   "metadata": {},
   "outputs": [
    {
     "name": "stdout",
     "output_type": "stream",
     "text": [
      "9.51619735392994e-16\n"
     ]
    }
   ],
   "source": [
    "#Q12.4: Create a 3x3 matrix and calculate its determinant\n",
    "import numpy as np\n",
    "m=np.array([[4,5,6],[1,2,3],[7,8,9]])\n",
    "s=np.linalg.det(m)\n",
    "print(s)"
   ]
  },
  {
   "cell_type": "code",
   "execution_count": 25,
   "id": "96c25f00-3c6c-4fc3-9c8b-d4f6789821fe",
   "metadata": {},
   "outputs": [
    {
     "data": {
      "text/plain": [
       "array([[-6.30503948e+15,  3.15251974e+15,  3.15251974e+15],\n",
       "       [ 1.26100790e+16, -6.30503948e+15, -6.30503948e+15],\n",
       "       [-6.30503948e+15,  3.15251974e+15,  3.15251974e+15]])"
      ]
     },
     "execution_count": 25,
     "metadata": {},
     "output_type": "execute_result"
    }
   ],
   "source": [
    "#Q12.5: Calculate the inverse of the 3x3 matrix\n",
    "np.linalg.inv(m)"
   ]
  },
  {
   "cell_type": "markdown",
   "id": "96440cc9-212f-4ca7-b82a-e31302761f2e",
   "metadata": {},
   "source": [
    "Question 13: String Operations"
   ]
  },
  {
   "cell_type": "code",
   "execution_count": 26,
   "id": "ad844564-4b24-49d9-b85e-91a2ae551506",
   "metadata": {},
   "outputs": [
    {
     "data": {
      "text/plain": [
       "array([[    1, 26000,   310,  1200,    10],\n",
       "       [    2, 33000,   460,  1500,    15],\n",
       "       [    3, 23000,   350,  1100,     8],\n",
       "       [    4, 48000,   520,  1600,    20],\n",
       "       [    5, 24000,   430,  1400,    12],\n",
       "       [    6, 28000,   340,  1300,     9],\n",
       "       [    7, 33000,   470,  1700,    18],\n",
       "       [    8, 37000,   430,  1250,    14],\n",
       "       [    9, 45000,   560,  1800,    25],\n",
       "       [   10, 31000,   430,  1450,    11]])"
      ]
     },
     "execution_count": 26,
     "metadata": {},
     "output_type": "execute_result"
    }
   ],
   "source": [
    "#Q13.1: Convert all customer IDs to strings\n",
    "bd"
   ]
  },
  {
   "cell_type": "code",
   "execution_count": 28,
   "id": "f5502f36-ca68-421f-8d78-63de0b5181bc",
   "metadata": {},
   "outputs": [
    {
     "data": {
      "text/plain": [
       "array(['1', '2', '3', '4', '5', '6', '7', '8', '9', '10'], dtype='<U21')"
      ]
     },
     "execution_count": 28,
     "metadata": {},
     "output_type": "execute_result"
    }
   ],
   "source": [
    "s=bd[:,0].astype(str)\n",
    "s"
   ]
  },
  {
   "cell_type": "code",
   "execution_count": 29,
   "id": "a362d8cd-09b9-4f0a-9468-79683a8c7103",
   "metadata": {},
   "outputs": [
    {
     "ename": "SyntaxError",
     "evalue": "cannot assign to function call (2744000122.py, line 2)",
     "output_type": "error",
     "traceback": [
      "  \u001b[36mCell\u001b[39m\u001b[36m \u001b[39m\u001b[32mIn[29]\u001b[39m\u001b[32m, line 2\u001b[39m\n\u001b[31m    \u001b[39m\u001b[31mn=np.char.find(s,'100')=0\u001b[39m\n      ^\n\u001b[31mSyntaxError\u001b[39m\u001b[31m:\u001b[39m cannot assign to function call\n"
     ]
    }
   ],
   "source": [
    "#Q13.2: Check if any customer ID contains '100'\n",
    "n=np.char.find(s,'100')=0\n",
    "n"
   ]
  },
  {
   "cell_type": "code",
   "execution_count": 31,
   "id": "2feabdc0-700f-4166-9c41-372ba9f02040",
   "metadata": {},
   "outputs": [
    {
     "name": "stdout",
     "output_type": "stream",
     "text": [
      "['1' '2' '3' '4' '5' '6' '7' '8' '9' '10']\n"
     ]
    }
   ],
   "source": [
    "#Q13.3: Convert all customer IDs to uppercase (if they were strings)\n",
    "n=np.char.upper(s)\n",
    "print(n)"
   ]
  },
  {
   "cell_type": "code",
   "execution_count": 32,
   "id": "33da8c54-0409-4c48-b182-1ecec9934792",
   "metadata": {},
   "outputs": [
    {
     "data": {
      "text/plain": [
       "array([1, 1, 1, 1, 1, 1, 1, 1, 1, 2])"
      ]
     },
     "execution_count": 32,
     "metadata": {},
     "output_type": "execute_result"
    }
   ],
   "source": [
    "# Q13.4: Count the length of each customer ID string\n",
    "np.char.str_len(s)"
   ]
  },
  {
   "cell_type": "code",
   "execution_count": 33,
   "id": "6ec5c3f5-3245-4e3c-a0e5-9dbf82fb0960",
   "metadata": {},
   "outputs": [
    {
     "data": {
      "text/plain": [
       "array(['1', '2', '3', '4', '5', '6', '7', '8', '9', '10'], dtype='<U2')"
      ]
     },
     "execution_count": 33,
     "metadata": {},
     "output_type": "execute_result"
    }
   ],
   "source": [
    "#Q13.5: Replace '100' with 'CUST' in customer IDs\n",
    "np.char.replace(s,\"100\",\"CUST\")"
   ]
  },
  {
   "cell_type": "markdown",
   "id": "3150f4f7-456c-4c84-abee-d0184a15daee",
   "metadata": {},
   "source": [
    "Date and Time Operations"
   ]
  },
  {
   "cell_type": "code",
   "execution_count": 37,
   "id": "c8976c74-5c6e-497b-9e04-ce162325d477",
   "metadata": {},
   "outputs": [
    {
     "name": "stdout",
     "output_type": "stream",
     "text": [
      "[120 180  96 240 144 108 216 168 300 132]\n"
     ]
    }
   ],
   "source": [
    "#Q14.1: Convert years active to months\n",
    "s=bd[:,4]*12\n",
    "print(s)"
   ]
  },
  {
   "cell_type": "code",
   "execution_count": 38,
   "id": "f5496f6e-92c5-4524-9f71-423f4b577035",
   "metadata": {},
   "outputs": [
    {
     "data": {
      "text/plain": [
       "np.float64(14.2)"
      ]
     },
     "execution_count": 38,
     "metadata": {},
     "output_type": "execute_result"
    }
   ],
   "source": [
    "# Q14.2: Calculate the average years active\n",
    "np.mean(bd[:,4])"
   ]
  },
  {
   "cell_type": "code",
   "execution_count": 39,
   "id": "bbbbed85-80e3-4f62-a046-60f50577e803",
   "metadata": {},
   "outputs": [
    {
     "data": {
      "text/plain": [
       "array([[    4, 48000,   520,  1600,    20],\n",
       "       [    7, 33000,   470,  1700,    18],\n",
       "       [    9, 45000,   560,  1800,    25]])"
      ]
     },
     "execution_count": 39,
     "metadata": {},
     "output_type": "execute_result"
    }
   ],
   "source": [
    "# Q14.3: Find customers who have been active for more than 15 years\n",
    "bd[bd[:,4]>15]"
   ]
  },
  {
   "cell_type": "code",
   "execution_count": 40,
   "id": "96374df8-d045-4c71-a62f-58a267731457",
   "metadata": {},
   "outputs": [
    {
     "data": {
      "text/plain": [
       "np.int64(142)"
      ]
     },
     "execution_count": 40,
     "metadata": {},
     "output_type": "execute_result"
    }
   ],
   "source": [
    "# Q14.4: Calculate the total time all customers have been active (in years)\n",
    "np.sum(bd[:,4])"
   ]
  },
  {
   "cell_type": "code",
   "execution_count": 48,
   "id": "cb7edb82-9863-4fc6-8c1f-a6322bab7cfc",
   "metadata": {},
   "outputs": [
    {
     "name": "stdout",
     "output_type": "stream",
     "text": [
      "customer with short time: 2\n"
     ]
    }
   ],
   "source": [
    "# Q14.5: Find the customer with the shortest time active\n",
    "n=bd[:,4]\n",
    "s=np.argmin(n)\n",
    "print(\"customer with short time:\",s)"
   ]
  },
  {
   "cell_type": "code",
   "execution_count": 49,
   "id": "1200bbdc-05c6-40a3-a43f-a6ccf0bb2eec",
   "metadata": {},
   "outputs": [
    {
     "data": {
      "text/plain": [
       "array([[    1, 26000,   310,  1200,    10],\n",
       "       [    2, 33000,   460,  1500,    15],\n",
       "       [    3, 23000,   350,  1100,     8],\n",
       "       [    4, 48000,   520,  1600,    20],\n",
       "       [    5, 24000,   430,  1400,    12],\n",
       "       [    6, 28000,   340,  1300,     9],\n",
       "       [    7, 33000,   470,  1700,    18],\n",
       "       [    8, 37000,   430,  1250,    14],\n",
       "       [    9, 45000,   560,  1800,    25],\n",
       "       [   10, 31000,   430,  1450,    11]])"
      ]
     },
     "execution_count": 49,
     "metadata": {},
     "output_type": "execute_result"
    }
   ],
   "source": [
    "bd"
   ]
  },
  {
   "cell_type": "markdown",
   "id": "d5ee58ef-1c47-42dd-8c05-2b97431c0f18",
   "metadata": {},
   "source": [
    "\n",
    "Advanced Array Operations"
   ]
  },
  {
   "cell_type": "code",
   "execution_count": 50,
   "id": "e1fa9600-ac09-4c48-b0fe-364d0652b900",
   "metadata": {},
   "outputs": [
    {
     "data": {
      "text/plain": [
       "array([1300., 1650., 1150., 2400., 1200., 1400., 1650., 1850., 2250.,\n",
       "       1550.])"
      ]
     },
     "execution_count": 50,
     "metadata": {},
     "output_type": "execute_result"
    }
   ],
   "source": [
    "#Q15.1: Apply a function to calculate 5% interest on all account balances\n",
    "bd[:,1]*0.05"
   ]
  },
  {
   "cell_type": "code",
   "execution_count": 53,
   "id": "1d7f6164-9703-4406-9502-12830f3ca7fd",
   "metadata": {},
   "outputs": [
    {
     "name": "stdout",
     "output_type": "stream",
     "text": [
      "['medium' 'medium' 'medium' 'high' 'medium' 'medium' 'medium' 'medium'\n",
      " 'high' 'medium']\n"
     ]
    }
   ],
   "source": [
    "#Q15.2: Use np.where to categorize customers by balance ranges\n",
    "s=bd[:,1]\n",
    "c=np.where(s<20000,\"low\",\n",
    "          np.where(s<45000,\"medium\",\"high\"))\n",
    "print(c)"
   ]
  },
  {
   "cell_type": "code",
   "execution_count": 58,
   "id": "96ad0cab-b390-4a27-822b-638836ba7487",
   "metadata": {},
   "outputs": [
    {
     "name": "stdout",
     "output_type": "stream",
     "text": [
      "['poor' 'good' 'poor' 'good' 'fair' 'poor' 'good' 'fair' 'excellent'\n",
      " 'fair']\n"
     ]
    }
   ],
   "source": [
    "#Q15.3: Use np.select to categorize customers by credit score ranges\n",
    "s=bd[:,2]\n",
    "c=[(s<=350),\n",
    "  (s<=450)&(s>=360),\n",
    "  (s<=550)&(s>=460),\n",
    "  (s<=650)]\n",
    "co=[\"poor\",\"fair\",\"good\",\"excellent\"]\n",
    "cat=np.select(c,co,default='nothing')\n",
    "print(cat)"
   ]
  },
  {
   "cell_type": "code",
   "execution_count": 56,
   "id": "848537f6-f066-43b5-a835-6ab74f9091a1",
   "metadata": {},
   "outputs": [
    {
     "data": {
      "text/plain": [
       "array([[    1, 26000,   310,  1200,    10],\n",
       "       [    2, 33000,   460,  1500,    15],\n",
       "       [    3, 23000,   350,  1100,     8],\n",
       "       [    4, 48000,   520,  1600,    20],\n",
       "       [    5, 24000,   430,  1400,    12],\n",
       "       [    6, 28000,   340,  1300,     9],\n",
       "       [    7, 33000,   470,  1700,    18],\n",
       "       [    8, 37000,   430,  1250,    14],\n",
       "       [    9, 45000,   560,  1800,    25],\n",
       "       [   10, 31000,   430,  1450,    11]])"
      ]
     },
     "execution_count": 56,
     "metadata": {},
     "output_type": "execute_result"
    }
   ],
   "source": [
    "bd"
   ]
  },
  {
   "cell_type": "code",
   "execution_count": 6,
   "id": "ae6de07d-4cf4-43d8-bdb3-179cc6f5b95b",
   "metadata": {},
   "outputs": [
    {
     "name": "stdout",
     "output_type": "stream",
     "text": [
      "[0 0 0 0 0 0 0 0 0 0]\n"
     ]
    }
   ],
   "source": [
    "#Q15.4: Use np.piecewise to apply different interest rates based on balance\n",
    "s=bd[:,1]\n",
    "r=[0.01,0.02,0.03]\n",
    "c=[s<=25000,(s>25000)&(s<=40000),(s>40000)]\n",
    "Is=np.piecewise(s,c,r)\n",
    "I=s*Is\n",
    "print(I)"
   ]
  },
  {
   "cell_type": "code",
   "execution_count": 7,
   "id": "4ff054d8-dddd-48db-9097-44b295eed7f8",
   "metadata": {},
   "outputs": [
    {
     "name": "stdout",
     "output_type": "stream",
     "text": [
      "[27521 34977 24461 50144 25847 29655 35195 38702 47394 32901]\n"
     ]
    }
   ],
   "source": [
    "# Q15.5: Use np.apply_along_axis to calculate the sum of each row\n",
    "s=np.apply_along_axis(np.sum,1,bd)\n",
    "print(s)"
   ]
  },
  {
   "cell_type": "markdown",
   "id": "233b2661-901d-4f4c-ac66-b8881ce0f143",
   "metadata": {},
   "source": [
    "\n",
    "Array Concatenation and Stacking"
   ]
  },
  {
   "cell_type": "code",
   "execution_count": 9,
   "id": "de517732-5e3f-40c5-88d0-5f4135494f25",
   "metadata": {},
   "outputs": [
    {
     "data": {
      "text/plain": [
       "array([[ 1,  2, 11, 12],\n",
       "       [ 3,  4, 13, 14],\n",
       "       [ 5,  6, 15, 16]])"
      ]
     },
     "execution_count": 9,
     "metadata": {},
     "output_type": "execute_result"
    }
   ],
   "source": [
    "#Q16.1: Concatenate two arrays horizontally using np.hstack()\n",
    "import numpy as np\n",
    "s=np.array([[1,2],[3,4],[5,6]])\n",
    "t=np.array([[11,12],[13,14],[15,16]])\n",
    "r=np.hstack((s,t))\n",
    "r"
   ]
  },
  {
   "cell_type": "code",
   "execution_count": 10,
   "id": "31bf02d1-4ca1-447b-b8d3-24c5e4b21ef6",
   "metadata": {},
   "outputs": [
    {
     "data": {
      "text/plain": [
       "array([[ 1,  2],\n",
       "       [ 3,  4],\n",
       "       [ 5,  6],\n",
       "       [11, 12],\n",
       "       [13, 14],\n",
       "       [15, 16]])"
      ]
     },
     "execution_count": 10,
     "metadata": {},
     "output_type": "execute_result"
    }
   ],
   "source": [
    "#Q16.2: Concatenate two arrays vertically using np.vstack()\n",
    "r=np.vstack((s,t))\n",
    "r"
   ]
  },
  {
   "cell_type": "code",
   "execution_count": 13,
   "id": "6b179297-49a0-4300-a6b6-0455d5a539de",
   "metadata": {},
   "outputs": [
    {
     "data": {
      "text/plain": [
       "array([[ 1,  2, 11, 12],\n",
       "       [ 3,  4, 13, 14],\n",
       "       [ 5,  6, 15, 16]])"
      ]
     },
     "execution_count": 13,
     "metadata": {},
     "output_type": "execute_result"
    }
   ],
   "source": [
    "#Q16.3: Concatenate arrays along a specific axis using np.concatenate()\n",
    "r=np.concatenate((s,t),1)\n",
    "r"
   ]
  },
  {
   "cell_type": "code",
   "execution_count": 14,
   "id": "9835e961-acfd-407a-bffe-fa4716e36c7f",
   "metadata": {},
   "outputs": [
    {
     "data": {
      "text/plain": [
       "array([[[ 1, 11],\n",
       "        [ 2, 12]],\n",
       "\n",
       "       [[ 3, 13],\n",
       "        [ 4, 14]],\n",
       "\n",
       "       [[ 5, 15],\n",
       "        [ 6, 16]]])"
      ]
     },
     "execution_count": 14,
     "metadata": {},
     "output_type": "execute_result"
    }
   ],
   "source": [
    "#Q16.4: Stack arrays depth-wise using np.dstack()\n",
    "np.dstack((s,t))"
   ]
  },
  {
   "cell_type": "code",
   "execution_count": 15,
   "id": "ed326193-34bc-44cf-9eb6-403d8eb7fa8a",
   "metadata": {},
   "outputs": [
    {
     "data": {
      "text/plain": [
       "array([[ 1,  2, 11, 12],\n",
       "       [ 3,  4, 13, 14],\n",
       "       [ 5,  6, 15, 16]])"
      ]
     },
     "execution_count": 15,
     "metadata": {},
     "output_type": "execute_result"
    }
   ],
   "source": [
    "#Q16.5: Create a column stack using np.column_stack()\n",
    "np.column_stack((s,t))"
   ]
  },
  {
   "cell_type": "markdown",
   "id": "bea21807-1f02-49c7-9de2-e0496d19915e",
   "metadata": {},
   "source": [
    "Array Splitting Operations"
   ]
  },
  {
   "cell_type": "code",
   "execution_count": 16,
   "id": "7bd69668-c6a3-4c0e-abc1-5fe2f31e6ce5",
   "metadata": {},
   "outputs": [
    {
     "data": {
      "text/plain": [
       "[array([11, 22, 33]), array([44, 55, 66]), array([77, 88, 99])]"
      ]
     },
     "execution_count": 16,
     "metadata": {},
     "output_type": "execute_result"
    }
   ],
   "source": [
    "#Q17.1: Split an array into 3 equal parts using np.split()\n",
    "a=np.array([11,22,33,44,55,66,77,88,99])\n",
    "np.split(a,3)"
   ]
  },
  {
   "cell_type": "code",
   "execution_count": 19,
   "id": "84fa000a-33dc-48d4-a6ff-886603d92563",
   "metadata": {},
   "outputs": [
    {
     "data": {
      "text/plain": [
       "[array([11, 22]), array([33, 44, 55, 66, 77]), array([88, 99])]"
      ]
     },
     "execution_count": 19,
     "metadata": {},
     "output_type": "execute_result"
    }
   ],
   "source": [
    "#Q17.2: Split an array at specific indices using np.split()\n",
    "np.split(a,[2,7])"
   ]
  },
  {
   "cell_type": "code",
   "execution_count": 21,
   "id": "96757750-c7e3-48b8-aaed-2fa30bbdac55",
   "metadata": {},
   "outputs": [
    {
     "data": {
      "text/plain": [
       "[array([[1, 2, 3],\n",
       "        [7, 8, 9]]),\n",
       " array([[ 4,  5,  6],\n",
       "        [10, 11, 12]])]"
      ]
     },
     "execution_count": 21,
     "metadata": {},
     "output_type": "execute_result"
    }
   ],
   "source": [
    "#Q17.3: Split an array horizontally using np.hsplit()\n",
    "a= np.array([\n",
    "    [1, 2, 3, 4, 5, 6],\n",
    "    [7, 8, 9,10,11,12]\n",
    "])\n",
    "np.hsplit(a,2)"
   ]
  },
  {
   "cell_type": "code",
   "execution_count": 24,
   "id": "fcd09436-2091-4f2c-9e1a-c040d3c684f7",
   "metadata": {},
   "outputs": [
    {
     "data": {
      "text/plain": [
       "[array([[1, 2, 3, 4, 5, 6]]), array([[ 7,  8,  9, 10, 11, 12]])]"
      ]
     },
     "execution_count": 24,
     "metadata": {},
     "output_type": "execute_result"
    }
   ],
   "source": [
    "#Q17.4: Split an array vertically using np.vsplit()\n",
    "np.vsplit(a,2)"
   ]
  },
  {
   "cell_type": "code",
   "execution_count": 28,
   "id": "4a72df50-2bda-4e72-9c38-be65eef1dc13",
   "metadata": {},
   "outputs": [
    {
     "name": "stdout",
     "output_type": "stream",
     "text": [
      "[array([1, 2, 3, 4, 5]), array([ 6,  7,  8,  9, 10])]\n"
     ]
    }
   ],
   "source": [
    "#Q17.5: Split an array into equal chunks using np.array_split()\n",
    "a = np.array([1, 2, 3, 4, 5, 6, 7, 8, 9, 10])\n",
    "parts = np.array_split(a, 2)\n",
    "print(parts)"
   ]
  },
  {
   "cell_type": "markdown",
   "id": "1b99e83e-7753-4a52-96c7-b8054857b36f",
   "metadata": {},
   "source": [
    "Array Repetition and Tiling"
   ]
  },
  {
   "cell_type": "code",
   "execution_count": 29,
   "id": "1898c8fd-a932-42a1-9ca5-6c024ef304ff",
   "metadata": {},
   "outputs": [
    {
     "data": {
      "text/plain": [
       "array([ 1,  1,  1,  2,  2,  2,  3,  3,  3,  4,  4,  4,  5,  5,  5,  6,  6,\n",
       "        6,  7,  7,  7,  8,  8,  8,  9,  9,  9, 10, 10, 10])"
      ]
     },
     "execution_count": 29,
     "metadata": {},
     "output_type": "execute_result"
    }
   ],
   "source": [
    "# Repeat each element of an array 3 times using np.repeat()\n",
    "np.repeat(a,3)"
   ]
  },
  {
   "cell_type": "code",
   "execution_count": 31,
   "id": "5e42af5c-78d0-4737-9129-91b313170f12",
   "metadata": {},
   "outputs": [
    {
     "data": {
      "text/plain": [
       "array([[1, 2, 1, 2, 1, 2],\n",
       "       [3, 4, 3, 4, 3, 4],\n",
       "       [1, 2, 1, 2, 1, 2],\n",
       "       [3, 4, 3, 4, 3, 4],\n",
       "       [1, 2, 1, 2, 1, 2],\n",
       "       [3, 4, 3, 4, 3, 4]])"
      ]
     },
     "execution_count": 31,
     "metadata": {},
     "output_type": "execute_result"
    }
   ],
   "source": [
    "#Q18.3: Repeat a 2D array using np.tile()\n",
    "a=np.array([[1, 2],\n",
    "           [3, 4]])\n",
    "np.tile(a,(3,3))"
   ]
  },
  {
   "cell_type": "code",
   "execution_count": 33,
   "id": "88958490-180a-4b11-a3af-58676844579c",
   "metadata": {},
   "outputs": [
    {
     "data": {
      "text/plain": [
       "array([0, 2, 0, 2, 0, 2, 0, 2])"
      ]
     },
     "execution_count": 33,
     "metadata": {},
     "output_type": "execute_result"
    }
   ],
   "source": [
    "#Q18.4: Create a pattern using np.tile()\n",
    "import numpy as np\n",
    "np.tile([0, 2], 4)"
   ]
  },
  {
   "cell_type": "code",
   "execution_count": 34,
   "id": "460006c1-2f04-4eb2-85aa-bf02a2dc32ff",
   "metadata": {},
   "outputs": [
    {
     "name": "stdout",
     "output_type": "stream",
     "text": [
      "[1 2 2 3 3 3]\n"
     ]
    }
   ],
   "source": [
    "#Q18.5: Repeat elements with different counts using np.repeat()\n",
    "a=np.array([1, 2, 3])\n",
    "rep=np.array([1, 2, 3]) \n",
    "r=np.repeat(a, rep)\n",
    "print(r)"
   ]
  },
  {
   "cell_type": "code",
   "execution_count": 35,
   "id": "2a66468d-87cb-41ed-b4b3-c3bd4bbfb625",
   "metadata": {},
   "outputs": [
    {
     "name": "stdout",
     "output_type": "stream",
     "text": [
      "True\n",
      "False\n"
     ]
    }
   ],
   "source": [
    "#Q19.1: Compare two arrays for equality using np.array_equal()\n",
    "a=np.array([1,2,3])\n",
    "b=np.array([1,2,3])\n",
    "c=np.array([2,3,4])\n",
    "print(np.array_equal(a,b))\n",
    "print(np.array_equal(a,c))"
   ]
  },
  {
   "cell_type": "code",
   "execution_count": 37,
   "id": "94a981b6-e327-40f1-9ef3-1697526d2a5a",
   "metadata": {},
   "outputs": [
    {
     "name": "stdout",
     "output_type": "stream",
     "text": [
      "True\n"
     ]
    }
   ],
   "source": [
    "#Q19.2: Check if arrays are close using np.allclose()\n",
    "a=np.array([1,2,3])\n",
    "b=np.array([1,2,3])\n",
    "print(np.allclose(a,b))"
   ]
  },
  {
   "cell_type": "code",
   "execution_count": 40,
   "id": "65661b14-69a1-4158-87dd-05ce491ee4ab",
   "metadata": {},
   "outputs": [
    {
     "name": "stdout",
     "output_type": "stream",
     "text": [
      "[False  True False]\n"
     ]
    }
   ],
   "source": [
    "#Q19.3: Apply logical AND operation between arrays\n",
    "a=np.array([0,2,3])\n",
    "b=np.array([3,2,0])\n",
    "print(np.logical_and(a,b))"
   ]
  },
  {
   "cell_type": "code",
   "execution_count": 41,
   "id": "0cccdbb6-ca7e-4dc7-8b50-6ef050deb9b9",
   "metadata": {},
   "outputs": [
    {
     "name": "stdout",
     "output_type": "stream",
     "text": [
      "[ True  True False]\n"
     ]
    }
   ],
   "source": [
    "#Q19.4: Apply logical OR operation between arrays\n",
    "a=np.array([1,0,0])\n",
    "b=np.array([3,1,0])\n",
    "print(np.logical_or(a,b))"
   ]
  },
  {
   "cell_type": "code",
   "execution_count": 42,
   "id": "abd57af9-f0c8-411f-85c9-296959488a29",
   "metadata": {},
   "outputs": [
    {
     "name": "stdout",
     "output_type": "stream",
     "text": [
      "[1 0 1]\n"
     ]
    }
   ],
   "source": [
    "#Q19.5: Apply logical NOT operation to an array\n",
    "a=np.array([0,2,0])\n",
    "b=np.array([2,0,3])\n",
    "print(np.logical_not(a,b))"
   ]
  },
  {
   "cell_type": "markdown",
   "id": "4f6f65e6-50a1-4000-80f3-48ad7a80a349",
   "metadata": {},
   "source": [
    "Array Set Operations"
   ]
  },
  {
   "cell_type": "code",
   "execution_count": 43,
   "id": "219e69c4-a5c8-4ce5-af04-e72b8ccd34a3",
   "metadata": {},
   "outputs": [
    {
     "name": "stdout",
     "output_type": "stream",
     "text": [
      "[ 3  4  5  6  7  9 11 13 31]\n"
     ]
    }
   ],
   "source": [
    "#Q20.1: Find unique elements in an array using np.unique()\n",
    "a=np.array([11,3,3,31,4,6,13,4,7,9,7,7,5])\n",
    "print(np.unique(a))"
   ]
  },
  {
   "cell_type": "code",
   "execution_count": 46,
   "id": "3ec0fff2-cbbf-4240-92ba-fbe0b830dc06",
   "metadata": {},
   "outputs": [
    {
     "name": "stdout",
     "output_type": "stream",
     "text": [
      "[1 2 3 5]\n"
     ]
    }
   ],
   "source": [
    "#Q20.2: Find the intersection of two arrays using np.intersect1d()\n",
    "a=np.array([1,2,3,5,7,9,])\n",
    "b=np.array([1,3,45,8,0,2,5])\n",
    "print(np.intersect1d(a,b))"
   ]
  },
  {
   "cell_type": "code",
   "execution_count": 48,
   "id": "16384257-906c-4a2e-8ec9-48cf0f993299",
   "metadata": {},
   "outputs": [
    {
     "name": "stdout",
     "output_type": "stream",
     "text": [
      "[ 0  1  2  3  5  7  8  9 45]\n"
     ]
    }
   ],
   "source": [
    "#Q20.3: Find the union of two arrays using np.union1d()\n",
    "print(np.union1d(a,b))"
   ]
  },
  {
   "cell_type": "code",
   "execution_count": 50,
   "id": "a40ca534-8e49-43fb-8094-c731d9fc1445",
   "metadata": {},
   "outputs": [
    {
     "name": "stdout",
     "output_type": "stream",
     "text": [
      "[7 9]\n"
     ]
    }
   ],
   "source": [
    "#Q20.4: Find elements in first array but not in second using np.setdiff1d()\n",
    "print(np.setdiff1d(a,b))"
   ]
  },
  {
   "cell_type": "code",
   "execution_count": 52,
   "id": "69517cb5-8ca5-41be-aa9f-261c8a78df59",
   "metadata": {},
   "outputs": [
    {
     "name": "stdout",
     "output_type": "stream",
     "text": [
      "[ 0  7  8  9 45]\n"
     ]
    }
   ],
   "source": [
    "#Q20.5: Find the symmetric difference between two arrays using np.setxor1d()\n",
    "print(np.setxor1d(a,b))"
   ]
  },
  {
   "cell_type": "code",
   "execution_count": null,
   "id": "7a9043a5-ccbb-4452-9c57-10419ae8bab5",
   "metadata": {},
   "outputs": [],
   "source": []
  }
 ],
 "metadata": {
  "kernelspec": {
   "display_name": "Python 3 (ipykernel)",
   "language": "python",
   "name": "python3"
  },
  "language_info": {
   "codemirror_mode": {
    "name": "ipython",
    "version": 3
   },
   "file_extension": ".py",
   "mimetype": "text/x-python",
   "name": "python",
   "nbconvert_exporter": "python",
   "pygments_lexer": "ipython3",
   "version": "3.13.5"
  }
 },
 "nbformat": 4,
 "nbformat_minor": 5
}
