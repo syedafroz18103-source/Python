{
 "cells": [
  {
   "cell_type": "code",
   "execution_count": 1,
   "id": "437b0df4-f6f7-45c3-bcfb-317ecf377bf8",
   "metadata": {},
   "outputs": [
    {
     "name": "stdout",
     "output_type": "stream",
     "text": [
      "{1, 2, 3, 4, 5, 6, 7, 8, 9, 10}\n"
     ]
    }
   ],
   "source": [
    "#Create a set of first 10 natural numbers\n",
    "s=set(range(1,11))\n",
    "print(s)"
   ]
  },
  {
   "cell_type": "code",
   "execution_count": 3,
   "id": "b427802e-3e9d-4c58-ae0b-01b9b8562df7",
   "metadata": {},
   "outputs": [
    {
     "name": "stdout",
     "output_type": "stream",
     "text": [
      "{1, 2, 3, 4, 5, 11}\n"
     ]
    }
   ],
   "source": [
    "#Add element 11 to set {1, 2, 3, 4, 5}\n",
    "s={1, 2, 3, 4, 5}\n",
    "s.add(11)\n",
    "print(s)"
   ]
  },
  {
   "cell_type": "code",
   "execution_count": 4,
   "id": "f1ac3b7d-4750-45d6-bce4-2bc52f8020db",
   "metadata": {},
   "outputs": [
    {
     "name": "stdout",
     "output_type": "stream",
     "text": [
      "{1, 2, 4, 5, 6}\n"
     ]
    }
   ],
   "source": [
    "#Remove element 3 from set {1, 2, 3, 4, 5, 6}\n",
    "s={1, 2, 3, 4, 5, 6}\n",
    "s.remove(3)\n",
    "print(s)"
   ]
  },
  {
   "cell_type": "code",
   "execution_count": 5,
   "id": "b0c4063c-bf05-4bde-bdb3-e3c4164ada63",
   "metadata": {},
   "outputs": [
    {
     "data": {
      "text/plain": [
       "{4, 5}"
      ]
     },
     "execution_count": 5,
     "metadata": {},
     "output_type": "execute_result"
    }
   ],
   "source": [
    "#Find the intersection of {1, 2, 3, 4, 5} and {4, 5, 6, 7, 8}\n",
    "s={1,2,3,4,5}\n",
    "t={4,5,6,7,8}\n",
    "s.intersection(t)"
   ]
  },
  {
   "cell_type": "code",
   "execution_count": 6,
   "id": "dd555d29-253d-4f39-91d8-e3a16c59a31d",
   "metadata": {},
   "outputs": [
    {
     "data": {
      "text/plain": [
       "{1, 2, 3}"
      ]
     },
     "execution_count": 6,
     "metadata": {},
     "output_type": "execute_result"
    }
   ],
   "source": [
    "#Find the difference between {1, 2, 3, 4, 5} and {4, 5, 6, 7, 8}\n",
    "s={1,2,3,4,5}\n",
    "t={4,5,6,7,8}\n",
    "s.difference(t)"
   ]
  },
  {
   "cell_type": "code",
   "execution_count": 8,
   "id": "c6c4a32d-8669-4824-9ad1-95a42a620b08",
   "metadata": {},
   "outputs": [
    {
     "name": "stdout",
     "output_type": "stream",
     "text": [
      "False\n"
     ]
    }
   ],
   "source": [
    "#Check if 5 is in set {1, 2, 3, 4, 6, 7, 8}\n",
    "s={1, 2, 3, 4, 6, 7, 8}\n",
    "for i in s:\n",
    "    if i==5:\n",
    "        print(\"True\")\n",
    "else:\n",
    "    print(\"False\")"
   ]
  },
  {
   "cell_type": "code",
   "execution_count": 9,
   "id": "479e5bb1-8fe5-405d-a015-5c4f41ff8745",
   "metadata": {},
   "outputs": [
    {
     "name": "stdout",
     "output_type": "stream",
     "text": [
      "False\n"
     ]
    }
   ],
   "source": [
    "#or\n",
    "s={1, 2, 3, 4, 6, 7, 8}\n",
    "t=5\n",
    "v=t in s\n",
    "print(v)"
   ]
  },
  {
   "cell_type": "code",
   "execution_count": 11,
   "id": "c603a499-1ba8-4e9c-b8cd-26f9aebfafaf",
   "metadata": {},
   "outputs": [
    {
     "name": "stdout",
     "output_type": "stream",
     "text": [
      "5\n"
     ]
    }
   ],
   "source": [
    "# Find the length of set {'a', 'b', 'c', 'd', 'e'}\n",
    "s={'a', 'b', 'c', 'd', 'e'}\n",
    "print(len(s))"
   ]
  },
  {
   "cell_type": "code",
   "execution_count": 14,
   "id": "343ab227-54a0-417e-96c4-f2e1444f7560",
   "metadata": {},
   "outputs": [
    {
     "name": "stdout",
     "output_type": "stream",
     "text": [
      "{'e', 'o'}\n"
     ]
    }
   ],
   "source": [
    "# Create a set of vowels from string 'hello world'\n",
    "s=\"hello world\"\n",
    "t={'a','e','i','o','u'}\n",
    "v=set()\n",
    "for i in s:\n",
    "    if i in t:\n",
    "        v.add(i)\n",
    "print(v)"
   ]
  },
  {
   "cell_type": "code",
   "execution_count": 15,
   "id": "b53bcac0-d4b6-494e-b97a-999d2b908493",
   "metadata": {},
   "outputs": [
    {
     "name": "stdout",
     "output_type": "stream",
     "text": [
      "{1, 2, 3, 4, 5, 6, 7}\n"
     ]
    }
   ],
   "source": [
    "#Remove duplicates from list [1, 2, 2, 3, 4, 4, 5, 6, 6, 7] using set\n",
    "s=[1, 2, 2, 3, 4, 4, 5, 6, 6, 7]\n",
    "t=set(s)\n",
    "print(t)"
   ]
  },
  {
   "cell_type": "code",
   "execution_count": 17,
   "id": "36e72d4d-8c5a-4224-ac9b-d58044936e8f",
   "metadata": {},
   "outputs": [
    {
     "name": "stdout",
     "output_type": "stream",
     "text": [
      "True\n"
     ]
    }
   ],
   "source": [
    "# Check if {1, 2, 3} is a subset of {1, 2, 3, 4, 5, 6}\n",
    "s={1,2,3}\n",
    "t={1, 2, 3, 4, 5, 6}\n",
    "print(s.issubset(t))"
   ]
  },
  {
   "cell_type": "code",
   "execution_count": null,
   "id": "beb8f53e-6ad0-460a-97d8-f27469f0d816",
   "metadata": {},
   "outputs": [],
   "source": []
  }
 ],
 "metadata": {
  "kernelspec": {
   "display_name": "Python 3 (ipykernel)",
   "language": "python",
   "name": "python3"
  },
  "language_info": {
   "codemirror_mode": {
    "name": "ipython",
    "version": 3
   },
   "file_extension": ".py",
   "mimetype": "text/x-python",
   "name": "python",
   "nbconvert_exporter": "python",
   "pygments_lexer": "ipython3",
   "version": "3.13.5"
  }
 },
 "nbformat": 4,
 "nbformat_minor": 5
}
