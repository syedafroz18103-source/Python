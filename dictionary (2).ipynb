{
 "cells": [
  {
   "cell_type": "code",
   "execution_count": 2,
   "id": "8a630857-0316-4fa1-845f-38d86ffc6f35",
   "metadata": {},
   "outputs": [
    {
     "data": {
      "text/plain": [
       "{'Afroz': 22, 'Thousif': 21, 'Inju': 18}"
      ]
     },
     "execution_count": 2,
     "metadata": {},
     "output_type": "execute_result"
    }
   ],
   "source": [
    "#Create a dictionary of student names and their ages\n",
    "s= {'Afroz':22, \"Thousif\" :21, \"Inju\": 18}\n",
    "s"
   ]
  },
  {
   "cell_type": "code",
   "execution_count": 3,
   "id": "29e82f4f-7144-49b1-b9b5-8938bef5db5d",
   "metadata": {},
   "outputs": [
    {
     "data": {
      "text/plain": [
       "{'a': 1, 'b': 2, 'c': 3, 'd': 4}"
      ]
     },
     "execution_count": 3,
     "metadata": {},
     "output_type": "execute_result"
    }
   ],
   "source": [
    "#Add a new key-value pair to dictionary {'a': 1, 'b': 2, 'c': 3}\n",
    "s={'a': 1, 'b': 2, 'c': 3}\n",
    "s['d']=4\n",
    "s"
   ]
  },
  {
   "cell_type": "code",
   "execution_count": 6,
   "id": "1c0220b5-0334-41f3-8f05-28e806b48c78",
   "metadata": {},
   "outputs": [
    {
     "data": {
      "text/plain": [
       "dict_keys(['name', 'age', 'city'])"
      ]
     },
     "execution_count": 6,
     "metadata": {},
     "output_type": "execute_result"
    }
   ],
   "source": [
    "#Get all keys from dictionary {'name': 'John', 'age': 25, 'city': 'New York'}\n",
    "s={'name': 'John', 'age': 25, 'city': 'New York'}\n",
    "s.keys()"
   ]
  },
  {
   "cell_type": "code",
   "execution_count": 7,
   "id": "b8d0e4e6-1551-4543-99ef-d2edba2dc00e",
   "metadata": {},
   "outputs": [
    {
     "data": {
      "text/plain": [
       "dict_values([3, 2, 1])"
      ]
     },
     "execution_count": 7,
     "metadata": {},
     "output_type": "execute_result"
    }
   ],
   "source": [
    "#Get all values from dictionary {'python': 3, 'java': 2, 'c++': 1}\n",
    "s={'python': 3, 'java': 2, 'c++': 1}\n",
    "s.values()"
   ]
  },
  {
   "cell_type": "code",
   "execution_count": 8,
   "id": "c7587146-c600-4f48-baa1-86e0944b17ff",
   "metadata": {},
   "outputs": [
    {
     "name": "stdout",
     "output_type": "stream",
     "text": [
      "exist\n"
     ]
    }
   ],
   "source": [
    "#Check if key 'age' exists in {'name': 'Alice', 'age': 30, 'city': 'London'}\n",
    "s={'name': 'Alice', 'age': 30, 'city': 'London'}\n",
    "if \"age\" in s:\n",
    "    print(\"exist\")\n",
    "else:\n",
    "    print(\"Not exist\")"
   ]
  },
  {
   "cell_type": "code",
   "execution_count": 9,
   "id": "5b9a5e4d-97cb-4e66-aece-0452fd71771a",
   "metadata": {},
   "outputs": [
    {
     "data": {
      "text/plain": [
       "{'a': 1, 'b': 2, 'c': 4}"
      ]
     },
     "execution_count": 9,
     "metadata": {},
     "output_type": "execute_result"
    }
   ],
   "source": [
    "#Remove key 'temp' from {'a': 1, 'b': 2, 'temp': 3, 'c': 4}\n",
    "s={'a': 1, 'b': 2, 'temp': 3, 'c': 4}\n",
    "s.pop(\"temp\")\n",
    "s"
   ]
  },
  {
   "cell_type": "code",
   "execution_count": 10,
   "id": "483c6bc2-34e4-4cf1-a0f2-ed95029d97f3",
   "metadata": {},
   "outputs": [
    {
     "data": {
      "text/plain": [
       "255"
      ]
     },
     "execution_count": 10,
     "metadata": {},
     "output_type": "execute_result"
    }
   ],
   "source": [
    "#Find the sum of all values in {'math': 85, 'science': 92, 'english': 78}\n",
    "s={'math': 85, 'science': 92, 'english': 78}\n",
    "a=sum(s.values())\n",
    "a"
   ]
  },
  {
   "cell_type": "code",
   "execution_count": 11,
   "id": "e1988ce6-36ad-4e96-8821-0a62d87680c5",
   "metadata": {},
   "outputs": [
    {
     "data": {
      "text/plain": [
       "{1: 1, 2: 4, 3: 9, 4: 16, 5: 25}"
      ]
     },
     "execution_count": 11,
     "metadata": {},
     "output_type": "execute_result"
    }
   ],
   "source": [
    "#Create a dictionary with squares of numbers 1 to 5\n",
    "s={a:a**2 for a in range(1,6)}\n",
    "s"
   ]
  },
  {
   "cell_type": "code",
   "execution_count": 14,
   "id": "0869e5cf-cc32-499d-8345-48126b04d73e",
   "metadata": {},
   "outputs": [
    {
     "name": "stdout",
     "output_type": "stream",
     "text": [
      "{'h': 1, 'e': 1, 'l': 2, 'o': 1}\n"
     ]
    }
   ],
   "source": [
    "#Count frequency of each character in string 'hello'\n",
    "s=\"hello\"\n",
    "a={}\n",
    "for i in s:\n",
    "    if i in a:\n",
    "        a[i]+=1\n",
    "    else:\n",
    "        a[i]=1\n",
    "print(a)"
   ]
  },
  {
   "cell_type": "code",
   "execution_count": 15,
   "id": "43f87905-58ac-4789-abf4-6d793b7e00a3",
   "metadata": {},
   "outputs": [
    {
     "data": {
      "text/plain": [
       "{'a': 1, 'b': 2, 'c': 3, 'd': 4}"
      ]
     },
     "execution_count": 15,
     "metadata": {},
     "output_type": "execute_result"
    }
   ],
   "source": [
    "# Merge two dictionaries {'a': 1, 'b': 2} and {'c': 3, 'd': 4}\n",
    "s={'a':1,'b':2}\n",
    "a={'c': 3, 'd': 4}\n",
    "s.update(a)\n",
    "s"
   ]
  },
  {
   "cell_type": "code",
   "execution_count": 16,
   "id": "4606aeb3-f3ba-4e0e-abe0-d7a93afa6b6d",
   "metadata": {},
   "outputs": [
    {
     "data": {
      "text/plain": [
       "{'person': {'name': 'Alice', 'age': 25}}"
      ]
     },
     "execution_count": 16,
     "metadata": {},
     "output_type": "execute_result"
    }
   ],
   "source": [
    "#Create a nested dictionary: {'person': {'name': 'Alice', 'age': 25}}\n",
    "s={'person': {'name': 'Alice', 'age': 25}}\n",
    "s"
   ]
  },
  {
   "cell_type": "code",
   "execution_count": 17,
   "id": "2fbdecda-cdcd-4b7b-ba6e-1b6e71851f3a",
   "metadata": {},
   "outputs": [
    {
     "data": {
      "text/plain": [
       "'Alice'"
      ]
     },
     "execution_count": 17,
     "metadata": {},
     "output_type": "execute_result"
    }
   ],
   "source": [
    "#Access nested value 'name' from {'person': {'name': 'Alice', 'age': 25}}\n",
    "s={'person': {'name': 'Alice', 'age': 25}}\n",
    "s['person']['name']"
   ]
  },
  {
   "cell_type": "code",
   "execution_count": 18,
   "id": "859d554a-a206-4510-a0d3-84010d26914a",
   "metadata": {},
   "outputs": [
    {
     "data": {
      "text/plain": [
       "{'fruits': ['apple', 'banana'], 'colors': ['red', 'blue']}"
      ]
     },
     "execution_count": 18,
     "metadata": {},
     "output_type": "execute_result"
    }
   ],
   "source": [
    "#Create a dictionary with list values: {'fruits': ['apple', 'banana'], 'colors': ['red', 'blue']}\n",
    "d={'fruits': ['apple', 'banana'], 'colors': ['red', 'blue']}\n",
    "d"
   ]
  },
  {
   "cell_type": "code",
   "execution_count": 22,
   "id": "f7297ade-42de-44a2-9576-eb8a58e352ca",
   "metadata": {},
   "outputs": [
    {
     "data": {
      "text/plain": [
       "{'fruits': ['apple', 'banana', 'orange'], 'colors': ['red', 'blue']}"
      ]
     },
     "execution_count": 22,
     "metadata": {},
     "output_type": "execute_result"
    }
   ],
   "source": [
    "# Add 'orange' to the 'fruits' list in nested dictionary\n",
    "d['fruits'].append('orange')\n",
    "d"
   ]
  },
  {
   "cell_type": "code",
   "execution_count": 24,
   "id": "e92994ca-cbf0-4b31-b611-74423e79d48a",
   "metadata": {},
   "outputs": [
    {
     "data": {
      "text/plain": [
       "{'coordinates': (10, 20), 'rgb': (255, 0, 0)}"
      ]
     },
     "execution_count": 24,
     "metadata": {},
     "output_type": "execute_result"
    }
   ],
   "source": [
    "# Create a dictionary with tuple values: {'coordinates': (10, 20), 'rgb': (255, 0, 0)}\n",
    "s={'coordinates': (10, 20), 'rgb': (255, 0, 0)}\n",
    "s"
   ]
  },
  {
   "cell_type": "code",
   "execution_count": 27,
   "id": "3c0eac74-0863-4e05-ac25-abf5d792adf9",
   "metadata": {},
   "outputs": [
    {
     "data": {
      "text/plain": [
       "10"
      ]
     },
     "execution_count": 27,
     "metadata": {},
     "output_type": "execute_result"
    }
   ],
   "source": [
    "#Extract first coordinate from nested tuple\n",
    "s[\"coordinates\"][0]"
   ]
  },
  {
   "cell_type": "code",
   "execution_count": 1,
   "id": "d9de0b13-617b-4fe0-a92c-df3ff65a114f",
   "metadata": {},
   "outputs": [
    {
     "data": {
      "text/plain": [
       "{'vowels': {'a', 'e', 'i'}, 'consonants': {'b', 'c', 'd'}}"
      ]
     },
     "execution_count": 1,
     "metadata": {},
     "output_type": "execute_result"
    }
   ],
   "source": [
    "#Create a dictionary with set values: {'vowels': {'a', 'e', 'i'}, 'consonants': {'b', 'c', 'd'}}\n",
    "s={'vowels': {'a', 'e', 'i'}, 'consonants': {'b', 'c', 'd'}}\n",
    "s"
   ]
  },
  {
   "cell_type": "code",
   "execution_count": 4,
   "id": "ff567044-708c-41cd-bd9e-613b724f46f7",
   "metadata": {},
   "outputs": [
    {
     "data": {
      "text/plain": [
       "{'vowels': {'a', 'e', 'i', 'o'}, 'consonants': {'b', 'c', 'd'}}"
      ]
     },
     "execution_count": 4,
     "metadata": {},
     "output_type": "execute_result"
    }
   ],
   "source": [
    "# Add 'o' to vowels set in nested dictionary\n",
    "s={'vowels': {'a', 'e', 'i'}, 'consonants': {'b', 'c', 'd'}}\n",
    "s['vowels'].add('o')\n",
    "s"
   ]
  },
  {
   "cell_type": "code",
   "execution_count": 12,
   "id": "fc2c7c61-e9ee-4005-b6dd-0f7a3ed18c22",
   "metadata": {},
   "outputs": [
    {
     "data": {
      "text/plain": [
       "{'company': {'department': {'employee': {'name': 'John', 'id': 123}}}}"
      ]
     },
     "execution_count": 12,
     "metadata": {},
     "output_type": "execute_result"
    }
   ],
   "source": [
    "#Create a 3-level nested dictionary: {'company': {'department': {'employee': {'name': 'John', 'id': 123}}}}\n",
    "s={'company': {'department': {'employee': {'name': 'John', 'id': 123}}}}\n",
    "s"
   ]
  },
  {
   "cell_type": "code",
   "execution_count": 16,
   "id": "b71ba7ba-4b59-4f58-a89d-95c2da32d054",
   "metadata": {},
   "outputs": [
    {
     "data": {
      "text/plain": [
       "'John'"
      ]
     },
     "execution_count": 16,
     "metadata": {},
     "output_type": "execute_result"
    }
   ],
   "source": [
    "#Access employee name from 3-level nested dictionary\n",
    "s['company']['department']['employee']['name']"
   ]
  },
  {
   "cell_type": "code",
   "execution_count": 17,
   "id": "7e08d365-5088-4a91-a902-97290d3c2912",
   "metadata": {},
   "outputs": [
    {
     "data": {
      "text/plain": [
       "{'int': 42, 'float': 3.14, 'str': 'hello', 'bool': True}"
      ]
     },
     "execution_count": 17,
     "metadata": {},
     "output_type": "execute_result"
    }
   ],
   "source": [
    "#Create a dictionary with mixed data types: {'int': 42, 'float': 3.14, 'str': 'hello', 'bool': True}\n",
    "s={'int': 42, 'float': 3.14, 'str': 'hello', 'bool': True}\n",
    "s"
   ]
  },
  {
   "cell_type": "code",
   "execution_count": 25,
   "id": "3f8e58c7-9121-47ff-bf03-da98d3c39b31",
   "metadata": {},
   "outputs": [
    {
     "name": "stdout",
     "output_type": "stream",
     "text": [
      "Type:<class 'int'>\n",
      "Type:<class 'float'>\n",
      "Type:<class 'str'>\n",
      "Type:<class 'bool'>\n"
     ]
    }
   ],
   "source": [
    "#Check data type of each value in mixed dictionary\n",
    "s={'int': 42, 'float': 3.14, 'str': 'hello', 'bool': True}\n",
    "for i,j in s.items():\n",
    "    print(f\"Type:{type(j)}\")"
   ]
  },
  {
   "cell_type": "code",
   "execution_count": 27,
   "id": "4226dcac-a743-447e-b531-7a1e1815a540",
   "metadata": {},
   "outputs": [
    {
     "data": {
      "text/plain": [
       "{'len': 3, 'str': str, 'int': int}"
      ]
     },
     "execution_count": 27,
     "metadata": {},
     "output_type": "execute_result"
    }
   ],
   "source": [
    "#Create a dictionary with function values: {'len': len, 'str': str, 'int': int}\n",
    "s={'len': len('len'), 'str': str, 'int': int}\n",
    "s"
   ]
  },
  {
   "cell_type": "code",
   "execution_count": 28,
   "id": "958a89e7-c09f-4b2d-b407-6d25074c070e",
   "metadata": {},
   "outputs": [],
   "source": [
    "#Apply each function to '123' using dictionary"
   ]
  },
  {
   "cell_type": "code",
   "execution_count": 36,
   "id": "58172d4a-c39e-4259-9b8c-302dbd32d193",
   "metadata": {},
   "outputs": [
    {
     "name": "stdout",
     "output_type": "stream",
     "text": [
      "double: 6\n",
      "square: 9\n"
     ]
    }
   ],
   "source": [
    "# Create a dictionary with lambda functions: {'double': lambda x: x*2, 'square': lambda x: x**2}\n",
    "s={'double': lambda x: x*2, 'square': lambda x: x**2}\n",
    "a=3\n",
    "print(\"double:\",s[\"double\"](a))\n",
    "print(\"square:\",s[\"square\"](a))"
   ]
  },
  {
   "cell_type": "code",
   "execution_count": 44,
   "id": "359c0f50-754f-4550-a4ad-1e276917cc9d",
   "metadata": {},
   "outputs": [
    {
     "name": "stdout",
     "output_type": "stream",
     "text": [
      "6\n",
      "9\n"
     ]
    }
   ],
   "source": [
    "# Apply each lambda function to 5\n",
    "for i,j in s.items():\n",
    "    r=j(a)\n",
    "    print(r)"
   ]
  },
  {
   "cell_type": "code",
   "execution_count": 45,
   "id": "38e307ba-5b73-4ecc-88a1-62127b024ba9",
   "metadata": {},
   "outputs": [
    {
     "data": {
      "text/plain": [
       "{'list': list, 'dict': dict, 'set': set}"
      ]
     },
     "execution_count": 45,
     "metadata": {},
     "output_type": "execute_result"
    }
   ],
   "source": [
    "#Create a dictionary with class values: {'list': list, 'dict': dict, 'set': set}\n",
    "s={'list': list, 'dict': dict, 'set': set}\n",
    "s"
   ]
  },
  {
   "cell_type": "code",
   "execution_count": 46,
   "id": "f3f1bc82-162f-4606-bb19-95abfb6f2ed0",
   "metadata": {},
   "outputs": [],
   "source": [
    "#Create instances using class dictionary"
   ]
  },
  {
   "cell_type": "code",
   "execution_count": 47,
   "id": "e6ec474a-c9d7-49ad-93d4-a63f7cf32257",
   "metadata": {},
   "outputs": [
    {
     "data": {
      "text/plain": [
       "{'a': None, 'b': None, 'c': None}"
      ]
     },
     "execution_count": 47,
     "metadata": {},
     "output_type": "execute_result"
    }
   ],
   "source": [
    "#Create a dictionary with None values: {'a': None, 'b': None, 'c': None}\n",
    "s={'a': None, 'b': None, 'c': None}\n",
    "s"
   ]
  },
  {
   "cell_type": "code",
   "execution_count": 53,
   "id": "090c0ecc-376a-4eb9-a923-890fc77624c2",
   "metadata": {},
   "outputs": [
    {
     "data": {
      "text/plain": [
       "{'a': 0, 'b': 0, 'c': 0}"
      ]
     },
     "execution_count": 53,
     "metadata": {},
     "output_type": "execute_result"
    }
   ],
   "source": [
    "# Replace all None values with 0\n",
    "a={i: 0 if j is None else j for i,j in s.items()}\n",
    "a"
   ]
  },
  {
   "cell_type": "code",
   "execution_count": 54,
   "id": "ba99b512-a6b3-489c-b1ef-fac7c9dfbfef",
   "metadata": {},
   "outputs": [
    {
     "data": {
      "text/plain": [
       "{'is_active': True, 'is_admin': False}"
      ]
     },
     "execution_count": 54,
     "metadata": {},
     "output_type": "execute_result"
    }
   ],
   "source": [
    "#Create a dictionary with boolean values: {'is_active': True, 'is_admin': False}\n",
    "s={'is_active': True, 'is_admin': False}\n",
    "s"
   ]
  },
  {
   "cell_type": "code",
   "execution_count": 56,
   "id": "e90dd797-561d-4028-b23a-ecee64df2228",
   "metadata": {},
   "outputs": [
    {
     "name": "stdout",
     "output_type": "stream",
     "text": [
      "1\n"
     ]
    }
   ],
   "source": [
    "#Count True values in boolean dictionary\n",
    "c=0\n",
    "for i in s.values():\n",
    "    if i is True:\n",
    "        c+=1\n",
    "print(c)"
   ]
  },
  {
   "cell_type": "code",
   "execution_count": 57,
   "id": "a4d52783-f37b-4b61-81c8-f4e99975b731",
   "metadata": {},
   "outputs": [
    {
     "data": {
      "text/plain": [
       "{'z1': (3+4j), 'z2': (1+2j)}"
      ]
     },
     "execution_count": 57,
     "metadata": {},
     "output_type": "execute_result"
    }
   ],
   "source": [
    "#Create a dictionary with complex numbers: {'z1': 3+4j, 'z2': 1+2j}\n",
    "s={'z1': 3+4j, 'z2': 1+2j}\n",
    "s"
   ]
  },
  {
   "cell_type": "code",
   "execution_count": 58,
   "id": "c3b5fd65-daf0-469d-a8c7-2af6e5790efd",
   "metadata": {},
   "outputs": [
    {
     "name": "stdout",
     "output_type": "stream",
     "text": [
      "5.0\n",
      "2.23606797749979\n"
     ]
    }
   ],
   "source": [
    "#Find magnitude of each complex number\n",
    "for i in s.values():\n",
    "    m=abs(i)\n",
    "    print(m)"
   ]
  },
  {
   "cell_type": "code",
   "execution_count": 59,
   "id": "19c3d889-888f-4a6e-80f8-3b8a07db9bf4",
   "metadata": {},
   "outputs": [
    {
     "data": {
      "text/plain": [
       "{'clg': {'department': {'section': {'row': {'first': 2}}}}}"
      ]
     },
     "execution_count": 59,
     "metadata": {},
     "output_type": "execute_result"
    }
   ],
   "source": [
    "#Create a 4-level nested dictionary\n",
    "s={'clg':{'department':{'section':{'row':{'first':2}}}}}\n",
    "s"
   ]
  },
  {
   "cell_type": "code",
   "execution_count": 60,
   "id": "0f263dd5-bd7f-4dee-8814-6e87be9aa640",
   "metadata": {},
   "outputs": [
    {
     "data": {
      "text/plain": [
       "2"
      ]
     },
     "execution_count": 60,
     "metadata": {},
     "output_type": "execute_result"
    }
   ],
   "source": [
    "s['clg']['department']['section']['row']['first']"
   ]
  },
  {
   "cell_type": "code",
   "execution_count": 75,
   "id": "86d70686-bc91-4408-b1e1-1592222e8a1a",
   "metadata": {},
   "outputs": [
    {
     "data": {
      "text/plain": [
       "{'r1': range(0, 3), 'r2': range(0, 5)}"
      ]
     },
     "execution_count": 75,
     "metadata": {},
     "output_type": "execute_result"
    }
   ],
   "source": [
    "# Create a dictionary with range values: {'r1': range(3), 'r2': range(5)}\n",
    "s={'r1': range(3), 'r2': range(5)}\n",
    "s"
   ]
  },
  {
   "cell_type": "code",
   "execution_count": 74,
   "id": "55fa452d-c19e-478a-942c-c4d61df62b86",
   "metadata": {},
   "outputs": [
    {
     "name": "stdout",
     "output_type": "stream",
     "text": [
      "{'r1': [0, 1, 2], 'r2': [0, 1, 2, 3, 4]}\n"
     ]
    }
   ],
   "source": [
    "# Convert each range to list\n",
    "print({k: list(v) for k, v in rang.items()})"
   ]
  },
  {
   "cell_type": "code",
   "execution_count": 77,
   "id": "0329464a-7d95-4c53-bd21-88db2641356d",
   "metadata": {},
   "outputs": [
    {
     "name": "stdout",
     "output_type": "stream",
     "text": [
      "a: [0, 1, 2]\n",
      "b: [0, 2, 4, 6, 8]\n"
     ]
    }
   ],
   "source": [
    "#Create a dictionary with generator values\n",
    "s={'a':(i for i in range(3)),'b':(j*2 for j in range(5))}\n",
    "for n,g in s.items():\n",
    "    print(f\"{n}:\",list(g))"
   ]
  },
  {
   "cell_type": "code",
   "execution_count": 78,
   "id": "66b71253-cbaa-4792-a836-a60dc613c1b6",
   "metadata": {},
   "outputs": [
    {
     "name": "stdout",
     "output_type": "stream",
     "text": [
      "{'a': [0, 1, 2], 'b': [0, 2, 4, 6, 8]}\n"
     ]
    }
   ],
   "source": [
    "# Convert each generator to list\n",
    "def convert_list(c):\n",
    "    for key in c:\n",
    "        c[key] = list(c[key])\n",
    "    return c\n",
    "s={'a':(i for i in range(3)),'b':(j*2 for j in range(5))}\n",
    "converted=convert_list(s)\n",
    "print(converted)"
   ]
  },
  {
   "cell_type": "code",
   "execution_count": 79,
   "id": "0bf9cf19-f77d-4ff9-a028-42217d946e81",
   "metadata": {},
   "outputs": [
    {
     "name": "stdout",
     "output_type": "stream",
     "text": [
      "i1:  [1, 2, 3, 4]\n",
      "i2:  ['a', 'b', 'c', 'd', 'e']\n"
     ]
    }
   ],
   "source": [
    "#Create a dictionary with iterator values\n",
    "s= {'i1': iter([1, 2, 3, 4]),'i2': iter('abcde')}\n",
    "for i,j in s.items():\n",
    "    print(f\"{i}: \", list(j))"
   ]
  },
  {
   "cell_type": "code",
   "execution_count": 80,
   "id": "639053e0-f017-475d-b45c-987925ee487b",
   "metadata": {},
   "outputs": [
    {
     "name": "stdout",
     "output_type": "stream",
     "text": [
      "{'i1': [1, 2, 3, 4], 'i2': ['a', 'b', 'c', 'd', 'e']}\n"
     ]
    }
   ],
   "source": [
    "#Extract all elements from each iterator\n",
    "s= {'i1': iter([1, 2, 3, 4]),'i2': iter('abcde')}\n",
    "for key in s:\n",
    "    s[key]=list(s[key])\n",
    "print(s)"
   ]
  },
  {
   "cell_type": "code",
   "execution_count": 81,
   "id": "f8f99a0d-c8ba-4f0c-9abf-daa6b6aae432",
   "metadata": {},
   "outputs": [
    {
     "data": {
      "text/plain": [
       "{'matrix': [[1, 2], [3, 4]], 'vector': [5, 6, 7]}"
      ]
     },
     "execution_count": 81,
     "metadata": {},
     "output_type": "execute_result"
    }
   ],
   "source": [
    "#Create a dictionary with nested lists: {'matrix': [[1, 2], [3, 4]], 'vector': [5, 6, 7]}\n",
    "s={'matrix': [[1, 2], [3, 4]], 'vector': [5, 6, 7]}\n",
    "s"
   ]
  },
  {
   "cell_type": "code",
   "execution_count": 83,
   "id": "be6f7ad4-7c38-4d65-9f72-ac246686f7d6",
   "metadata": {},
   "outputs": [
    {
     "ename": "TypeError",
     "evalue": "unsupported operand type(s) for +: 'int' and 'list'",
     "output_type": "error",
     "traceback": [
      "\u001b[1;31m---------------------------------------------------------------------------\u001b[0m",
      "\u001b[1;31mTypeError\u001b[0m                                 Traceback (most recent call last)",
      "Cell \u001b[1;32mIn[83], line 2\u001b[0m\n\u001b[0;32m      1\u001b[0m \u001b[38;5;66;03m#Find sum of each nested list\u001b[39;00m\n\u001b[1;32m----> 2\u001b[0m \u001b[38;5;28msum\u001b[39m(s\u001b[38;5;241m.\u001b[39mvalues())\n",
      "\u001b[1;31mTypeError\u001b[0m: unsupported operand type(s) for +: 'int' and 'list'"
     ]
    }
   ],
   "source": [
    "#Find sum of each nested list\n",
    "sum(s.values())"
   ]
  },
  {
   "cell_type": "code",
   "execution_count": 8,
   "id": "6d2d87e2-cd2e-464a-ab81-8f8684eb6528",
   "metadata": {},
   "outputs": [
    {
     "data": {
      "text/plain": [
       "{'config': {'db': {'host': 'localhost', 'port': 5432}}}"
      ]
     },
     "execution_count": 8,
     "metadata": {},
     "output_type": "execute_result"
    }
   ],
   "source": [
    "#Create a dictionary with nested dictionaries: {'config': {'db': {'host': 'localhost', 'port': 5432}}}\n",
    "s={'config': {'db': {'host': 'localhost', 'port': 5432}}}\n",
    "s"
   ]
  },
  {
   "cell_type": "code",
   "execution_count": 9,
   "id": "3554189a-8093-4774-99d9-660313df03c4",
   "metadata": {},
   "outputs": [
    {
     "data": {
      "text/plain": [
       "5432"
      ]
     },
     "execution_count": 9,
     "metadata": {},
     "output_type": "execute_result"
    }
   ],
   "source": [
    "#Access database port from nested configuration\n",
    "s['config']['db']['port']"
   ]
  },
  {
   "cell_type": "code",
   "execution_count": 10,
   "id": "e2ec3717-031f-4815-ad69-69c30e4f50ba",
   "metadata": {},
   "outputs": [
    {
     "data": {
      "text/plain": [
       "{'points': ((1, 2), (3, 4)), 'rgb': ((255, 0, 0), (0, 255, 0))}"
      ]
     },
     "execution_count": 10,
     "metadata": {},
     "output_type": "execute_result"
    }
   ],
   "source": [
    "#Create a dictionary with nested tuples: {'points': ((1, 2), (3, 4)), 'rgb': ((255, 0, 0), (0, 255, 0))}\n",
    "s={'points': ((1, 2), (3, 4)), 'rgb': ((255, 0, 0), (0, 255, 0))}\n",
    "s"
   ]
  },
  {
   "cell_type": "code",
   "execution_count": 11,
   "id": "7eb0e551-a9d0-4bb9-9bc2-b4a424384097",
   "metadata": {},
   "outputs": [
    {
     "data": {
      "text/plain": [
       "(1, 2)"
      ]
     },
     "execution_count": 11,
     "metadata": {},
     "output_type": "execute_result"
    }
   ],
   "source": [
    "#Extract first point coordinates\n",
    "s['points'][0]"
   ]
  },
  {
   "cell_type": "code",
   "execution_count": 13,
   "id": "2bc554ac-a42b-4207-a6a1-cb89009a47be",
   "metadata": {},
   "outputs": [
    {
     "ename": "TypeError",
     "evalue": "unhashable type: 'set'",
     "output_type": "error",
     "traceback": [
      "\u001b[31m---------------------------------------------------------------------------\u001b[39m",
      "\u001b[31mTypeError\u001b[39m                                 Traceback (most recent call last)",
      "\u001b[36mCell\u001b[39m\u001b[36m \u001b[39m\u001b[32mIn[13]\u001b[39m\u001b[32m, line 2\u001b[39m\n\u001b[32m      1\u001b[39m \u001b[38;5;66;03m#Create a dictionary with nested sets: {'groups': {{1, 2, 3}, {4, 5, 6}}, 'categories': {{'a', 'b'}, {'c', 'd'}}}\u001b[39;00m\n\u001b[32m----> \u001b[39m\u001b[32m2\u001b[39m n= {\u001b[33m'\u001b[39m\u001b[33mgroups\u001b[39m\u001b[33m'\u001b[39m: {{\u001b[32m1\u001b[39m, \u001b[32m2\u001b[39m, \u001b[32m3\u001b[39m}, {\u001b[32m4\u001b[39m, \u001b[32m5\u001b[39m, \u001b[32m6\u001b[39m}}, \u001b[33m'\u001b[39m\u001b[33mcategories\u001b[39m\u001b[33m'\u001b[39m: {{\u001b[33m'\u001b[39m\u001b[33ma\u001b[39m\u001b[33m'\u001b[39m, \u001b[33m'\u001b[39m\u001b[33mb\u001b[39m\u001b[33m'\u001b[39m}, {\u001b[33m'\u001b[39m\u001b[33mc\u001b[39m\u001b[33m'\u001b[39m, \u001b[33m'\u001b[39m\u001b[33md\u001b[39m\u001b[33m'\u001b[39m}}}\n\u001b[32m      3\u001b[39m n\n\u001b[32m      4\u001b[39m \u001b[38;5;66;03m#because sets are unhashable\u001b[39;00m\n",
      "\u001b[31mTypeError\u001b[39m: unhashable type: 'set'"
     ]
    }
   ],
   "source": [
    "#Create a dictionary with nested sets: {'groups': {{1, 2, 3}, {4, 5, 6}}, 'categories': {{'a', 'b'}, {'c', 'd'}}}\n",
    "n= {'groups': {{1, 2, 3}, {4, 5, 6}}, 'categories': {{'a', 'b'}, {'c', 'd'}}}\n",
    "n\n",
    "#because sets are unhashable"
   ]
  },
  {
   "cell_type": "code",
   "execution_count": null,
   "id": "a0c93810-7ab1-4201-929a-2fbedc804dde",
   "metadata": {},
   "outputs": [],
   "source": []
  }
 ],
 "metadata": {
  "kernelspec": {
   "display_name": "Python 3 (ipykernel)",
   "language": "python",
   "name": "python3"
  },
  "language_info": {
   "codemirror_mode": {
    "name": "ipython",
    "version": 3
   },
   "file_extension": ".py",
   "mimetype": "text/x-python",
   "name": "python",
   "nbconvert_exporter": "python",
   "pygments_lexer": "ipython3",
   "version": "3.13.5"
  }
 },
 "nbformat": 4,
 "nbformat_minor": 5
}
