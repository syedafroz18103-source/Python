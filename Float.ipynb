{
 "cells": [
  {
   "cell_type": "code",
   "execution_count": 1,
   "id": "f502e4ec-2050-4611-936e-55efa540251a",
   "metadata": {},
   "outputs": [
    {
     "data": {
      "text/plain": [
       "2.01325"
      ]
     },
     "execution_count": 1,
     "metadata": {},
     "output_type": "execute_result"
    }
   ],
   "source": [
    "#Calculate the average of 3.14, 2.718, 1.618, 0.577\n",
    "s=[3.14, 2.718, 1.618, 0.577]\n",
    "avg=sum(s)/len(s)\n",
    "avg"
   ]
  },
  {
   "cell_type": "code",
   "execution_count": 15,
   "id": "bdb19833-da63-4007-a945-51c3e5e2499f",
   "metadata": {},
   "outputs": [
    {
     "name": "stdout",
     "output_type": "stream",
     "text": [
      "36.99999999999999\n"
     ]
    }
   ],
   "source": [
    "#Convert 98.6 Fahrenheit to Celsius\n",
    "Fahrenheit=98.6\n",
    "celsius=(Fahrenheit-32)/1.8\n",
    "print(celsius)"
   ]
  },
  {
   "cell_type": "code",
   "execution_count": 16,
   "id": "1e4c5a94-399d-4aa3-a13e-4858d0cf72a5",
   "metadata": {},
   "outputs": [
    {
     "name": "stdout",
     "output_type": "stream",
     "text": [
      "37.0\n"
     ]
    }
   ],
   "source": [
    "#or\n",
    "Fahrenheit=98.6\n",
    "celsius=(Fahrenheit-32)*5/9\n",
    "print(celsius)"
   ]
  },
  {
   "cell_type": "code",
   "execution_count": 19,
   "id": "26ae5f3f-52d2-42b8-8066-2b388b0dfdb9",
   "metadata": {},
   "outputs": [
    {
     "name": "stdout",
     "output_type": "stream",
     "text": [
      "174.24137499999983\n"
     ]
    }
   ],
   "source": [
    "#Calculate compound interest on $1000 at 5.5% for 3 years\n",
    "p=1000   #principal amount\n",
    "r=5.5     #rate\n",
    "t=3        #time\n",
    "A=p*(1+(r/100))**t   #formula for calculate amount\n",
    "CI=A-p                #compound interest=amount-principal\n",
    "print(CI)"
   ]
  },
  {
   "cell_type": "code",
   "execution_count": 18,
   "id": "479efda6-21e8-433f-b1ec-6f545b31bf18",
   "metadata": {},
   "outputs": [
    {
     "name": "stdout",
     "output_type": "stream",
     "text": [
      "5.4671747731346585\n"
     ]
    }
   ],
   "source": [
    "#Find the hypotenuse of a right triangle with sides 3.5 and 4.2\n",
    "import math\n",
    "a=3.5\n",
    "b=4.2\n",
    "h=math.sqrt(a**2 + b**2)   #Formula for hypotenuse\n",
    "print(h)"
   ]
  },
  {
   "cell_type": "code",
   "execution_count": 20,
   "id": "af1bfa39-5200-49ed-ab61-0c5e33f98cce",
   "metadata": {},
   "outputs": [
    {
     "name": "stdout",
     "output_type": "stream",
     "text": [
      "1987.798769261791\n"
     ]
    }
   ],
   "source": [
    "#Calculate the volume of a sphere with radius 7.8\n",
    "import math\n",
    "r=7.8\n",
    "v=(4/3)*math.pi*(r**3)      #formula of volume of sphere v=4/3*pi*r**3\n",
    "print(v)"
   ]
  },
  {
   "cell_type": "code",
   "execution_count": 21,
   "id": "e5e8409a-79b0-4d30-85c4-d793742f050a",
   "metadata": {},
   "outputs": [
    {
     "name": "stdout",
     "output_type": "stream",
     "text": [
      "3.14\n"
     ]
    }
   ],
   "source": [
    "#Round 3.14159 to 3 decimal places\n",
    "a=3.14159\n",
    "print(round(a,2))"
   ]
  },
  {
   "cell_type": "code",
   "execution_count": 23,
   "id": "4c7e6f00-d728-45b8-a40e-2e109189df79",
   "metadata": {},
   "outputs": [
    {
     "name": "stdout",
     "output_type": "stream",
     "text": [
      "67.16417910447761\n"
     ]
    }
   ],
   "source": [
    "#Calculate the percentage: 45 out of 67\n",
    "a=45\n",
    "t=67\n",
    "print((a/t)*100)      #formula for % obtain/total *100%"
   ]
  },
  {
   "cell_type": "code",
   "execution_count": 24,
   "id": "a7b64f6b-f4ba-4895-99cd-c64a1e662a30",
   "metadata": {},
   "outputs": [
    {
     "name": "stdout",
     "output_type": "stream",
     "text": [
      "4.843139477652899\n"
     ]
    }
   ],
   "source": [
    "#Find the square root of 23.456\n",
    "import math\n",
    "a=23.456\n",
    "print(math.sqrt(a))"
   ]
  },
  {
   "cell_type": "code",
   "execution_count": 26,
   "id": "676af1f1-125d-498e-9e1f-d32bc3c29b97",
   "metadata": {},
   "outputs": [
    {
     "name": "stdout",
     "output_type": "stream",
     "text": [
      "406.25\n"
     ]
    }
   ],
   "source": [
    "#Calculate simple interest: Principal=2500, Rate=6.5%, Time=2.5 years\n",
    "print((2500*6.5*2.5)/100)      #formula for simple interest PRT/100"
   ]
  },
  {
   "cell_type": "code",
   "execution_count": 29,
   "id": "dc20b464-2b55-4c09-bf28-4352f21aeeb2",
   "metadata": {},
   "outputs": [
    {
     "name": "stdout",
     "output_type": "stream",
     "text": [
      "0.7976154681614086\n"
     ]
    }
   ],
   "source": [
    "#Convert 45.7 degrees to radians\n",
    "import math\n",
    "a=45.7\n",
    "print(a*math.pi/180)    #formula for degree to radians 1d=pi/180 and 1r=180/pi"
   ]
  },
  {
   "cell_type": "code",
   "execution_count": 28,
   "id": "94250de2-be6a-48c1-990b-80be9172d1ac",
   "metadata": {},
   "outputs": [
    {
     "name": "stdout",
     "output_type": "stream",
     "text": [
      "0.7976154681614086\n"
     ]
    }
   ],
   "source": [
    "#or\n",
    "import math\n",
    "a=45.7\n",
    "print(math.radians(a))"
   ]
  },
  {
   "cell_type": "code",
   "execution_count": null,
   "id": "6f21fdcf-1eb3-4a5f-b6c2-0b3691e2c2eb",
   "metadata": {},
   "outputs": [],
   "source": []
  }
 ],
 "metadata": {
  "kernelspec": {
   "display_name": "Python 3 (ipykernel)",
   "language": "python",
   "name": "python3"
  },
  "language_info": {
   "codemirror_mode": {
    "name": "ipython",
    "version": 3
   },
   "file_extension": ".py",
   "mimetype": "text/x-python",
   "name": "python",
   "nbconvert_exporter": "python",
   "pygments_lexer": "ipython3",
   "version": "3.13.5"
  }
 },
 "nbformat": 4,
 "nbformat_minor": 5
}
