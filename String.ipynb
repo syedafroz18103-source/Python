{
 "cells": [
  {
   "cell_type": "code",
   "execution_count": 13,
   "id": "d723655d-8451-4706-ab4c-989df84c5881",
   "metadata": {},
   "outputs": [
    {
     "name": "stdout",
     "output_type": "stream",
     "text": [
      "gnimmargorp nohtyp\n"
     ]
    }
   ],
   "source": [
    "#Reverse a string\n",
    "s=\"python programming\"\n",
    "print(s[::-1])"
   ]
  },
  {
   "cell_type": "code",
   "execution_count": 14,
   "id": "6a602469-66f6-4b80-8e77-56d8f3d4002b",
   "metadata": {},
   "outputs": [
    {
     "name": "stdout",
     "output_type": "stream",
     "text": [
      "palindrome\n"
     ]
    }
   ],
   "source": [
    "#Palindrome\n",
    "a=\"racecar\"\n",
    "if a==a[::-1]:\n",
    "    print(\"palindrome\")"
   ]
  },
  {
   "cell_type": "code",
   "execution_count": 1,
   "id": "758db365-0f18-4a82-90b4-74d52201f5b7",
   "metadata": {},
   "outputs": [
    {
     "name": "stdout",
     "output_type": "stream",
     "text": [
      "6\n"
     ]
    }
   ],
   "source": [
    "#count the number of words\n",
    "s=\"python is a great programming language\"\n",
    "s1=len(s.split())\n",
    "print(s1)"
   ]
  },
  {
   "cell_type": "code",
   "execution_count": 12,
   "id": "c817fef2-6d8e-48c1-881c-6cacd52f4637",
   "metadata": {},
   "outputs": [
    {
     "data": {
      "text/plain": [
       "'Hello World'"
      ]
     },
     "execution_count": 12,
     "metadata": {},
     "output_type": "execute_result"
    }
   ],
   "source": [
    "s=\"hello world\"\n",
    "s.title()"
   ]
  },
  {
   "cell_type": "code",
   "execution_count": 16,
   "id": "787d0f06-d463-4f92-bd35-02cc6e9d4852",
   "metadata": {},
   "outputs": [
    {
     "name": "stdout",
     "output_type": "stream",
     "text": [
      "12\n"
     ]
    }
   ],
   "source": [
    "#length of string\n",
    "s=\"Data science\"\n",
    "print(len(s))"
   ]
  },
  {
   "cell_type": "code",
   "execution_count": 18,
   "id": "f5e37dca-edd0-4e4a-97e8-077797272186",
   "metadata": {},
   "outputs": [
    {
     "name": "stdout",
     "output_type": "stream",
     "text": [
      "Machine_Learning\n"
     ]
    }
   ],
   "source": [
    "#Replace\n",
    "s=\"Machine Learning\"\n",
    "print(s.replace(\" \",\"_\"))"
   ]
  },
  {
   "cell_type": "code",
   "execution_count": 25,
   "id": "fce38f5e-a5de-4914-b2ed-93a4bb6dec76",
   "metadata": {},
   "outputs": [
    {
     "name": "stdout",
     "output_type": "stream",
     "text": [
      "True\n"
     ]
    }
   ],
   "source": [
    "#Check if 'python' is in 'Python Programming Language'\n",
    "s=\"python programming language\"\n",
    "print(\"python\" in s)"
   ]
  },
  {
   "cell_type": "code",
   "execution_count": 21,
   "id": "76fbe797-8124-4178-8284-0e7bb44aef23",
   "metadata": {},
   "outputs": [
    {
     "name": "stdout",
     "output_type": "stream",
     "text": [
      "Artif\n"
     ]
    }
   ],
   "source": [
    "#extract first 5 letters\n",
    "s=\"Artificial Intelligence\"\n",
    "print(s[0:5])"
   ]
  },
  {
   "cell_type": "code",
   "execution_count": 23,
   "id": "89f4ab57-efb1-41ea-8156-7be7f3a7d7aa",
   "metadata": {},
   "outputs": [
    {
     "data": {
      "text/plain": [
       "'uppercase'"
      ]
     },
     "execution_count": 23,
     "metadata": {},
     "output_type": "execute_result"
    }
   ],
   "source": [
    "#upper to lower\n",
    "t=\"UPPERCASE\"\n",
    "t.lower()"
   ]
  },
  {
   "cell_type": "code",
   "execution_count": 23,
   "id": "71a7d129-2509-408a-ab1b-c61b50de871c",
   "metadata": {},
   "outputs": [
    {
     "name": "stdout",
     "output_type": "stream",
     "text": [
      "Cmptr Scnc"
     ]
    }
   ],
   "source": [
    "#Remove all vowels\n",
    "a=\"Computer Science\"\n",
    "v=\"AEIOUaeiou\"\n",
    "for i in a:\n",
    "    if i not in v:\n",
    "        print(i,end=\"\")"
   ]
  },
  {
   "cell_type": "code",
   "execution_count": 39,
   "id": "2b6b25a1-fb32-4ffa-ab1c-a0c202c44c37",
   "metadata": {},
   "outputs": [
    {
     "name": "stdout",
     "output_type": "stream",
     "text": [
      "s\n"
     ]
    }
   ],
   "source": [
    "#most frequent charecter\n",
    "m=\"mississippi\"\n",
    "f={}\n",
    "for i in m:\n",
    "    if i in f:\n",
    "        f[i]+=1\n",
    "    else:\n",
    "        f[i]=1\n",
    "h=max(f.keys())\n",
    "print(h)"
   ]
  },
  {
   "cell_type": "code",
   "execution_count": 45,
   "id": "6acd95eb-9a90-457b-b16b-6ecfdf44a4f5",
   "metadata": {},
   "outputs": [
    {
     "name": "stdout",
     "output_type": "stream",
     "text": [
      "Anagram\n"
     ]
    }
   ],
   "source": [
    "#Anagram\n",
    "a=\"listen\"\n",
    "b=\"silent\"\n",
    "if sorted(a)==sorted(b):\n",
    "    print(\"Anagram\")\n",
    "else:\n",
    "    print(\"Not Anagram\")"
   ]
  },
  {
   "cell_type": "code",
   "execution_count": 48,
   "id": "b5d4b771-d4a8-461d-8f8a-f0d041d44059",
   "metadata": {},
   "outputs": [
    {
     "data": {
      "text/plain": [
       "'Python Programming Language'"
      ]
     },
     "execution_count": 48,
     "metadata": {},
     "output_type": "execute_result"
    }
   ],
   "source": [
    "#capitalize first letter in each wor\n",
    "c=\"python programming language\"\n",
    "c.title()"
   ]
  },
  {
   "cell_type": "code",
   "execution_count": 56,
   "id": "48189a15-45e1-4dda-b3e3-25415860c25a",
   "metadata": {},
   "outputs": [
    {
     "name": "stdout",
     "output_type": "stream",
     "text": [
      "7\n"
     ]
    }
   ],
   "source": [
    "#count consonents\n",
    "s=\"Hello World\"\n",
    "v=\"AEIOUaeiou\"\n",
    "c=0\n",
    "for i in s:\n",
    "    if i not in v:\n",
    "        if i==\" \":\n",
    "            continue\n",
    "        c+=1\n",
    "print(c)"
   ]
  },
  {
   "cell_type": "code",
   "execution_count": 57,
   "id": "3da77cf6-2ec2-4f89-9cc6-3042da51c778",
   "metadata": {},
   "outputs": [
    {
     "name": "stdout",
     "output_type": "stream",
     "text": [
      "programming\n"
     ]
    }
   ],
   "source": [
    "#longest word in string\n",
    "l=\"Python is a programming language\"\n",
    "s=\"\"\n",
    "l1=l.split()\n",
    "for i in l1:\n",
    "    if len(i)>len(s):\n",
    "        s=i\n",
    "print(s)"
   ]
  },
  {
   "cell_type": "code",
   "execution_count": 39,
   "id": "3686efbe-d561-41ae-816a-1656566f0f0a",
   "metadata": {},
   "outputs": [
    {
     "name": "stdout",
     "output_type": "stream",
     "text": [
      "programming\n"
     ]
    }
   ],
   "source": [
    "# OR\n",
    "#Longest word\n",
    "l=\"Python is a programming language\"\n",
    "s=l.split()\n",
    "L=max(s)\n",
    "print(L)"
   ]
  },
  {
   "cell_type": "code",
   "execution_count": 10,
   "id": "b3ed59e2-c458-4637-baba-8a429f5ab02c",
   "metadata": {},
   "outputs": [
    {
     "name": "stdout",
     "output_type": "stream",
     "text": [
      "Hello World How are you\n"
     ]
    }
   ],
   "source": [
    "#removing all punctuations\n",
    "import string\n",
    "s=\"Hello, World! How are you?\"\n",
    "r=s.split()\n",
    "T = [w.strip(string.punctuation) for w in r if w.strip(string.punctuation).isalnum()]\n",
    "a=\" \".join(T)\n",
    "print(a)"
   ]
  },
  {
   "cell_type": "code",
   "execution_count": 3,
   "id": "200f5796-37e3-48bf-a0f3-d819c6a9855b",
   "metadata": {},
   "outputs": [
    {
     "data": {
      "text/plain": [
       "True"
      ]
     },
     "execution_count": 3,
     "metadata": {},
     "output_type": "execute_result"
    }
   ],
   "source": [
    "#Check if string start with python\n",
    "a=\"python\"\n",
    "a.startswith(\"python\")"
   ]
  },
  {
   "cell_type": "code",
   "execution_count": 8,
   "id": "118d5dc0-341d-405d-8c4b-cdd32b87ab9c",
   "metadata": {},
   "outputs": [
    {
     "data": {
      "text/plain": [
       "['apple', 'banana', 'orange']"
      ]
     },
     "execution_count": 8,
     "metadata": {},
     "output_type": "execute_result"
    }
   ],
   "source": [
    "l=\"apple,banana,orange\"\n",
    "l.split(\",\")"
   ]
  },
  {
   "cell_type": "code",
   "execution_count": 14,
   "id": "070085d6-c194-4aee-9bb6-95fc14547373",
   "metadata": {},
   "outputs": [
    {
     "data": {
      "text/plain": [
       "'python is awesome'"
      ]
     },
     "execution_count": 14,
     "metadata": {},
     "output_type": "execute_result"
    }
   ],
   "source": [
    "#join the list\n",
    "l=['python', 'is', 'awesome']\n",
    "\" \".join(l)"
   ]
  },
  {
   "cell_type": "code",
   "execution_count": 3,
   "id": "c3a13a11-1ca9-44e5-b04d-78b813a637b1",
   "metadata": {},
   "outputs": [
    {
     "name": "stdout",
     "output_type": "stream",
     "text": [
      "4\n"
     ]
    }
   ],
   "source": [
    "#Find the index of first occurrence of 'o' in 'Hello World\n",
    "a=\"Hello World\"\n",
    "f=a.index(\"o\")\n",
    "print(f)"
   ]
  },
  {
   "cell_type": "code",
   "execution_count": 4,
   "id": "62155d3b-9fe7-489c-a949-a59ec2ffe8a4",
   "metadata": {},
   "outputs": [
    {
     "data": {
      "text/plain": [
       "4"
      ]
     },
     "execution_count": 4,
     "metadata": {},
     "output_type": "execute_result"
    }
   ],
   "source": [
    "#or\n",
    "a=\"Hello World\"\n",
    "a.find(\"o\")"
   ]
  },
  {
   "cell_type": "code",
   "execution_count": 16,
   "id": "e9fa8d54-6ed7-4530-abbf-3084d85b94c8",
   "metadata": {},
   "outputs": [
    {
     "data": {
      "text/plain": [
       "True"
      ]
     },
     "execution_count": 16,
     "metadata": {},
     "output_type": "execute_result"
    }
   ],
   "source": [
    "#Check if string contains only digits: '12345'\n",
    "s=\"12345\"\n",
    "s.isdigit()"
   ]
  },
  {
   "cell_type": "code",
   "execution_count": 17,
   "id": "eb5886a7-d666-4813-8542-66e9b96b807e",
   "metadata": {},
   "outputs": [
    {
     "data": {
      "text/plain": [
       "True"
      ]
     },
     "execution_count": 17,
     "metadata": {},
     "output_type": "execute_result"
    }
   ],
   "source": [
    "#Check if string contains only letters: 'Helloworld'\n",
    "s=\"Helloworld\"\n",
    "s.isalpha()"
   ]
  },
  {
   "cell_type": "code",
   "execution_count": 29,
   "id": "46384c0b-784e-4191-bf44-ad1528991b99",
   "metadata": {},
   "outputs": [
    {
     "data": {
      "text/plain": [
       "'hElLo wOrLd'"
      ]
     },
     "execution_count": 29,
     "metadata": {},
     "output_type": "execute_result"
    }
   ],
   "source": [
    "#Convert 'hello world' to 'hElLo WoRlD'\n",
    "a=\"hello world\"\n",
    "r= ''\n",
    "s= 0\n",
    "for i in a:\n",
    "    if s % 2 == 0:\n",
    "        r+= i.lower()\n",
    "    else:\n",
    "        r+= i.upper()\n",
    "    s += 1\n",
    "r"
   ]
  },
  {
   "cell_type": "code",
   "execution_count": 12,
   "id": "7ca924c5-da1b-4e0a-aff2-759f4ce4c6d1",
   "metadata": {},
   "outputs": [
    {
     "name": "stdout",
     "output_type": "stream",
     "text": [
      "1\n",
      "1\n",
      "1\n"
     ]
    }
   ],
   "source": [
    "#Find all positions of 'a' in 'banana'\n",
    "s=\"banana\"\n",
    "for i in s:\n",
    "    if i==\"a\":\n",
    "        print(s.index(i))\n",
    "        continue"
   ]
  },
  {
   "cell_type": "code",
   "execution_count": 1,
   "id": "cb896018-6586-49f9-8946-15b6d772bc7d",
   "metadata": {},
   "outputs": [
    {
     "data": {
      "text/plain": [
       "'Hello World'"
      ]
     },
     "execution_count": 1,
     "metadata": {},
     "output_type": "execute_result"
    }
   ],
   "source": [
    "#Remove leading and trailing whitespace from '  Hello World  '\n",
    "s=\"  Hello World  \"\n",
    "s.strip()"
   ]
  },
  {
   "cell_type": "code",
   "execution_count": 3,
   "id": "8518864c-3cfa-4d5d-8df2-a4ef0d1ef312",
   "metadata": {},
   "outputs": [
    {
     "data": {
      "text/plain": [
       "True"
      ]
     },
     "execution_count": 3,
     "metadata": {},
     "output_type": "execute_result"
    }
   ],
   "source": [
    "#Check if string ends with 'ing': 'programming'\n",
    "A=\"Programming\"\n",
    "A.endswith(\"ing\")"
   ]
  },
  {
   "cell_type": "code",
   "execution_count": 9,
   "id": "fb69be0c-5c51-4699-9da9-d5900c97787b",
   "metadata": {},
   "outputs": [
    {
     "name": "stdout",
     "output_type": "stream",
     "text": [
      "a\n"
     ]
    }
   ],
   "source": [
    "# Find the shortest word in 'Python is a programming language'\n",
    "s=\"Python is a programming language\"\n",
    "l=s.split()\n",
    "min=len(l[0])\n",
    "m=\" \"\n",
    "for i in l:\n",
    "    if len(i)<min:\n",
    "        m=i\n",
    "print(m)"
   ]
  },
  {
   "cell_type": "code",
   "execution_count": 13,
   "id": "4cc0a646-3f12-4b2e-91c9-e625c34d747c",
   "metadata": {},
   "outputs": [
    {
     "data": {
      "text/plain": [
       "'Hell0 World'"
      ]
     },
     "execution_count": 13,
     "metadata": {},
     "output_type": "execute_result"
    }
   ],
   "source": [
    "# Replace first occurrence of 'o' with '0' in 'Hello World'\n",
    "S=\"Hello World\"\n",
    "s=S.replace(\"o\",\"0\",1)\n",
    "s"
   ]
  },
  {
   "cell_type": "code",
   "execution_count": 23,
   "id": "d2f2a387-6fcd-448c-b4a1-79bfc36b93b8",
   "metadata": {},
   "outputs": [
    {
     "name": "stdout",
     "output_type": "stream",
     "text": [
      "2\n"
     ]
    }
   ],
   "source": [
    "# Count words that start with 'p' in 'Python programming is powerful'\n",
    "s=\"Python programming is powerful\"\n",
    "c=0\n",
    "for i in s:\n",
    "    if i==\"p\":\n",
    "        c+=1\n",
    "print(c)"
   ]
  },
  {
   "cell_type": "code",
   "execution_count": 24,
   "id": "fd0fc843-1f39-46b4-8b97-f9192e73c9c0",
   "metadata": {},
   "outputs": [
    {
     "data": {
      "text/plain": [
       "2"
      ]
     },
     "execution_count": 24,
     "metadata": {},
     "output_type": "execute_result"
    }
   ],
   "source": [
    "# OR\n",
    "s=\"Python programming is powerful\"\n",
    "s.count(\"p\")"
   ]
  },
  {
   "cell_type": "code",
   "execution_count": 22,
   "id": "af58f696-6593-4a4a-b2de-b8c5f6f9c62c",
   "metadata": {},
   "outputs": [
    {
     "name": "stdout",
     "output_type": "stream",
     "text": [
      "Python World Hello\n"
     ]
    }
   ],
   "source": [
    "# Reverse words in 'Hello World Python'\n",
    "s=\"Hello World Python\"\n",
    "l=s.split()\n",
    "q=l[::-1]\n",
    "a=\" \".join(q)\n",
    "print(a)"
   ]
  },
  {
   "cell_type": "code",
   "execution_count": 30,
   "id": "06f08a6a-3365-4540-9430-621e54b8e9e2",
   "metadata": {},
   "outputs": [
    {
     "data": {
      "text/plain": [
       "True"
      ]
     },
     "execution_count": 30,
     "metadata": {},
     "output_type": "execute_result"
    }
   ],
   "source": [
    "#Check if string is a valid email format: 'user@example.com'\n",
    "S=\"user@example.com\"\n",
    "S.endswith(\"@example.com\")"
   ]
  },
  {
   "cell_type": "code",
   "execution_count": 38,
   "id": "6b28b8c5-a3b3-4d4e-bba4-dad8baa11b6a",
   "metadata": {},
   "outputs": [
    {
     "data": {
      "text/plain": [
       "'com/path'"
      ]
     },
     "execution_count": 38,
     "metadata": {},
     "output_type": "execute_result"
    }
   ],
   "source": [
    "#Extract domain from 'https://www.example.com/path'\n",
    "s=\"https://www.example.com/path\"\n",
    "s.split(\".\")[2]"
   ]
  },
  {
   "cell_type": "code",
   "execution_count": 34,
   "id": "1f5ccec6-f480-4028-95ee-5207fc6f1332",
   "metadata": {},
   "outputs": [
    {
     "data": {
      "text/plain": [
       "4"
      ]
     },
     "execution_count": 34,
     "metadata": {},
     "output_type": "execute_result"
    }
   ],
   "source": [
    "#Count lines in multi-line string\n",
    "a=\"\"\"My name is Afroz\\n\n",
    "Im from madanapalle\n",
    "i have completed my btech\n",
    "in madanapalle\"\"\"\n",
    "a.count(\"\\n\")"
   ]
  },
  {
   "cell_type": "code",
   "execution_count": 45,
   "id": "fe586280-aab4-4e91-9b7e-aa8a5c7f02eb",
   "metadata": {},
   "outputs": [
    {
     "data": {
      "text/plain": [
       "{'l', 'o'}"
      ]
     },
     "execution_count": 45,
     "metadata": {},
     "output_type": "execute_result"
    }
   ],
   "source": [
    "#Find common characters between 'hello' and 'world'\n",
    "s=\"hello\"\n",
    "r=\"world\"\n",
    "re=set(s)\n",
    "res=set(r)\n",
    "re.intersection(res)"
   ]
  },
  {
   "cell_type": "code",
   "execution_count": 55,
   "id": "4ecd588f-6aeb-4243-b980-71cd6aa873f8",
   "metadata": {},
   "outputs": [
    {
     "name": "stdout",
     "output_type": "stream",
     "text": [
      "Valid\n"
     ]
    }
   ],
   "source": [
    "#Check if string is a valid phone number: '+1-555-123-4567'\n",
    "s=\"+1-555-123-4567\"\n",
    "r= s.split('-')\n",
    "\n",
    "if (\n",
    "    len(r) == 4 and\n",
    "    r[0].startswith('+') and r[0][1:].isdigit() and\n",
    "    r[1].isdigit() and len(r[1]) == 3 and\n",
    "    r[2].isdigit() and len(r[2]) == 3 and\n",
    "    r[3].isdigit() and len(r[3]) == 4\n",
    "   ):\n",
    "    print(\"Valid\")\n",
    "else:\n",
    "    print(\"Invalid\")"
   ]
  },
  {
   "cell_type": "code",
   "execution_count": 57,
   "id": "e9aa0ad8-cc67-4235-977e-6aa4925911fb",
   "metadata": {},
   "outputs": [
    {
     "name": "stdout",
     "output_type": "stream",
     "text": [
      "123456789\n"
     ]
    }
   ],
   "source": [
    "#Extract numbers from 'abc123def456ghi789'\n",
    "s=\"abc123def456ghi789\"\n",
    "l=\"\"\n",
    "for i in s:\n",
    "    if i.isdigit():\n",
    "        l+=i\n",
    "print(l)"
   ]
  },
  {
   "cell_type": "code",
   "execution_count": 65,
   "id": "57b72384-954f-4d46-bfa3-472679e2b1d9",
   "metadata": {},
   "outputs": [
    {
     "name": "stdout",
     "output_type": "stream",
     "text": [
      "camelCase\n"
     ]
    }
   ],
   "source": [
    "#Convert 'snake_case' to 'camelCase'\n",
    "a=\"snake_case\"\n",
    "s=a.split(\"_\")\n",
    "d=s[0].replace(\"snake\",\"camel\")\n",
    "c=d+\"\".join(s.capitalize() for s in s[1:])\n",
    "print(c)"
   ]
  },
  {
   "cell_type": "code",
   "execution_count": 72,
   "id": "dd9c4a84-afc6-4fa3-8059-d4ecc3113d00",
   "metadata": {},
   "outputs": [
    {
     "name": "stdout",
     "output_type": "stream",
     "text": [
      "True\n"
     ]
    }
   ],
   "source": [
    "#Check if string is a valid palindrome ignoring case: 'A man a plan a canal Panama'\n",
    "a=\"A man a plan a canal Panama\"\n",
    "b=a.replace(\" \",\"\").lower()\n",
    "c=b==b[::-1]\n",
    "print(c)"
   ]
  },
  {
   "cell_type": "code",
   "execution_count": 75,
   "id": "33550c59-4a60-4010-8e86-72d4078fc000",
   "metadata": {},
   "outputs": [
    {
     "name": "stdout",
     "output_type": "stream",
     "text": [
      "the\n"
     ]
    }
   ],
   "source": [
    "#Find the most common word in 'the quick brown fox jumps over the lazy dog'\n",
    "a=\"the quick brown fox jumps over the lazy dog\"\n",
    "s=a.split(\" \")\n",
    "d={}\n",
    "for i in s:\n",
    "    if i in d:\n",
    "        d[i]+=i\n",
    "    else:\n",
    "        d[i]=i\n",
    "f=max(d.keys())\n",
    "print(f)"
   ]
  },
  {
   "cell_type": "code",
   "execution_count": 13,
   "id": "591d5f73-73c1-4be7-8445-f5a5b883cfbe",
   "metadata": {},
   "outputs": [
    {
     "name": "stdout",
     "output_type": "stream",
     "text": [
      "NAASA\n"
     ]
    }
   ],
   "source": [
    "#Generate acronym from 'National Aeronautics and Space Administration'\n",
    "s=\"National Aeronautics and Space Administration\"\n",
    "t=s.split()\n",
    "l=\"\".join(w[0].upper() for w in t)\n",
    "print(l)"
   ]
  },
  {
   "cell_type": "code",
   "execution_count": 15,
   "id": "8e1c4632-c6d2-43a8-8e94-83c2c0133f04",
   "metadata": {},
   "outputs": [
    {
     "name": "stdout",
     "output_type": "stream",
     "text": [
      "Balanced\n"
     ]
    }
   ],
   "source": [
    "#Check if string contains balanced parentheses: '((()))'\n",
    "a=\"((()))\"\n",
    "c=0\n",
    "for i in a:\n",
    "    if i==\"(\":\n",
    "        c+=1\n",
    "    elif i==\")\":\n",
    "        c-=1\n",
    "    if c<0:\n",
    "        print(\"unbalanced\")\n",
    "        break\n",
    "if c==0:\n",
    "    print(\"Balanced\")\n",
    "else:\n",
    "    print(\"Unbalanced\")"
   ]
  },
  {
   "cell_type": "code",
   "execution_count": 1,
   "id": "e8f7c5e9-7b8a-4be8-ad2d-33a2acac9131",
   "metadata": {},
   "outputs": [
    {
     "ename": "_IncompleteInputError",
     "evalue": "incomplete input (1744574440.py, line 19)",
     "output_type": "error",
     "traceback": [
      "  \u001b[36mCell\u001b[39m\u001b[36m \u001b[39m\u001b[32mIn[1]\u001b[39m\u001b[32m, line 19\u001b[39m\n\u001b[31m    \u001b[39m\n    ^\n\u001b[31m_IncompleteInputError\u001b[39m\u001b[31m:\u001b[39m incomplete input\n"
     ]
    }
   ],
   "source": [
    "# Convert 'hello world' to Morse code\n",
    "s=\"hello world\"\n",
    "MC= { 'A':'.-', 'B':'-...',\n",
    "      'C':'-.-.', 'D':'-..', 'E':'.',\n",
    "      'F':'..-.', 'G':'--.', 'H':'....',\n",
    "      'I':'..', 'J':'.---', 'K':'-.-',\n",
    "      'L':'.-..', 'M':'--', 'N':'-.',\n",
    "      'O':'---', 'P':'.--.', 'Q':'--.-',\n",
    "      'R':'.-.', 'S':'...', 'T':'-',\n",
    "      'U':'..-', 'V':'...-', 'W':'.--',\n",
    "      'X':'-..-', 'Y':'-.--', 'Z':'--..',\n",
    "      '1':'.----', '2':'..---', '3':'...--',\n",
    "      '4':'....-', '5':'.....', '6':'-....',\n",
    "      '7':'--...', '8':'---..', '9':'----.',\n",
    "      '0':'-----', ', ':'--..--', '.':'.-.-.-',\n",
    "      '?':'..--..', '/':'-..-.', '-':'-....-',\n",
    "      '(':'-.--.', ')':'-.--.-'}\n",
    "for i in s:\n",
    "    "
   ]
  },
  {
   "cell_type": "code",
   "execution_count": 2,
   "id": "c75c2da8-ccc3-4517-b9d1-ca6aa7e7c9a8",
   "metadata": {},
   "outputs": [],
   "source": [
    "#Find the longest common substring between 'programming' and 'grammar'\n"
   ]
  },
  {
   "cell_type": "code",
   "execution_count": 3,
   "id": "e26b5a25-88a4-4eb0-85cc-c1a10a66f376",
   "metadata": {},
   "outputs": [
    {
     "name": "stdout",
     "output_type": "stream",
     "text": [
      "True\n"
     ]
    }
   ],
   "source": [
    "#Checkif string is a valid URL: 'https://www.google.com'\n",
    "s=\"https://www.google.com\"\n",
    "print(s.endswith(\"google.com\"))"
   ]
  },
  {
   "cell_type": "code",
   "execution_count": 21,
   "id": "1f5ba13d-224c-4848-9799-085aa0e14f9f",
   "metadata": {},
   "outputs": [
    {
     "name": "stdout",
     "output_type": "stream",
     "text": [
      " Pythonprogrammingamazingpowerful "
     ]
    }
   ],
   "source": [
    "#Extract all words with length > 5 from 'Python programming is amazing and powerful'\n",
    "s=\"Python programming is amazing and powerful\"\n",
    "a=\" \"\n",
    "t=s.split()\n",
    "for i in t:\n",
    "    if len(i)>5:\n",
    "        a+=i\n",
    "print(a)"
   ]
  },
  {
   "cell_type": "code",
   "execution_count": null,
   "id": "abd53ad9-a5eb-4c72-afb1-f2c4ef036c3d",
   "metadata": {},
   "outputs": [],
   "source": [
    "#Convert 'hello world' to Pig Latin\n"
   ]
  }
 ],
 "metadata": {
  "kernelspec": {
   "display_name": "Python 3 (ipykernel)",
   "language": "python",
   "name": "python3"
  },
  "language_info": {
   "codemirror_mode": {
    "name": "ipython",
    "version": 3
   },
   "file_extension": ".py",
   "mimetype": "text/x-python",
   "name": "python",
   "nbconvert_exporter": "python",
   "pygments_lexer": "ipython3",
   "version": "3.13.5"
  }
 },
 "nbformat": 4,
 "nbformat_minor": 5
}
