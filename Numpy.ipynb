{
 "cells": [
  {
   "cell_type": "code",
   "execution_count": 1,
   "id": "87c11348-eb32-4382-bb6a-39e64ad50c1b",
   "metadata": {},
   "outputs": [
    {
     "name": "stdout",
     "output_type": "stream",
     "text": [
      "[[    1 25000   300  1200    10]\n",
      " [    2 32000   450  1500    15]\n",
      " [    3 28000   380  1100     8]\n",
      " [    4 41000   500  1600    20]\n",
      " [    5 35000   420  1400    12]\n",
      " [    6 27000   360  1300     9]\n",
      " [    7 39000   480  1700    18]\n",
      " [    8 30000   400  1250    14]\n",
      " [    9 45000   550  1800    25]\n",
      " [   10 33000   410  1450    11]]\n"
     ]
    }
   ],
   "source": [
    "import numpy as np\n",
    "\n",
    "# Manually created array: [Store ID, Sales, Customers, Inventory, Returns]\n",
    "retail_data = np.array([\n",
    "    [1, 25000, 300, 1200, 10],\n",
    "    [2, 32000, 450, 1500, 15],\n",
    "    [3, 28000, 380, 1100, 8],\n",
    "    [4, 41000, 500, 1600, 20],\n",
    "    [5, 35000, 420, 1400, 12],\n",
    "    [6, 27000, 360, 1300, 9],\n",
    "    [7, 39000, 480, 1700, 18],\n",
    "    [8, 30000, 400, 1250, 14],\n",
    "    [9, 45000, 550, 1800, 25],\n",
    "    [10, 33000, 410, 1450, 11]\n",
    "])\n",
    "\n",
    "print(retail_data)\n"
   ]
  },
  {
   "cell_type": "code",
   "execution_count": 3,
   "id": "783d1bfe-af6a-462b-9455-055160d35b0b",
   "metadata": {},
   "outputs": [
    {
     "data": {
      "text/plain": [
       "np.int64(4790500000)"
      ]
     },
     "execution_count": 3,
     "metadata": {},
     "output_type": "execute_result"
    }
   ],
   "source": [
    "#What is the **total revenue** generated across all stores?\n",
    "s=retail_data[:,1].sum()*retail_data[:,3].sum()\n",
    "s"
   ]
  },
  {
   "cell_type": "code",
   "execution_count": 10,
   "id": "4fc285f3-d2ee-45d9-aa84-996427678238",
   "metadata": {},
   "outputs": [
    {
     "data": {
      "text/plain": [
       "np.int64(9)"
      ]
     },
     "execution_count": 10,
     "metadata": {},
     "output_type": "execute_result"
    }
   ],
   "source": [
    "#Which store recorded the **highest sales**?\n",
    "retail_data[:,1].argmax()+1"
   ]
  },
  {
   "cell_type": "code",
   "execution_count": 11,
   "id": "07635087-ce49-4bf9-96f2-93616a9a8635",
   "metadata": {},
   "outputs": [
    {
     "data": {
      "text/plain": [
       "np.int64(1)"
      ]
     },
     "execution_count": 11,
     "metadata": {},
     "output_type": "execute_result"
    }
   ],
   "source": [
    "#Which store recorded the **lowest sales**?\n",
    "retail_data[:,1].argmin()+1"
   ]
  },
  {
   "cell_type": "code",
   "execution_count": 12,
   "id": "93e2f31f-c0f1-49fc-b66d-cbbb21677f01",
   "metadata": {},
   "outputs": [
    {
     "data": {
      "text/plain": [
       "np.float64(33500.0)"
      ]
     },
     "execution_count": 12,
     "metadata": {},
     "output_type": "execute_result"
    }
   ],
   "source": [
    "#What is the **average daily sales** per store?\n",
    "retail_data[:,1].sum()/10"
   ]
  },
  {
   "cell_type": "code",
   "execution_count": 13,
   "id": "e1921a0a-1f15-4f6d-85f4-05a21d66c8d6",
   "metadata": {},
   "outputs": [
    {
     "data": {
      "text/plain": [
       "array([41000, 39000, 45000])"
      ]
     },
     "execution_count": 13,
     "metadata": {},
     "output_type": "execute_result"
    }
   ],
   "source": [
    "#How many stores achieved sales **above ₹35,000**?\n",
    "a=retail_data[:,1]\n",
    "s=a[a>35000]\n",
    "s"
   ]
  },
  {
   "cell_type": "code",
   "execution_count": 14,
   "id": "4fd2e68f-e699-4b67-b401-474bbdd57d8a",
   "metadata": {},
   "outputs": [
    {
     "data": {
      "text/plain": [
       "np.int64(9)"
      ]
     },
     "execution_count": 14,
     "metadata": {},
     "output_type": "execute_result"
    }
   ],
   "source": [
    "#6. Which store had the **highest customer footfall**?\n",
    "retail_data[:,2].argmax()+1"
   ]
  },
  {
   "cell_type": "code",
   "execution_count": 15,
   "id": "b0247ba1-1fa2-4b9c-8bde-91a2dcf23537",
   "metadata": {},
   "outputs": [
    {
     "data": {
      "text/plain": [
       "np.float64(425.0)"
      ]
     },
     "execution_count": 15,
     "metadata": {},
     "output_type": "execute_result"
    }
   ],
   "source": [
    "#7. What is the **average number of customers** per store?\n",
    "retail_data[:,2].sum()/10"
   ]
  },
  {
   "cell_type": "code",
   "execution_count": 19,
   "id": "193e1d56-c4c5-4c75-a049-a5a3894acea5",
   "metadata": {},
   "outputs": [
    {
     "data": {
      "text/plain": [
       "array([500, 480, 550])"
      ]
     },
     "execution_count": 19,
     "metadata": {},
     "output_type": "execute_result"
    }
   ],
   "source": [
    "#8. How many stores have **more than 450 customers**?\n",
    "a=retail_data[:,2]\n",
    "s=a[a>450]\n",
    "s"
   ]
  },
  {
   "cell_type": "code",
   "execution_count": 23,
   "id": "23f7e683-9c7b-49f0-8e15-e7346d147eeb",
   "metadata": {},
   "outputs": [
    {
     "data": {
      "text/plain": [
       "np.int64(1)"
      ]
     },
     "execution_count": 23,
     "metadata": {},
     "output_type": "execute_result"
    }
   ],
   "source": [
    "#9. Which store has the **lowest customer count**?\n",
    "retail_data[:,2].argmin()+1"
   ]
  },
  {
   "cell_type": "code",
   "execution_count": 24,
   "id": "a07c58cc-0a9a-40a1-82ec-e5e77939de27",
   "metadata": {},
   "outputs": [
    {
     "data": {
      "text/plain": [
       "array([[    5, 35000,   420,  1400,    12]])"
      ]
     },
     "execution_count": 24,
     "metadata": {},
     "output_type": "execute_result"
    }
   ],
   "source": [
    "#10. Is there any store where **high sales do not correspond to high customers**?\n",
    "s = retail_data[:,1].mean()\n",
    "c = retail_data[:,2].mean()\n",
    "m = retail_data[(retail_data[:,1] > s) & (retail_data[:,2] < c)]\n",
    "m"
   ]
  },
  {
   "cell_type": "code",
   "execution_count": 25,
   "id": "6a74f2de-4c5c-4231-aefb-449173e5b07c",
   "metadata": {},
   "outputs": [
    {
     "data": {
      "text/plain": [
       "np.int64(14300)"
      ]
     },
     "execution_count": 25,
     "metadata": {},
     "output_type": "execute_result"
    }
   ],
   "source": [
    "#11. What is the **total inventory** across all stores?\n",
    "retail_data[:,3].sum()"
   ]
  },
  {
   "cell_type": "code",
   "execution_count": 26,
   "id": "1408678c-ab40-49ae-bf7e-3a193a1eb168",
   "metadata": {},
   "outputs": [
    {
     "data": {
      "text/plain": [
       "np.int64(9)"
      ]
     },
     "execution_count": 26,
     "metadata": {},
     "output_type": "execute_result"
    }
   ],
   "source": [
    "#12. Which store has the **highest inventory stock**?\n",
    "retail_data[:,3].argmax()+1"
   ]
  },
  {
   "cell_type": "code",
   "execution_count": 33,
   "id": "603cc5db-8eab-4a14-8576-0759e8a7089f",
   "metadata": {},
   "outputs": [
    {
     "data": {
      "text/plain": [
       "array([[    1, 25000,   300,  1200,    10],\n",
       "       [    3, 28000,   380,  1100,     8],\n",
       "       [    8, 30000,   400,  1250,    14]])"
      ]
     },
     "execution_count": 33,
     "metadata": {},
     "output_type": "execute_result"
    }
   ],
   "source": [
    "#13. How many stores have **inventory less than 1300 units**?\n",
    "a=retail_data[:,3]\n",
    "s=retail_data[a<1300]\n",
    "s"
   ]
  },
  {
   "cell_type": "code",
   "execution_count": 29,
   "id": "4338e115-65fc-4645-adf5-668f7a4a79ba",
   "metadata": {},
   "outputs": [
    {
     "data": {
      "text/plain": [
       "np.int64(9)"
      ]
     },
     "execution_count": 29,
     "metadata": {},
     "output_type": "execute_result"
    }
   ],
   "source": [
    "#14. Which store has the **highest return rate** (returns ÷ inventory)?\n",
    "s=(retail_data[:,4])/(retail_data[:,3])\n",
    "s.argmax()+1\n"
   ]
  },
  {
   "cell_type": "code",
   "execution_count": 31,
   "id": "3d183b2c-3b31-4316-a166-3d42d9c02fa6",
   "metadata": {},
   "outputs": [
    {
     "data": {
      "text/plain": [
       "array([[    4, 41000,   500,  1600,    20],\n",
       "       [    7, 39000,   480,  1700,    18],\n",
       "       [    9, 45000,   550,  1800,    25]])"
      ]
     },
     "execution_count": 31,
     "metadata": {},
     "output_type": "execute_result"
    }
   ],
   "source": [
    "#15. Which stores have **returns greater than 15 units**?\n",
    "s=retail_data[:,4]\n",
    "a=retail_data[s>15]\n",
    "a"
   ]
  },
  {
   "cell_type": "code",
   "execution_count": 37,
   "id": "3365ceb6-c90d-494f-aee5-33c488dc02d8",
   "metadata": {},
   "outputs": [
    {
     "data": {
      "text/plain": [
       "np.float64(0.9593636912502479)"
      ]
     },
     "execution_count": 37,
     "metadata": {},
     "output_type": "execute_result"
    }
   ],
   "source": [
    "#16. Is there a **positive correlation** between sales and customers?\n",
    "s=retail_data[:,1]\n",
    "t=retail_data[:,2]\n",
    "c=np.corrcoef(s,t)[0,1]\n",
    "c"
   ]
  },
  {
   "cell_type": "code",
   "execution_count": 40,
   "id": "4ac0b427-6a9f-40e3-bcc4-eb5b122b9eee",
   "metadata": {},
   "outputs": [
    {
     "data": {
      "text/plain": [
       "array([[    2, 32000,   450,  1500,    15]])"
      ]
     },
     "execution_count": 40,
     "metadata": {},
     "output_type": "execute_result"
    }
   ],
   "source": [
    "#17. Which store has **high customer visits but low sales**?\n",
    "s = retail_data[:,2].mean()\n",
    "t = retail_data[:,1].mean()\n",
    "r = retail_data[(retail_data[:,2] > s) & (retail_data[:,1] < t)]\n",
    "r"
   ]
  },
  {
   "cell_type": "code",
   "execution_count": 41,
   "id": "294706e6-79e3-47ae-abe5-3b9f0f780f9d",
   "metadata": {},
   "outputs": [
    {
     "data": {
      "text/plain": [
       "array([[    5, 35000,   420,  1400,    12]])"
      ]
     },
     "execution_count": 41,
     "metadata": {},
     "output_type": "execute_result"
    }
   ],
   "source": [
    "#18. Which store has **low customers but high sales**?\n",
    "s = retail_data[:,1].mean()\n",
    "t = retail_data[:,2].mean()\n",
    "r = retail_data[(retail_data[:,1] > s) & (retail_data[:,2] < t)]\n",
    "r"
   ]
  },
  {
   "cell_type": "code",
   "execution_count": 43,
   "id": "4c7b0043-bc7b-4e4c-9e9b-bedc52b831a2",
   "metadata": {},
   "outputs": [
    {
     "data": {
      "text/plain": [
       "np.int64(0)"
      ]
     },
     "execution_count": 43,
     "metadata": {},
     "output_type": "execute_result"
    }
   ],
   "source": [
    "#19. How many stores have **sales per customer above ₹90**?\n",
    "s=retail_data[:,1]/retail_data[:,2]\n",
    "t=np.sum(s>90)\n",
    "t"
   ]
  },
  {
   "cell_type": "code",
   "execution_count": 45,
   "id": "1e068e5e-ab3d-4a1b-b312-7a95043c1876",
   "metadata": {},
   "outputs": [
    {
     "data": {
      "text/plain": [
       "array([83.33333333, 71.11111111, 73.68421053, 82.        , 83.33333333,\n",
       "       75.        , 81.25      , 75.        , 81.81818182, 80.48780488])"
      ]
     },
     "execution_count": 45,
     "metadata": {},
     "output_type": "execute_result"
    }
   ],
   "source": [
    "s=retail_data[:,1]/retail_data[:,2]\n",
    "s"
   ]
  },
  {
   "cell_type": "code",
   "execution_count": 54,
   "id": "8ebfeca3-05b8-44f4-bb7c-e8236ad0944d",
   "metadata": {},
   "outputs": [
    {
     "data": {
      "text/plain": [
       "array([], shape=(0, 5), dtype=int64)"
      ]
     },
     "execution_count": 54,
     "metadata": {},
     "output_type": "execute_result"
    }
   ],
   "source": [
    "#20. Which stores could **benefit from customer acquisition campaigns** (low customers, high inventory)?\n",
    "s = retail_data[:,2].mean()\n",
    "t = retail_data[:,3].mean()\n",
    "r = (retail_data[(retail_data[:,1] < s) & (retail_data[:,2] >t)])\n",
    "r"
   ]
  },
  {
   "cell_type": "code",
   "execution_count": 55,
   "id": "18feeb68-71f0-4f1e-a729-12604d6294e5",
   "metadata": {},
   "outputs": [
    {
     "data": {
      "text/plain": [
       "array([5000., 6400., 5600., 8200., 7000., 5400., 7800., 6000., 9000.,\n",
       "       6600.])"
      ]
     },
     "execution_count": 55,
     "metadata": {},
     "output_type": "execute_result"
    }
   ],
   "source": [
    "#21. If profit margin is **20% of sales**, what is the **profit per store**?\n",
    "s=0.2 * retail_data[:,1]\n",
    "s"
   ]
  },
  {
   "cell_type": "code",
   "execution_count": 59,
   "id": "3f4fde61-8ef8-40dc-920a-a4a7cfd9a561",
   "metadata": {},
   "outputs": [
    {
     "data": {
      "text/plain": [
       "np.int64(9)"
      ]
     },
     "execution_count": 59,
     "metadata": {},
     "output_type": "execute_result"
    }
   ],
   "source": [
    "#22. Which store has the **highest profit**?\n",
    "retail_data[:,4].argmax()+1"
   ]
  },
  {
   "cell_type": "code",
   "execution_count": 60,
   "id": "57c4369c-90cc-478e-8a44-14614ccff3bb",
   "metadata": {},
   "outputs": [
    {
     "data": {
      "text/plain": [
       "np.int64(3)"
      ]
     },
     "execution_count": 60,
     "metadata": {},
     "output_type": "execute_result"
    }
   ],
   "source": [
    "#23. Which store has the **lowest profit**?\n",
    "retail_data[:,4].argmin()+1"
   ]
  },
  {
   "cell_type": "code",
   "execution_count": 62,
   "id": "95a15e24-6abc-4110-8bcb-b61efe2b462b",
   "metadata": {},
   "outputs": [
    {
     "data": {
      "text/plain": [
       "array([27500., 35200., 30800., 45100., 38500., 29700., 42900., 33000.,\n",
       "       49500., 36300.])"
      ]
     },
     "execution_count": 62,
     "metadata": {},
     "output_type": "execute_result"
    }
   ],
   "source": [
    "#24. If sales increase by **10% next month**, what are the **new sales figures**?\n",
    "s=0.1*retail_data[:,1]+retail_data[:,1]\n",
    "s"
   ]
  },
  {
   "cell_type": "code",
   "execution_count": 64,
   "id": "59507a0d-2d77-4716-8421-a725304b44b1",
   "metadata": {},
   "outputs": [
    {
     "data": {
      "text/plain": [
       "array([11. , 16.5,  8.8, 22. , 13.2,  9.9, 19.8, 15.4, 27.5, 12.1])"
      ]
     },
     "execution_count": 64,
     "metadata": {},
     "output_type": "execute_result"
    }
   ],
   "source": [
    "#25. How will **total profit** change with the 10% sales increase?\n",
    "s=0.1*retail_data[:,4]+retail_data[:,4]\n",
    "s"
   ]
  },
  {
   "cell_type": "code",
   "execution_count": 76,
   "id": "e404ca7d-6ec5-490e-b614-44a93e6ecf50",
   "metadata": {},
   "outputs": [
    {
     "name": "stdout",
     "output_type": "stream",
     "text": [
      "Stores needing restocking: [ 1  2  3  4  5  6  7  8  9 10]\n"
     ]
    }
   ],
   "source": [
    "#26. Which stores need **inventory restocking** based on sales and current stock?\n",
    "store_ids = retail_data[:, 0]\n",
    "sales = retail_data[:, 1]\n",
    "inventory = retail_data[:, 3]\n",
    "\n",
    "# Define threshold: inventory should be at least 10% of sales\n",
    "threshold = 0.1 * sales\n",
    "\n",
    "# Find stores needing restock\n",
    "restock_mask = inventory < threshold\n",
    "stores_to_restock = store_ids[restock_mask]\n",
    "\n",
    "print(\"Stores needing restocking:\", stores_to_restock)"
   ]
  },
  {
   "cell_type": "code",
   "execution_count": 77,
   "id": "ee5843bd-6355-4ddb-bda3-e0d8905f99d0",
   "metadata": {},
   "outputs": [
    {
     "name": "stdout",
     "output_type": "stream",
     "text": [
      "Stores needing quality checks: [9]\n",
      "Return percentages: [0.05555556]\n"
     ]
    }
   ],
   "source": [
    "#27. Which stores show **high returns percentage** and might require **quality checks**?\n",
    "store_ids = retail_data[:, 0]\n",
    "sales = retail_data[:, 1]\n",
    "returns = retail_data[:, 4]\n",
    "\n",
    "# Calculate returns percentage\n",
    "returns_percentage = (returns / sales) * 100\n",
    "\n",
    "# Define threshold (e.g., >0.05%)\n",
    "threshold = 0.05\n",
    "quality_check_mask = returns_percentage > threshold\n",
    "\n",
    "# Stores needing quality check\n",
    "stores_quality_check = store_ids[quality_check_mask]\n",
    "print(\"Stores needing quality checks:\", stores_quality_check)\n",
    "print(\"Return percentages:\", returns_percentage[quality_check_mask])"
   ]
  },
  {
   "cell_type": "code",
   "execution_count": 72,
   "id": "787362e9-9689-4567-8d45-9be70aef100e",
   "metadata": {},
   "outputs": [
    {
     "name": "stdout",
     "output_type": "stream",
     "text": [
      "Best performing store overall: 9\n"
     ]
    }
   ],
   "source": [
    "#28. Which store is the **best performer overall** (sales, customers, inventory turnover)?\n",
    "store_ids = retail_data[:, 0]\n",
    "sales = retail_data[:, 1]\n",
    "customers = retail_data[:, 2]\n",
    "inventory = retail_data[:, 3]\n",
    "\n",
    "# Inventory turnover\n",
    "inv_turnover = sales / inventory\n",
    "\n",
    "# Normalize each metric (min-max scaling)\n",
    "sales_norm = (sales - sales.min()) / (sales.max() - sales.min())\n",
    "customers_norm = (customers - customers.min()) / (customers.max() - customers.min())\n",
    "inv_turnover_norm = (inv_turnover - inv_turnover.min()) / (inv_turnover.max() - inv_turnover.min())\n",
    "\n",
    "# Weighted score (equal weight for simplicity)\n",
    "score = (sales_norm + customers_norm + inv_turnover_norm) / 3\n",
    "\n",
    "# Find best performer\n",
    "best_store = store_ids[np.argmax(score)]\n",
    "\n",
    "print(\"Best performing store overall:\", int(best_store))"
   ]
  },
  {
   "cell_type": "code",
   "execution_count": 73,
   "id": "7adbfa9a-d283-4573-8f55-1bdea31439f9",
   "metadata": {},
   "outputs": [
    {
     "name": "stdout",
     "output_type": "stream",
     "text": [
      "Worst performing store overall: 1\n"
     ]
    }
   ],
   "source": [
    "#29. Which store is the **worst performer overall**?\n",
    "store_ids = retail_data[:, 0]\n",
    "sales = retail_data[:, 1]\n",
    "customers = retail_data[:, 2]\n",
    "inventory = retail_data[:, 3]\n",
    "\n",
    "# Inventory turnover\n",
    "inv_turnover = sales / inventory\n",
    "\n",
    "# Normalize each metric (min-max scaling)\n",
    "sales_norm = (sales - sales.min()) / (sales.max() - sales.min())\n",
    "customers_norm = (customers - customers.min()) / (customers.max() - customers.min())\n",
    "inv_turnover_norm = (inv_turnover - inv_turnover.min()) / (inv_turnover.max() - inv_turnover.min())\n",
    "\n",
    "# Weighted score (equal weight for simplicity)\n",
    "score = (sales_norm + customers_norm + inv_turnover_norm) / 3\n",
    "worst_store = store_ids[np.argmin(score)]\n",
    "\n",
    "print(\"Worst performing store overall:\", int(worst_store))"
   ]
  },
  {
   "cell_type": "code",
   "execution_count": 75,
   "id": "856cc2db-c4cd-49e6-b0c6-a45a900f7ccb",
   "metadata": {},
   "outputs": [
    {
     "name": "stdout",
     "output_type": "stream",
     "text": [
      "Stores recommended for expansion: [9 4 7]\n"
     ]
    }
   ],
   "source": [
    "#30. Which stores can be considered for **expansion** based on strong sales and customer metrics?\n",
    "store_ids = retail_data[:, 0]\n",
    "sales = retail_data[:, 1]\n",
    "customers = retail_data[:, 2]\n",
    "\n",
    "# Normalize\n",
    "sales_norm = (sales - sales.min()) / (sales.max() - sales.min())\n",
    "customers_norm = (customers - customers.min()) / (customers.max() - customers.min())\n",
    "\n",
    "# Combined score for expansion (equal weights)\n",
    "expansion_score = (sales_norm + customers_norm) / 2\n",
    "\n",
    "# Select top stores (e.g., top 3)\n",
    "top_expansion_indices = np.argsort(expansion_score)[-3:][::-1]\n",
    "stores_for_expansion = store_ids[top_expansion_indices]\n",
    "\n",
    "print(\"Stores recommended for expansion:\", stores_for_expansion)"
   ]
  },
  {
   "cell_type": "code",
   "execution_count": null,
   "id": "a5855260-bc75-4fad-ac9e-c76d33dfb6fd",
   "metadata": {},
   "outputs": [],
   "source": []
  }
 ],
 "metadata": {
  "kernelspec": {
   "display_name": "Python 3 (ipykernel)",
   "language": "python",
   "name": "python3"
  },
  "language_info": {
   "codemirror_mode": {
    "name": "ipython",
    "version": 3
   },
   "file_extension": ".py",
   "mimetype": "text/x-python",
   "name": "python",
   "nbconvert_exporter": "python",
   "pygments_lexer": "ipython3",
   "version": "3.13.5"
  }
 },
 "nbformat": 4,
 "nbformat_minor": 5
}
